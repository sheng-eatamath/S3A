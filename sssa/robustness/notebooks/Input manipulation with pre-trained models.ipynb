{
 "cells": [
  {
   "cell_type": "code",
   "execution_count": null,
   "metadata": {},
   "outputs": [],
   "source": [
    "ATTACK_EPS = 0.5\n",
    "ATTACK_STEPSIZE = 0.1\n",
    "ATTACK_STEPS = 10\n",
    "NUM_WORKERS = 8\n",
    "BATCH_SIZE = 10"
   ]
  },
  {
   "cell_type": "markdown",
   "metadata": {},
   "source": [
    "## Set up dataset"
   ]
  },
  {
   "cell_type": "code",
   "execution_count": null,
   "metadata": {},
   "outputs": [],
   "source": [
    "import torch as ch\n",
    "from robustness.datasets import CIFAR\n",
    "ds = CIFAR('/tmp')"
   ]
  },
  {
   "cell_type": "markdown",
   "metadata": {},
   "source": [
    "## Instantiate model"
   ]
  },
  {
   "cell_type": "code",
   "execution_count": null,
   "metadata": {},
   "outputs": [],
   "source": [
    "from robustness.model_utils import make_and_restore_model\n",
    "model, _ = make_and_restore_model(arch='resnet50', dataset=ds,\n",
    "             resume_path='/data/theory/robustopt/robust_models/cifar_l2_eps_05/checkpoint.pt.best')\n",
    "model.eval()\n",
    "pass"
   ]
  },
  {
   "cell_type": "markdown",
   "metadata": {},
   "source": [
    "## Set up loaders"
   ]
  },
  {
   "cell_type": "code",
   "execution_count": null,
   "metadata": {},
   "outputs": [],
   "source": [
    "_, test_loader = ds.make_loaders(workers=NUM_WORKERS, batch_size=BATCH_SIZE)\n",
    "_, (im, label) = next(enumerate(test_loader))"
   ]
  },
  {
   "cell_type": "markdown",
   "metadata": {},
   "source": [
    "## Generating untargeted adversarial examples"
   ]
  },
  {
   "cell_type": "code",
   "execution_count": null,
   "metadata": {},
   "outputs": [],
   "source": [
    "kwargs = {\n",
    "    'constraint':'2', # use L2-PGD\n",
    "    'eps': ATTACK_EPS, # L2 radius around original image\n",
    "    'step_size': ATTACK_STEPSIZE,\n",
    "    'iterations': ATTACK_STEPS,\n",
    "    'do_tqdm': True,\n",
    "}"
   ]
  },
  {
   "cell_type": "code",
   "execution_count": null,
   "metadata": {},
   "outputs": [],
   "source": [
    "_, im_adv = model(im, label, make_adv=True, **kwargs)"
   ]
  },
  {
   "cell_type": "code",
   "execution_count": null,
   "metadata": {},
   "outputs": [],
   "source": [
    "from robustness.tools.vis_tools import show_image_row\n",
    "from robustness.tools.label_maps import CLASS_DICT\n",
    "\n",
    "# Get predicted labels for adversarial examples\n",
    "pred, _ = model(im_adv)\n",
    "label_pred = ch.argmax(pred, dim=1)\n",
    "\n",
    "# Visualize test set images, along with corresponding adversarial examples\n",
    "show_image_row([im.cpu(), im_adv.cpu()],\n",
    "         tlist=[[CLASS_DICT['CIFAR'][int(t)] for t in l] for l in [label, label_pred]],\n",
    "         fontsize=18,\n",
    "         filename='./adversarial_example_CIFAR.png')"
   ]
  },
  {
   "cell_type": "markdown",
   "metadata": {},
   "source": [
    "## Targeted adversarial examples"
   ]
  },
  {
   "cell_type": "code",
   "execution_count": null,
   "metadata": {},
   "outputs": [],
   "source": [
    "kwargs = {\n",
    "    'constraint':'2',\n",
    "    'eps': ATTACK_EPS,\n",
    "    'step_size': ATTACK_STEPSIZE,\n",
    "    'iterations': ATTACK_STEPS,\n",
    "    'targeted': True,\n",
    "    'do_tqdm': True\n",
    "}"
   ]
  },
  {
   "cell_type": "code",
   "execution_count": null,
   "metadata": {},
   "outputs": [],
   "source": [
    "targ = ch.zeros_like(label)"
   ]
  },
  {
   "cell_type": "code",
   "execution_count": null,
   "metadata": {},
   "outputs": [],
   "source": [
    "_, im_adv = model(im, targ, make_adv=True, **kwargs)"
   ]
  },
  {
   "cell_type": "code",
   "execution_count": null,
   "metadata": {},
   "outputs": [],
   "source": [
    "# Visualize test set images, along with corresponding adversarial examples\n",
    "show_image_row([im.cpu(), im_adv.cpu()],\n",
    "         tlist=[[CLASS_DICT['CIFAR'][int(t)] for t in l] for l in [label, label_pred]],\n",
    "         fontsize=18,\n",
    "         filename='./adversarial_example_CIFAR.png')"
   ]
  },
  {
   "cell_type": "markdown",
   "metadata": {},
   "source": [
    "## Custom Input Manipulation (Representation Inversion)"
   ]
  },
  {
   "cell_type": "code",
   "execution_count": null,
   "metadata": {},
   "outputs": [],
   "source": [
    "_, (im_inv, label_inv) = next(enumerate(test_loader)) # Images to invert\n",
    "with ch.no_grad():\n",
    "    (_, rep_inv), _ = model(im_inv, with_latent=True) # Corresponding representation"
   ]
  },
  {
   "cell_type": "code",
   "execution_count": null,
   "metadata": {},
   "outputs": [],
   "source": [
    "def inversion_loss(model, inp, targ):\n",
    "    # Compute representation for the input\n",
    "    _, rep = model(inp, with_latent=True, fake_relu=True)\n",
    "    # Normalized L2 error w.r.t. the target representation\n",
    "    loss = ch.div(ch.norm(rep - targ, dim=1), ch.norm(targ, dim=1))\n",
    "    return loss, None"
   ]
  },
  {
   "cell_type": "code",
   "execution_count": null,
   "metadata": {},
   "outputs": [],
   "source": [
    "kwargs = {\n",
    "    'custom_loss': inversion_loss,\n",
    "    'constraint':'2',\n",
    "    'eps': 1000,\n",
    "    'step_size': 1,\n",
    "    'iterations': 1000,\n",
    "    'targeted': True,\n",
    "    'do_tqdm': True,\n",
    "}"
   ]
  },
  {
   "cell_type": "code",
   "execution_count": null,
   "metadata": {},
   "outputs": [],
   "source": [
    "im_seed = ch.clamp(ch.randn_like(im_inv) / 20 + 0.5, 0, 1)"
   ]
  },
  {
   "cell_type": "code",
   "execution_count": null,
   "metadata": {},
   "outputs": [],
   "source": [
    "_, im_matched = model(im_seed, rep_inv, make_adv=True, **kwargs)"
   ]
  },
  {
   "cell_type": "code",
   "execution_count": null,
   "metadata": {},
   "outputs": [],
   "source": [
    "show_image_row([im_inv.cpu(), im_seed.cpu(), im_matched.cpu()],\n",
    "         [\"Original\", r\"Seed ($x_0$)\", \"Result\"],\n",
    "         fontsize=18,\n",
    "         filename='./custom_inversion_CIFAR.png')"
   ]
  },
  {
   "cell_type": "markdown",
   "metadata": {},
   "source": [
    "## Other optimization methods (example: Fourier basis)"
   ]
  },
  {
   "cell_type": "code",
   "execution_count": null,
   "metadata": {},
   "outputs": [],
   "source": [
    "kwargs = {\n",
    "  'custom_loss': inversion_loss,\n",
    "  'constraint':'fourier',\n",
    "  'eps': 1000, # ignored anyways\n",
    "  'step_size':  500, # have to re-tune LR\n",
    "  'iterations': 10000,\n",
    "  'targeted': True,\n",
    "  'do_tqdm': True,\n",
    "}"
   ]
  },
  {
   "cell_type": "code",
   "execution_count": null,
   "metadata": {},
   "outputs": [],
   "source": [
    "im_seed = ch.randn(BATCH_SIZE, 3, 32, 32, 2) / 5"
   ]
  },
  {
   "cell_type": "code",
   "execution_count": null,
   "metadata": {},
   "outputs": [],
   "source": [
    "_, im_matched = model(im_seed, rep_inv, make_adv=True, **kwargs)"
   ]
  },
  {
   "cell_type": "code",
   "execution_count": null,
   "metadata": {},
   "outputs": [],
   "source": [
    "show_image_row([im_inv.cpu(), im_matched.cpu()],\n",
    "         [\"Original\", \"Result\"],\n",
    "         fontsize=18,\n",
    "         filename='./custom_inversion_CIFAR_fourier.png')"
   ]
  }
 ],
 "metadata": {
  "kernelspec": {
   "display_name": "Python 3",
   "language": "python",
   "name": "python3"
  },
  "language_info": {
   "codemirror_mode": {
    "name": "ipython",
    "version": 3
   },
   "file_extension": ".py",
   "mimetype": "text/x-python",
   "name": "python",
   "nbconvert_exporter": "python",
   "pygments_lexer": "ipython3",
   "version": "3.6.8"
  }
 },
 "nbformat": 4,
 "nbformat_minor": 2
}
