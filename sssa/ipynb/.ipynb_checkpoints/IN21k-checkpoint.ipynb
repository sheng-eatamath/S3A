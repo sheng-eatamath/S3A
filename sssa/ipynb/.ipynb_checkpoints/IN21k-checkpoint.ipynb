{
 "cells": [
  {
   "cell_type": "code",
   "execution_count": 10,
   "id": "c18df8d4-c384-4612-95e2-3904a7dc2b2a",
   "metadata": {},
   "outputs": [],
   "source": [
    "import os\n",
    "import pickle\n",
    "import numpy as np"
   ]
  },
  {
   "cell_type": "code",
   "execution_count": 2,
   "id": "d2b641c0-6520-4a79-a736-479069ac9e70",
   "metadata": {},
   "outputs": [],
   "source": [
    "synsets = os.listdir('/home/sheng/disk2/dataset/imagenet21k_resized/imagenet21k_val')"
   ]
  },
  {
   "cell_type": "code",
   "execution_count": 4,
   "id": "245182d5-35a0-4efe-941a-48f3528bfb6a",
   "metadata": {},
   "outputs": [],
   "source": [
    "with open('./cache/in21k-synsets.pkl', 'wb') as f:\n",
    "    pickle.dump(synsets, f)"
   ]
  },
  {
   "cell_type": "code",
   "execution_count": 17,
   "id": "c00c9211-2231-401b-8a7f-94eac7da88f5",
   "metadata": {},
   "outputs": [],
   "source": [
    "np.random.seed(0)\n",
    "synsets = np.random.choice(synsets, size=100, replace=False)"
   ]
  },
  {
   "cell_type": "code",
   "execution_count": 18,
   "id": "3f491514-7ac5-4608-aab9-e3f7e68d720e",
   "metadata": {},
   "outputs": [],
   "source": [
    "import torch "
   ]
  },
  {
   "cell_type": "code",
   "execution_count": 19,
   "id": "edb01dd8-8862-462c-a885-be2d9aa37f08",
   "metadata": {},
   "outputs": [],
   "source": [
    "chkpt = torch.load('/home/sheng/MUST-output/make_nonliving26/baseline-04_22_1/checkpoint-current.pth')"
   ]
  },
  {
   "cell_type": "code",
   "execution_count": 2,
   "id": "b7d06726-366e-41e4-ac9a-8c13bbf64422",
   "metadata": {},
   "outputs": [
    {
     "name": "stdout",
     "output_type": "stream",
     "text": [
      "{'id': 'c198203f-e47b-448a-bf15-d9f44e0e215e', 'output_url': 'https://api.deepai.org/job-view-file/c198203f-e47b-448a-bf15-d9f44e0e215e/outputs/output.jpg'}\n"
     ]
    }
   ],
   "source": [
    "import requests\n",
    "r = requests.post(\n",
    "    \"https://api.deepai.org/api/text2img\",\n",
    "    data={\n",
    "        'text': 'a photo of academic_gown.n.01: a gown worn by academics or judges',\n",
    "    },\n",
    "    headers={'api-key': '4bb34e5b-b7a6-4b8e-ac96-08ac0d0f1bca'}\n",
    ")\n",
    "print(r.json())"
   ]
  },
  {
   "cell_type": "code",
   "execution_count": 204,
   "id": "4c406ad9-3f8e-472d-8b37-e91f8e5dfde5",
   "metadata": {},
   "outputs": [],
   "source": [
    "import os\n",
    "import numpy as np\n",
    "from PIL import Image\n",
    "import torch\n",
    "import torchvision.transforms as transforms\n",
    "from lvis import LVIS\n",
    "\n",
    "class LVISDataset(torch.utils.data.Dataset):\n",
    "    def __init__(self, root_dir, split, transform=None, \n",
    "                 pad_ratio=0.2, pad_min=15, pad_max=20, vocab=None):\n",
    "        self.root_dir = root_dir\n",
    "        self.split = split\n",
    "        self.transform = transform\n",
    "        self.pad_ratio = pad_ratio\n",
    "        self.pad_min = pad_min\n",
    "        self.pad_max = pad_max\n",
    "        self.vocab = vocab\n",
    "        \n",
    "        self.ann_fpath = os.path.join(self.root_dir, f'lvis_v1_{split}.json')\n",
    "        self.lvis = LVIS(self.ann_fpath)\n",
    "        self.img_ids = self.lvis.get_img_ids()\n",
    "        self.all_img_ids = None\n",
    "        self.all_ann_ids = None\n",
    "        self.all_synset_ids = None\n",
    "        self.compute_img_ids_and_ann_ids()\n",
    "        extract_name = lambda y: list(map(lambda x: x.split('.')[0], y))\n",
    "        self.mapping_labels_clu = dict(zip(\n",
    "            list(set(extract_name(self.all_synset_ids))), \n",
    "            range(len(set(extract_name(self.all_synset_ids))))\n",
    "        ))\n",
    "        if self.vocab is not None:\n",
    "            self.mapping_labels_voc = dict(zip(\n",
    "                list(set(extract_name(self.all_synset_ids))),\n",
    "                map(lambda x: self.vocab.mapping_names_idx[x], list(set(extract_name(self.all_synset_ids))))\n",
    "            ))\n",
    "        else:\n",
    "            self.mapping_labels_voc = None\n",
    "        return \n",
    "\n",
    "    def __len__(self):\n",
    "        return len(self.lvis.get_ann_ids(img_ids=self.img_ids))\n",
    "\n",
    "    def __getitem__(self, index):\n",
    "        img_id, ann_id, synset = self.all_img_ids[index], self.all_ann_ids[index], self.all_synset_ids[index]\n",
    "        ### load img\n",
    "        img_info = self.lvis.load_imgs([img_id])[0]['coco_url'].split('/')[-1]\n",
    "        img_path = os.path.join(self.root_dir, self.split+'2017', img_info)\n",
    "        img = Image.open(img_path).convert('RGB')\n",
    "\n",
    "        # Get the bounding box and category information\n",
    "        ann = self.lvis.load_anns([ann_id])[0]\n",
    "        [left, top, width, height] = ann['bbox']\n",
    "        label = ann['category_id']\n",
    "\n",
    "        # Crop the image according to the bounding box\n",
    "        cropped_img = img.crop([\n",
    "            max(0, left-max(self.pad_min, min(self.pad_max, self.pad_ratio*width))), \n",
    "            max(0, top-max(self.pad_min, min(self.pad_max, self.pad_ratio*height))), \n",
    "            min(img.size[0], left+width+max(self.pad_min, min(self.pad_max, self.pad_ratio*width))), \n",
    "            min(img.size[1], top+height+max(self.pad_min, min(self.pad_max, self.pad_ratio*height))),\n",
    "        ])\n",
    "\n",
    "        if self.transform:\n",
    "            cropped_img = self.transform(cropped_img)\n",
    "        \n",
    "        label_clu = self.mapping_labels_clu[synset.split('.')[0]]\n",
    "        if self.vocab is not None:\n",
    "            label_voc = self.mapping_labels_voc[synset.split('.')[0]]\n",
    "        else:\n",
    "            label_voc = None\n",
    "        idx_img = index\n",
    "        result = [cropped_img, label_voc, label_clu, idx_img]\n",
    "        return result\n",
    "\n",
    "    def compute_img_ids_and_ann_ids(self):\n",
    "        all_img_ids = []\n",
    "        all_ann_ids = []\n",
    "        all_synset_ids = []\n",
    "        for img_id in self.img_ids:\n",
    "            ann_ids = self.lvis.get_ann_ids(img_ids=[img_id])\n",
    "            anns = self.lvis.load_anns(ann_ids)\n",
    "            cat_ids = list(map(lambda x: x['category_id'], anns))\n",
    "            synsets = list(map(lambda x: x['synset'], self.lvis.load_cats(cat_ids)))\n",
    "            all_ann_ids.extend(ann_ids)\n",
    "            all_img_ids.extend([img_id for _ in range(len(ann_ids))])\n",
    "            all_synset_ids.extend(synsets)\n",
    "        self.all_img_ids = all_img_ids\n",
    "        self.all_ann_ids = all_ann_ids\n",
    "        self.all_synset_ids = all_synset_ids\n",
    "        return \n"
   ]
  },
  {
   "cell_type": "code",
   "execution_count": 207,
   "id": "4b2c5539-9963-47a2-a1dd-0f23103fa92b",
   "metadata": {
    "scrolled": true,
    "tags": []
   },
   "outputs": [],
   "source": [
    "d = LVISDataset(root_dir='/home/sheng/dataset/LVIS', split='train', transform=None, \n",
    "                pad_ratio=0.2, pad_min=30, pad_max=40)"
   ]
  },
  {
   "cell_type": "code",
   "execution_count": 55,
   "id": "7db31ffc-14b9-463c-801a-db986c027e44",
   "metadata": {},
   "outputs": [
    {
     "data": {
      "text/plain": [
       "dict_keys(['area', 'id', 'segmentation', 'image_id', 'bbox', 'category_id'])"
      ]
     },
     "execution_count": 55,
     "metadata": {},
     "output_type": "execute_result"
    }
   ],
   "source": [
    "lvis.load_anns([d.all_ann_ids[0]])[0].keys()"
   ]
  },
  {
   "cell_type": "code",
   "execution_count": null,
   "id": "03a7f132-0e51-4550-81d6-2802d4c68562",
   "metadata": {
    "tags": []
   },
   "outputs": [],
   "source": [
    "d.pad_min = 15\n",
    "d.pad_max = 20\n",
    "idx= 1249\n",
    "print(d[idx][2])\n",
    "d[idx]"
   ]
  },
  {
   "cell_type": "code",
   "execution_count": 97,
   "id": "b242faf1-49fc-45fd-9b69-48dcdcf9ea08",
   "metadata": {},
   "outputs": [],
   "source": [
    "img = Image.open('/home/sheng/dataset/LVIS/val2017/000000340175.jpg').convert('RGB')"
   ]
  },
  {
   "cell_type": "code",
   "execution_count": 212,
   "id": "c296d099-0cf3-4629-bafd-09fb37ea1a9a",
   "metadata": {},
   "outputs": [
    {
     "data": {
      "text/plain": [
       "True"
      ]
     },
     "execution_count": 212,
     "metadata": {},
     "output_type": "execute_result"
    }
   ],
   "source": [
    "'hardback.n.01' in d.all_synset_ids\n",
    "extract_name = lambda y: list(map(lambda x: x.split('.')[0], y))\n",
    "'hardback' in list(set(extract_name(d.all_synset_ids)))"
   ]
  },
  {
   "cell_type": "code",
   "execution_count": 224,
   "id": "8fabab20-5ff8-4543-a895-67a57f4f7c3e",
   "metadata": {},
   "outputs": [],
   "source": [
    "anns = d.lvis.load_anns(d.all_ann_ids)"
   ]
  },
  {
   "cell_type": "code",
   "execution_count": 228,
   "id": "dce52da5-112d-4526-830e-35c12c0f2d1d",
   "metadata": {},
   "outputs": [],
   "source": [
    "cates = map(lambda x: x['category_id'], anns)\n",
    "cates = d.lvis.load_cats(list(set(cates)))"
   ]
  },
  {
   "cell_type": "code",
   "execution_count": 232,
   "id": "843da014-4c58-4f8a-8ba6-deec7fa97e97",
   "metadata": {
    "scrolled": true,
    "tags": []
   },
   "outputs": [],
   "source": [
    "all_synsets = list(map(lambda x: x['synset'], cates))"
   ]
  },
  {
   "cell_type": "code",
   "execution_count": 234,
   "id": "5e009157-da4d-4abe-9b8a-40c93c418b7d",
   "metadata": {},
   "outputs": [
    {
     "data": {
      "text/plain": [
       "True"
      ]
     },
     "execution_count": 234,
     "metadata": {},
     "output_type": "execute_result"
    }
   ],
   "source": [
    "set(all_synsets)==set(d.all_synset_ids)"
   ]
  },
  {
   "cell_type": "code",
   "execution_count": 230,
   "id": "cd24e0c0-5492-4358-bb29-9125b3bd097f",
   "metadata": {},
   "outputs": [
    {
     "data": {
      "text/plain": [
       "[]"
      ]
     },
     "execution_count": 230,
     "metadata": {},
     "output_type": "execute_result"
    }
   ],
   "source": [
    "list(filter(lambda x: '.n.' not in x['synset'], cates))"
   ]
  },
  {
   "cell_type": "code",
   "execution_count": 251,
   "id": "b47626b8-46bc-4b7d-b2df-d52b1000fb17",
   "metadata": {},
   "outputs": [],
   "source": [
    "from wordnet_utils import *\n",
    "def read_imagenet21k_classes():\n",
    "    with open('/home/sheng/dataset/imagenet21k/imagenet21k_wordnet_ids.txt', 'r') as f:\n",
    "        data = f.read()\n",
    "        data = list(filter(lambda x: len(x), data.split('\\n')))\n",
    "    return data\n",
    "\n",
    "classes = read_imagenet21k_classes() + os.listdir('/home/sheng/dataset/imagenet-img/')\n",
    "classes = [wn.synset_from_pos_and_offset('n', int(x[1:])).name() for x in classes] + d.all_synset_ids\n",
    "\n",
    "classes = list(set(classes))\n",
    "\n",
    "with open('/home/sheng/dataset/imagenet21k/lvis_imagenet21k_wordnet_ids.txt', 'w') as f:\n",
    "    f.write('\\n'.join(classes))"
   ]
  },
  {
   "cell_type": "code",
   "execution_count": 242,
   "id": "2bfd2bd8-b449-434e-98a0-ba776f054d9d",
   "metadata": {},
   "outputs": [],
   "source": [
    "\n",
    "synsets = list(map(lambda x: x.split('.')[0], set(d.all_synset_ids)))"
   ]
  },
  {
   "cell_type": "code",
   "execution_count": 246,
   "id": "7e6dc760-3a44-4b99-9884-14f57f4e3d55",
   "metadata": {},
   "outputs": [
    {
     "data": {
      "text/plain": [
       "(1203, 1178)"
      ]
     },
     "execution_count": 246,
     "metadata": {},
     "output_type": "execute_result"
    }
   ],
   "source": [
    "len(synsets), len(set(synsets))"
   ]
  },
  {
   "cell_type": "code",
   "execution_count": 3,
   "id": "0971eeb5-0957-45e1-96ca-ba795e0dae2e",
   "metadata": {
    "scrolled": true,
    "tags": []
   },
   "outputs": [
    {
     "ename": "AttributeError",
     "evalue": "'NoneType' object has no attribute 'find_all'",
     "output_type": "error",
     "traceback": [
      "\u001b[0;31m---------------------------------------------------------------------------\u001b[0m",
      "\u001b[0;31mAttributeError\u001b[0m                            Traceback (most recent call last)",
      "Input \u001b[0;32mIn [3]\u001b[0m, in \u001b[0;36m<cell line: 23>\u001b[0;34m()\u001b[0m\n\u001b[1;32m     21\u001b[0m \u001b[38;5;66;03m# extract all the bird species names from the table\u001b[39;00m\n\u001b[1;32m     22\u001b[0m bird_species \u001b[38;5;241m=\u001b[39m []\n\u001b[0;32m---> 23\u001b[0m \u001b[38;5;28;01mfor\u001b[39;00m row \u001b[38;5;129;01min\u001b[39;00m \u001b[43mtable\u001b[49m\u001b[38;5;241;43m.\u001b[39;49m\u001b[43mfind_all\u001b[49m(\u001b[38;5;124m'\u001b[39m\u001b[38;5;124mtr\u001b[39m\u001b[38;5;124m'\u001b[39m)[\u001b[38;5;241m1\u001b[39m:]:\n\u001b[1;32m     24\u001b[0m     cells \u001b[38;5;241m=\u001b[39m row\u001b[38;5;241m.\u001b[39mfind_all(\u001b[38;5;124m'\u001b[39m\u001b[38;5;124mtd\u001b[39m\u001b[38;5;124m'\u001b[39m)\n\u001b[1;32m     25\u001b[0m     name \u001b[38;5;241m=\u001b[39m cells[\u001b[38;5;241m0\u001b[39m]\u001b[38;5;241m.\u001b[39mtext\u001b[38;5;241m.\u001b[39mstrip()\n",
      "\u001b[0;31mAttributeError\u001b[0m: 'NoneType' object has no attribute 'find_all'"
     ]
    }
   ],
   "source": [
    "import requests\n",
    "from bs4 import BeautifulSoup\n",
    "\n",
    "# send a request to the Wikipedia page on \"List of bird species\"\n",
    "response = requests.get('https://en.wikipedia.org/wiki/List_of_bird_species')\n",
    "\n",
    "# parse the HTML content of the page using Beautiful Soup\n",
    "soup = BeautifulSoup(response.content, 'html.parser')\n",
    "\n",
    "# find all the tables with class 'wikitable sortable'\n",
    "tables = soup.find_all('table', {'class': 'wikitable sortable'})\n",
    "\n",
    "# assume the table with the bird species has the most rows\n",
    "max_rows = 0\n",
    "for table in tables:\n",
    "    rows = table.find_all('tr')\n",
    "    if len(rows) > max_rows:\n",
    "        max_rows = len(rows)\n",
    "        bird_table = table\n",
    "\n",
    "# extract all the bird species names from the table\n",
    "bird_species = []\n",
    "for row in table.find_all('tr')[1:]:\n",
    "    cells = row.find_all('td')\n",
    "    name = cells[0].text.strip()\n",
    "    bird_species.append(name)\n",
    "\n",
    "# print the list of bird species names\n",
    "print(len(bird_species))\n"
   ]
  },
  {
   "cell_type": "code",
   "execution_count": 9,
   "id": "ef29f8dd-8e3f-464a-938d-3c2b08702638",
   "metadata": {},
   "outputs": [],
   "source": [
    "import os \n",
    "import numpy as np\n",
    "from torchvision.datasets import CIFAR10, CIFAR100\n",
    "from nltk.corpus import wordnet as wn"
   ]
  },
  {
   "cell_type": "code",
   "execution_count": 2,
   "id": "48126f8c-e021-43a2-b687-7ef0e4979634",
   "metadata": {},
   "outputs": [],
   "source": [
    "d = CIFAR100(root='/home/sheng/dataset/CIFAR100/', train=True)"
   ]
  },
  {
   "cell_type": "code",
   "execution_count": 4,
   "id": "e6a977c3-7128-4625-b038-3557d5489b81",
   "metadata": {},
   "outputs": [],
   "source": [
    "candidates = [wn.synsets(c) for c in d.classes]"
   ]
  },
  {
   "cell_type": "code",
   "execution_count": 60,
   "id": "44f20d71-3015-4a40-9484-473ab019dd2e",
   "metadata": {},
   "outputs": [
    {
     "data": {
      "text/plain": [
       "[[Synset('apple.n.01'), Synset('apple.n.02')],\n",
       " [],\n",
       " [Synset('baby.n.01'),\n",
       "  Synset('baby.n.02'),\n",
       "  Synset('child.n.03'),\n",
       "  Synset('baby.n.04'),\n",
       "  Synset('baby.n.05'),\n",
       "  Synset('baby.n.06'),\n",
       "  Synset('baby.n.07'),\n",
       "  Synset('pamper.v.01')],\n",
       " [Synset('bear.n.01'),\n",
       "  Synset('bear.n.02'),\n",
       "  Synset('bear.v.01'),\n",
       "  Synset('give_birth.v.01'),\n",
       "  Synset('digest.v.03'),\n",
       "  Synset('bear.v.04'),\n",
       "  Synset('bear.v.05'),\n",
       "  Synset('bear.v.06'),\n",
       "  Synset('hold.v.11'),\n",
       "  Synset('yield.v.10'),\n",
       "  Synset('wear.v.02'),\n",
       "  Synset('behave.v.02'),\n",
       "  Synset('bear.v.11'),\n",
       "  Synset('hold.v.14'),\n",
       "  Synset('have_a_bun_in_the_oven.v.01')],\n",
       " [Synset('beaver.n.01'),\n",
       "  Synset('oregonian.n.01'),\n",
       "  Synset('beaver.n.03'),\n",
       "  Synset('dress_hat.n.01'),\n",
       "  Synset('beaver.n.05'),\n",
       "  Synset('beaver.n.06'),\n",
       "  Synset('beaver.n.07'),\n",
       "  Synset('beaver.v.01')],\n",
       " [Synset('bed.n.01'),\n",
       "  Synset('bed.n.02'),\n",
       "  Synset('bed.n.03'),\n",
       "  Synset('bed.n.04'),\n",
       "  Synset('seam.n.03'),\n",
       "  Synset('layer.n.01'),\n",
       "  Synset('bed.n.07'),\n",
       "  Synset('bed.n.08'),\n",
       "  Synset('bed.v.01'),\n",
       "  Synset('bed.v.02'),\n",
       "  Synset('bed.v.03'),\n",
       "  Synset('sleep_together.v.01'),\n",
       "  Synset('go_to_bed.v.01')],\n",
       " [Synset('bee.n.01'), Synset('bee.n.02')],\n",
       " [Synset('beetle.n.01'),\n",
       "  Synset('mallet.n.03'),\n",
       "  Synset('overhang.v.02'),\n",
       "  Synset('beetle.v.02'),\n",
       "  Synset('beetle.v.03'),\n",
       "  Synset('beetle.s.01')],\n",
       " [Synset('bicycle.n.01'), Synset('bicycle.v.01')],\n",
       " [Synset('bottle.n.01'),\n",
       "  Synset('bottle.n.02'),\n",
       "  Synset('bottle.n.03'),\n",
       "  Synset('bottle.v.01'),\n",
       "  Synset('bottle.v.02')],\n",
       " [Synset('bowl.n.01'),\n",
       "  Synset('bowl.n.02'),\n",
       "  Synset('bowl.n.03'),\n",
       "  Synset('bowl.n.04'),\n",
       "  Synset('stadium.n.01'),\n",
       "  Synset('bowling_ball.n.01'),\n",
       "  Synset('bowl.n.07'),\n",
       "  Synset('bowl.n.08'),\n",
       "  Synset('roll.n.15'),\n",
       "  Synset('bowl.v.01'),\n",
       "  Synset('bowl.v.02'),\n",
       "  Synset('bowl.v.03')],\n",
       " [Synset('male_child.n.01'),\n",
       "  Synset('boy.n.02'),\n",
       "  Synset('son.n.01'),\n",
       "  Synset('boy.n.04')],\n",
       " [Synset('bridge.n.01'),\n",
       "  Synset('bridge.n.02'),\n",
       "  Synset('bridge.n.03'),\n",
       "  Synset('bridge.n.04'),\n",
       "  Synset('bridge.n.05'),\n",
       "  Synset('bridge.n.06'),\n",
       "  Synset('bridge.n.07'),\n",
       "  Synset('bridge.n.08'),\n",
       "  Synset('bridge.n.09'),\n",
       "  Synset('bridge.v.01'),\n",
       "  Synset('bridge.v.02'),\n",
       "  Synset('bridge.v.03')],\n",
       " [Synset('bus.n.01'),\n",
       "  Synset('bus_topology.n.01'),\n",
       "  Synset('busbar.n.01'),\n",
       "  Synset('bus.n.04'),\n",
       "  Synset('bus.v.01'),\n",
       "  Synset('bus.v.02'),\n",
       "  Synset('bus.v.03')],\n",
       " [Synset('butterfly.n.01'),\n",
       "  Synset('butterfly.n.02'),\n",
       "  Synset('butterfly.v.01'),\n",
       "  Synset('butterfly.v.02'),\n",
       "  Synset('chat_up.v.01')],\n",
       " [Synset('camel.n.01')],\n",
       " [Synset('can.n.01'),\n",
       "  Synset('can.n.02'),\n",
       "  Synset('can.n.03'),\n",
       "  Synset('buttocks.n.01'),\n",
       "  Synset('toilet.n.02'),\n",
       "  Synset('toilet.n.01'),\n",
       "  Synset('can.v.01'),\n",
       "  Synset('displace.v.03')],\n",
       " [Synset('palace.n.01'),\n",
       "  Synset('castle.n.02'),\n",
       "  Synset('castle.n.03'),\n",
       "  Synset('castle.n.04'),\n",
       "  Synset('castle.v.01')],\n",
       " [Synset('caterpillar.n.01'), Synset('caterpillar.n.02')],\n",
       " [Synset('cattle.n.01')],\n",
       " [Synset('chair.n.01'),\n",
       "  Synset('professorship.n.01'),\n",
       "  Synset('president.n.04'),\n",
       "  Synset('electric_chair.n.01'),\n",
       "  Synset('chair.n.05'),\n",
       "  Synset('chair.v.01'),\n",
       "  Synset('moderate.v.01')],\n",
       " [Synset('chimpanzee.n.01')],\n",
       " [Synset('clock.n.01'), Synset('clock.v.01')],\n",
       " [Synset('cloud.n.01'),\n",
       "  Synset('cloud.n.02'),\n",
       "  Synset('cloud.n.03'),\n",
       "  Synset('cloud.n.04'),\n",
       "  Synset('cloud.n.05'),\n",
       "  Synset('swarm.n.02'),\n",
       "  Synset('overcast.v.01'),\n",
       "  Synset('obscure.v.01'),\n",
       "  Synset('cloud.v.03'),\n",
       "  Synset('cloud.v.04'),\n",
       "  Synset('defile.v.01'),\n",
       "  Synset('cloud.v.06'),\n",
       "  Synset('mottle.v.02'),\n",
       "  Synset('cloud.v.08')],\n",
       " [Synset('cockroach.n.01')],\n",
       " [Synset('sofa.n.01'),\n",
       "  Synset('couch.n.02'),\n",
       "  Synset('couch.n.03'),\n",
       "  Synset('frame.v.04')],\n",
       " [Synset('crab.n.01'),\n",
       "  Synset('crab.n.02'),\n",
       "  Synset('cancer.n.02'),\n",
       "  Synset('cancer.n.04'),\n",
       "  Synset('crab.n.05'),\n",
       "  Synset('crab_louse.n.01'),\n",
       "  Synset('crab.n.07'),\n",
       "  Synset('crab.v.01'),\n",
       "  Synset('crab.v.02'),\n",
       "  Synset('crab.v.03'),\n",
       "  Synset('gripe.v.01')],\n",
       " [Synset('crocodile.n.01')],\n",
       " [Synset('cup.n.01'),\n",
       "  Synset('cup.n.02'),\n",
       "  Synset('cup.n.03'),\n",
       "  Synset('cup.n.04'),\n",
       "  Synset('cup.n.05'),\n",
       "  Synset('cup.n.06'),\n",
       "  Synset('cup.n.07'),\n",
       "  Synset('cup.n.08'),\n",
       "  Synset('cup.v.01'),\n",
       "  Synset('cup.v.02'),\n",
       "  Synset('cup.v.03')],\n",
       " [Synset('dinosaur.n.01')],\n",
       " [Synset('dolphinfish.n.02'), Synset('dolphin.n.02')],\n",
       " [Synset('elephant.n.01'), Synset('elephant.n.02')],\n",
       " [Synset('flatfish.n.01'), Synset('flatfish.n.02')],\n",
       " [Synset('forest.n.01'), Synset('forest.n.02'), Synset('afforest.v.01')],\n",
       " [Synset('fox.n.01'),\n",
       "  Synset('dodger.n.01'),\n",
       "  Synset('fox.n.03'),\n",
       "  Synset('fox.n.04'),\n",
       "  Synset('fox.n.05'),\n",
       "  Synset('fox.n.06'),\n",
       "  Synset('fox.n.07'),\n",
       "  Synset('flim-flam.v.01'),\n",
       "  Synset('confuse.v.02'),\n",
       "  Synset('fox.v.03')],\n",
       " [Synset('girl.n.01'),\n",
       "  Synset('female_child.n.01'),\n",
       "  Synset('daughter.n.01'),\n",
       "  Synset('girlfriend.n.02'),\n",
       "  Synset('girl.n.05')],\n",
       " [Synset('hamster.n.01')],\n",
       " [Synset('house.n.01'),\n",
       "  Synset('firm.n.01'),\n",
       "  Synset('house.n.03'),\n",
       "  Synset('house.n.04'),\n",
       "  Synset('house.n.05'),\n",
       "  Synset('house.n.06'),\n",
       "  Synset('house.n.07'),\n",
       "  Synset('sign_of_the_zodiac.n.01'),\n",
       "  Synset('house.n.09'),\n",
       "  Synset('family.n.01'),\n",
       "  Synset('theater.n.01'),\n",
       "  Synset('house.n.12'),\n",
       "  Synset('house.v.01'),\n",
       "  Synset('house.v.02')],\n",
       " [Synset('kangaroo.n.01')],\n",
       " [Synset('keyboard.n.01'), Synset('keyboard.n.02')],\n",
       " [Synset('lamp.n.01'), Synset('lamp.n.02')],\n",
       " [Synset('lawn_mower.n.01')],\n",
       " [Synset('leopard.n.01'), Synset('leopard.n.02')],\n",
       " [Synset('lion.n.01'),\n",
       "  Synset('lion.n.02'),\n",
       "  Synset('leo.n.01'),\n",
       "  Synset('leo.n.03')],\n",
       " [Synset('lizard.n.01'), Synset('lounge_lizard.n.01')],\n",
       " [Synset('lobster.n.01'), Synset('lobster.n.02')],\n",
       " [Synset('man.n.01'),\n",
       "  Synset('serviceman.n.01'),\n",
       "  Synset('man.n.03'),\n",
       "  Synset('homo.n.02'),\n",
       "  Synset('man.n.05'),\n",
       "  Synset('man.n.06'),\n",
       "  Synset('valet.n.01'),\n",
       "  Synset('man.n.08'),\n",
       "  Synset('man.n.09'),\n",
       "  Synset('man.n.10'),\n",
       "  Synset('world.n.08'),\n",
       "  Synset('man.v.01'),\n",
       "  Synset('man.v.02')],\n",
       " [],\n",
       " [Synset('motorcycle.n.01'), Synset('motorbike.v.01')],\n",
       " [Synset('mountain.n.01'), Synset('batch.n.02')],\n",
       " [Synset('mouse.n.01'),\n",
       "  Synset('shiner.n.01'),\n",
       "  Synset('mouse.n.03'),\n",
       "  Synset('mouse.n.04'),\n",
       "  Synset('sneak.v.01'),\n",
       "  Synset('mouse.v.02')],\n",
       " [Synset('mushroom.n.01'),\n",
       "  Synset('mushroom.n.02'),\n",
       "  Synset('mushroom.n.03'),\n",
       "  Synset('mushroom.n.04'),\n",
       "  Synset('mushroom.n.05'),\n",
       "  Synset('mushroom.v.01'),\n",
       "  Synset('mushroom.v.02')],\n",
       " [Synset('oak.n.02')],\n",
       " [Synset('orange.n.01'),\n",
       "  Synset('orange.n.02'),\n",
       "  Synset('orange.n.03'),\n",
       "  Synset('orange.n.04'),\n",
       "  Synset('orange.n.05'),\n",
       "  Synset('orange.s.01')],\n",
       " [Synset('orchid.n.01')],\n",
       " [Synset('otter.n.01'), Synset('otter.n.02')],\n",
       " [Synset('palm.n.03')],\n",
       " [Synset('pear.n.01'), Synset('pear.n.02')],\n",
       " [Synset('pickup.n.01')],\n",
       " [Synset('pine.n.01')],\n",
       " [Synset('plain.n.01'),\n",
       "  Synset('knit.n.02'),\n",
       "  Synset('complain.v.01'),\n",
       "  Synset('apparent.s.01'),\n",
       "  Synset('plain.a.02'),\n",
       "  Synset('plain.a.03'),\n",
       "  Synset('plain.s.04'),\n",
       "  Synset('plain.s.05'),\n",
       "  Synset('plain.s.06'),\n",
       "  Synset('homely.s.01'),\n",
       "  Synset('obviously.r.01')],\n",
       " [Synset('home_plate.n.01'),\n",
       "  Synset('plate.n.02'),\n",
       "  Synset('plate.n.03'),\n",
       "  Synset('plate.n.04'),\n",
       "  Synset('plate.n.05'),\n",
       "  Synset('plate.n.06'),\n",
       "  Synset('plate.n.07'),\n",
       "  Synset('plate.n.08'),\n",
       "  Synset('plate.n.09'),\n",
       "  Synset('plate.n.10'),\n",
       "  Synset('plate.n.11'),\n",
       "  Synset('plate.n.12'),\n",
       "  Synset('plate.n.13'),\n",
       "  Synset('plate.n.14'),\n",
       "  Synset('denture.n.01'),\n",
       "  Synset('plate.v.01')],\n",
       " [Synset('poppy.n.01')],\n",
       " [Synset('porcupine.n.01')],\n",
       " [Synset('opossum.n.02'), Synset('phalanger.n.01')],\n",
       " [Synset('rabbit.n.01'),\n",
       "  Synset('lapin.n.01'),\n",
       "  Synset('rabbit.n.03'),\n",
       "  Synset('rabbit.v.01')],\n",
       " [Synset('raccoon.n.01'), Synset('raccoon.n.02')],\n",
       " [Synset('beam.n.04'),\n",
       "  Synset('ray.n.02'),\n",
       "  Synset('ray.n.03'),\n",
       "  Synset('beam.n.03'),\n",
       "  Synset('re.n.03'),\n",
       "  Synset('ray.n.06'),\n",
       "  Synset('ray.n.07'),\n",
       "  Synset('ray.v.01'),\n",
       "  Synset('radiate.v.03'),\n",
       "  Synset('irradiate.v.03')],\n",
       " [Synset('road.n.01'), Synset('road.n.02')],\n",
       " [Synset('rocket.n.01'),\n",
       "  Synset('rocket.n.02'),\n",
       "  Synset('rocket.n.03'),\n",
       "  Synset('rocket.n.04'),\n",
       "  Synset('skyrocket.n.02'),\n",
       "  Synset('rocket.v.01'),\n",
       "  Synset('rocket.v.02')],\n",
       " [Synset('rose.n.01'),\n",
       "  Synset('blush_wine.n.01'),\n",
       "  Synset('rose.n.03'),\n",
       "  Synset('rise.v.01'),\n",
       "  Synset('rise.v.02'),\n",
       "  Synset('arise.v.03'),\n",
       "  Synset('rise.v.04'),\n",
       "  Synset('surface.v.01'),\n",
       "  Synset('originate.v.01'),\n",
       "  Synset('ascend.v.08'),\n",
       "  Synset('wax.v.02'),\n",
       "  Synset('heighten.v.01'),\n",
       "  Synset('get_up.v.02'),\n",
       "  Synset('rise.v.11'),\n",
       "  Synset('rise.v.12'),\n",
       "  Synset('rise.v.13'),\n",
       "  Synset('rebel.v.01'),\n",
       "  Synset('rise.v.15'),\n",
       "  Synset('rise.v.16'),\n",
       "  Synset('resurrect.v.03'),\n",
       "  Synset('rose.s.01')],\n",
       " [Synset('sea.n.01'), Synset('ocean.n.02'), Synset('sea.n.03')],\n",
       " [Synset('sealing_wax.n.01'),\n",
       "  Synset('seal.n.02'),\n",
       "  Synset('seal.n.03'),\n",
       "  Synset('navy_seal.n.01'),\n",
       "  Synset('seal.n.05'),\n",
       "  Synset('cachet.n.01'),\n",
       "  Synset('seal.n.07'),\n",
       "  Synset('seal.n.08'),\n",
       "  Synset('seal.n.09'),\n",
       "  Synset('seal.v.01'),\n",
       "  Synset('seal.v.02'),\n",
       "  Synset('seal.v.03'),\n",
       "  Synset('seal.v.04'),\n",
       "  Synset('varnish.v.01'),\n",
       "  Synset('seal.v.06')],\n",
       " [Synset('shark.n.01'),\n",
       "  Synset('shark.n.02'),\n",
       "  Synset('shark.n.03'),\n",
       "  Synset('shark.v.01'),\n",
       "  Synset('shark.v.02')],\n",
       " [Synset('shrew.n.01'), Synset('shrew.n.02')],\n",
       " [Synset('rotter.n.01'),\n",
       "  Synset('shutout.n.01'),\n",
       "  Synset('pot.n.09'),\n",
       "  Synset('skunk.n.04'),\n",
       "  Synset('lurch.v.05')],\n",
       " [Synset('skyscraper.n.01')],\n",
       " [Synset('snail.n.01'), Synset('escargot.n.01'), Synset('snail.v.01')],\n",
       " [Synset('snake.n.01'),\n",
       "  Synset('snake.n.02'),\n",
       "  Synset('snake.n.03'),\n",
       "  Synset('hydra.n.02'),\n",
       "  Synset('snake.n.05'),\n",
       "  Synset('snake.v.01'),\n",
       "  Synset('snake.v.02'),\n",
       "  Synset('snake.v.03')],\n",
       " [Synset('spider.n.01'), Synset('spider.n.02'), Synset('spider.n.03')],\n",
       " [Synset('squirrel.n.01'), Synset('squirrel.n.02')],\n",
       " [Synset('streetcar.n.01')],\n",
       " [Synset('sunflower.n.01')],\n",
       " [Synset('sweet_pepper.n.01'), Synset('sweet_pepper.n.02')],\n",
       " [Synset('table.n.01'),\n",
       "  Synset('table.n.02'),\n",
       "  Synset('table.n.03'),\n",
       "  Synset('mesa.n.01'),\n",
       "  Synset('table.n.05'),\n",
       "  Synset('board.n.04'),\n",
       "  Synset('postpone.v.01'),\n",
       "  Synset('table.v.02')],\n",
       " [Synset('tank.n.01'),\n",
       "  Synset('tank.n.02'),\n",
       "  Synset('tank.n.03'),\n",
       "  Synset('tank_car.n.01'),\n",
       "  Synset('cooler.n.03'),\n",
       "  Synset('tank.v.01'),\n",
       "  Synset('tank.v.02'),\n",
       "  Synset('tank.v.03')],\n",
       " [Synset('telephone.n.01'), Synset('telephone.n.02'), Synset('call.v.03')],\n",
       " [Synset('television.n.01'),\n",
       "  Synset('television.n.02'),\n",
       "  Synset('television_receiver.n.01')],\n",
       " [Synset('tiger.n.01'), Synset('tiger.n.02')],\n",
       " [Synset('tractor.n.01'), Synset('tractor.n.02')],\n",
       " [Synset('train.n.01'),\n",
       "  Synset('string.n.04'),\n",
       "  Synset('caravan.n.01'),\n",
       "  Synset('train.n.04'),\n",
       "  Synset('train.n.05'),\n",
       "  Synset('gearing.n.01'),\n",
       "  Synset('train.v.01'),\n",
       "  Synset('train.v.02'),\n",
       "  Synset('discipline.v.01'),\n",
       "  Synset('prepare.v.05'),\n",
       "  Synset('educate.v.03'),\n",
       "  Synset('aim.v.01'),\n",
       "  Synset('coach.v.01'),\n",
       "  Synset('train.v.08'),\n",
       "  Synset('train.v.09'),\n",
       "  Synset('train.v.10'),\n",
       "  Synset('trail.v.05')],\n",
       " [Synset('trout.n.01'), Synset('trout.n.02')],\n",
       " [Synset('tulip.n.01')],\n",
       " [Synset('turtleneck.n.01'),\n",
       "  Synset('turtle.n.02'),\n",
       "  Synset('capsize.v.01'),\n",
       "  Synset('turtle.v.02')],\n",
       " [Synset('wardrobe.n.01'), Synset('wardrobe.n.02'), Synset('wardrobe.n.03')],\n",
       " [Synset('giant.n.04'), Synset('whale.n.02'), Synset('whale.v.01')],\n",
       " [Synset('willow.n.01')],\n",
       " [Synset('wolf.n.01'),\n",
       "  Synset('wolf.n.02'),\n",
       "  Synset('wolf.n.03'),\n",
       "  Synset('wolf.n.04'),\n",
       "  Synset('beast.n.02'),\n",
       "  Synset('wolf.v.01')],\n",
       " [Synset('woman.n.01'),\n",
       "  Synset('woman.n.02'),\n",
       "  Synset('charwoman.n.01'),\n",
       "  Synset('womanhood.n.02')],\n",
       " [Synset('worm.n.01'),\n",
       "  Synset('worm.n.02'),\n",
       "  Synset('worm.n.03'),\n",
       "  Synset('worm.n.04'),\n",
       "  Synset('writhe.v.01')]]"
      ]
     },
     "execution_count": 60,
     "metadata": {},
     "output_type": "execute_result"
    }
   ],
   "source": [
    "candidates"
   ]
  },
  {
   "cell_type": "code",
   "execution_count": 5,
   "id": "1b062376-f86d-46dd-becd-d5c86c33d3c6",
   "metadata": {},
   "outputs": [],
   "source": [
    "len_cand = list(map(lambda x: len(x), candidates))"
   ]
  },
  {
   "cell_type": "code",
   "execution_count": 10,
   "id": "c3e16238-934a-4436-975b-483d38de0cd4",
   "metadata": {},
   "outputs": [
    {
     "data": {
      "text/plain": [
       "array(['aquarium_fish', 'maple_tree'], dtype='<U13')"
      ]
     },
     "execution_count": 10,
     "metadata": {},
     "output_type": "execute_result"
    }
   ],
   "source": [
    "np.array(d.classes)[np.array(len_cand)==0]"
   ]
  },
  {
   "cell_type": "code",
   "execution_count": 36,
   "id": "62e31dc7-b5f6-44d3-ac43-16975bc6aee3",
   "metadata": {
    "scrolled": true,
    "tags": []
   },
   "outputs": [
    {
     "data": {
      "text/plain": [
       "47"
      ]
     },
     "execution_count": 36,
     "metadata": {},
     "output_type": "execute_result"
    }
   ],
   "source": [
    "d.class_to_idx['maple_tree']"
   ]
  },
  {
   "cell_type": "code",
   "execution_count": 47,
   "id": "2b76b836-bf7b-48ec-9a16-a99e4060dfc7",
   "metadata": {},
   "outputs": [
    {
     "data": {
      "image/png": "[encoded data removed]",
      "text/plain": [
       "<PIL.Image.Image image mode=RGB size=32x32 at 0x7F9DB6E695B0>"
      ]
     },
     "execution_count": 47,
     "metadata": {},
     "output_type": "execute_result"
    }
   ],
   "source": [
    "ind = np.where(np.array(d.targets)==47)\n",
    "idx = np.random.choice(ind[0])\n",
    "d[idx][0]"
   ]
  },
  {
   "cell_type": "code",
   "execution_count": 13,
   "id": "f3795a4a-4840-4b75-9e6a-0c657922d9f0",
   "metadata": {},
   "outputs": [
    {
     "data": {
      "text/plain": [
       "([Synset('freshwater_fish.n.01')],\n",
       " [Synset('maple.n.01'), Synset('maple.n.02')])"
      ]
     },
     "execution_count": 13,
     "metadata": {},
     "output_type": "execute_result"
    }
   ],
   "source": [
    "wn.synsets('freshwater_fish'), wn.synsets('maple')"
   ]
  },
  {
   "cell_type": "code",
   "execution_count": 49,
   "id": "c1dc7939-9d9f-4234-9ba1-d438184739e4",
   "metadata": {
    "scrolled": true,
    "tags": []
   },
   "outputs": [
    {
     "data": {
      "text/plain": [
       "{'apple': 0,\n",
       " 'aquarium_fish': 1,\n",
       " 'baby': 2,\n",
       " 'bear': 3,\n",
       " 'beaver': 4,\n",
       " 'bed': 5,\n",
       " 'bee': 6,\n",
       " 'beetle': 7,\n",
       " 'bicycle': 8,\n",
       " 'bottle': 9,\n",
       " 'bowl': 10,\n",
       " 'boy': 11,\n",
       " 'bridge': 12,\n",
       " 'bus': 13,\n",
       " 'butterfly': 14,\n",
       " 'camel': 15,\n",
       " 'can': 16,\n",
       " 'castle': 17,\n",
       " 'caterpillar': 18,\n",
       " 'cattle': 19,\n",
       " 'chair': 20,\n",
       " 'chimpanzee': 21,\n",
       " 'clock': 22,\n",
       " 'cloud': 23,\n",
       " 'cockroach': 24,\n",
       " 'couch': 25,\n",
       " 'crab': 26,\n",
       " 'crocodile': 27,\n",
       " 'cup': 28,\n",
       " 'dinosaur': 29,\n",
       " 'dolphin': 30,\n",
       " 'elephant': 31,\n",
       " 'flatfish': 32,\n",
       " 'forest': 33,\n",
       " 'fox': 34,\n",
       " 'girl': 35,\n",
       " 'hamster': 36,\n",
       " 'house': 37,\n",
       " 'kangaroo': 38,\n",
       " 'keyboard': 39,\n",
       " 'lamp': 40,\n",
       " 'lawn_mower': 41,\n",
       " 'leopard': 42,\n",
       " 'lion': 43,\n",
       " 'lizard': 44,\n",
       " 'lobster': 45,\n",
       " 'man': 46,\n",
       " 'maple_tree': 47,\n",
       " 'motorcycle': 48,\n",
       " 'mountain': 49,\n",
       " 'mouse': 50,\n",
       " 'mushroom': 51,\n",
       " 'oak_tree': 52,\n",
       " 'orange': 53,\n",
       " 'orchid': 54,\n",
       " 'otter': 55,\n",
       " 'palm_tree': 56,\n",
       " 'pear': 57,\n",
       " 'pickup_truck': 58,\n",
       " 'pine_tree': 59,\n",
       " 'plain': 60,\n",
       " 'plate': 61,\n",
       " 'poppy': 62,\n",
       " 'porcupine': 63,\n",
       " 'possum': 64,\n",
       " 'rabbit': 65,\n",
       " 'raccoon': 66,\n",
       " 'ray': 67,\n",
       " 'road': 68,\n",
       " 'rocket': 69,\n",
       " 'rose': 70,\n",
       " 'sea': 71,\n",
       " 'seal': 72,\n",
       " 'shark': 73,\n",
       " 'shrew': 74,\n",
       " 'skunk': 75,\n",
       " 'skyscraper': 76,\n",
       " 'snail': 77,\n",
       " 'snake': 78,\n",
       " 'spider': 79,\n",
       " 'squirrel': 80,\n",
       " 'streetcar': 81,\n",
       " 'sunflower': 82,\n",
       " 'sweet_pepper': 83,\n",
       " 'table': 84,\n",
       " 'tank': 85,\n",
       " 'telephone': 86,\n",
       " 'television': 87,\n",
       " 'tiger': 88,\n",
       " 'tractor': 89,\n",
       " 'train': 90,\n",
       " 'trout': 91,\n",
       " 'tulip': 92,\n",
       " 'turtle': 93,\n",
       " 'wardrobe': 94,\n",
       " 'whale': 95,\n",
       " 'willow_tree': 96,\n",
       " 'wolf': 97,\n",
       " 'woman': 98,\n",
       " 'worm': 99}"
      ]
     },
     "execution_count": 49,
     "metadata": {},
     "output_type": "execute_result"
    }
   ],
   "source": [
    "d.class_to_idx"
   ]
  },
  {
   "cell_type": "code",
   "execution_count": 59,
   "id": "88778ab2-3edd-4642-84a9-04c21d06ecb4",
   "metadata": {},
   "outputs": [],
   "source": [
    "class CustomCIFAR100(CIFAR100):\n",
    "    def __init__(self, root, train, transform=None, vocab=None, **kwargs):\n",
    "        super(CustomCIFAR100, self).__init__(root=root, train=train, transform=transform, **kwargs)\n",
    "        self.vocab = vocab\n",
    "        self.uq_idxs = np.array(range(len(self)))\n",
    "        category_mapping = {'aquarium_fish': 'freshwater_fish', 'maple_tree': 'maple'}\n",
    "        self.classes = [category_mapping[c] if c in category_mapping else c for c in self.classes]\n",
    "        self.class_to_idx = dict([(category_mapping[k],v) if k in category_mapping else (k,v) for k, v in self.class_to_idx.items()])\n",
    "        self.num_classes = len(self.classes)\n",
    "        \n",
    "        self.label_voc = list(map(lambda x: vocab.mapping_names_idx[ self.classes[x] ], self.targets))\n",
    "        return\n",
    "\n",
    "    def __getitem__(self, item):\n",
    "        img, label = super().__getitem__(item)\n",
    "        label_voc = self.label_voc[item]\n",
    "        idx_img = self.uq_idxs[item]\n",
    "        result = [img, label_voc, label_clu, idx_img]\n",
    "        if self.ssl_cluster is not None:\n",
    "            result.append(self.ssl_cluster[idx])\n",
    "        if self.ad_weight is not None:\n",
    "            result.append(self.ad_weight[idx])\n",
    "        return result\n",
    "\n",
    "    def __len__(self):\n",
    "        return len(self.targets)"
   ]
  },
  {
   "cell_type": "code",
   "execution_count": 56,
   "id": "d90284cc-370a-4b8c-8d9d-352b80fc14e4",
   "metadata": {},
   "outputs": [],
   "source": [
    "d = CustomCIFAR100(root='/home/sheng/dataset/CIFAR100/', train=True)"
   ]
  }
 ],
 "metadata": {
  "kernelspec": {
   "display_name": "gcd",
   "language": "python",
   "name": "gcd"
  },
  "language_info": {
   "codemirror_mode": {
    "name": "ipython",
    "version": 3
   },
   "file_extension": ".py",
   "mimetype": "text/x-python",
   "name": "python",
   "nbconvert_exporter": "python",
   "pygments_lexer": "ipython3",
   "version": "3.8.13"
  }
 },
 "nbformat": 4,
 "nbformat_minor": 5
}
