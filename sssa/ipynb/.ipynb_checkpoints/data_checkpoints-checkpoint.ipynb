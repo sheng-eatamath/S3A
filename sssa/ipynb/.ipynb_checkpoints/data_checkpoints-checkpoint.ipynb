{
 "cells": [
  {
   "cell_type": "code",
   "execution_count": 2,
   "id": "1faf0bc0-9b62-47e3-9794-ebeb9b9be4b1",
   "metadata": {},
   "outputs": [],
   "source": [
    "import sys\n",
    "sys.path.append('/home/sheng/OSZSL/')\n",
    "sys.path.append('/home/sheng/OSZSL/CLIP/')\n",
    "\n",
    "import os\n",
    "import json\n",
    "import time\n",
    "import pickle\n",
    "from typing import Union, List\n",
    "from pprint import pprint\n",
    "from tqdm import tqdm\n",
    "from copy import deepcopy\n",
    "import numpy as np\n",
    "from functools import reduce\n",
    "from itertools import zip_longest\n",
    "import seaborn as sns\n",
    "from collections import Counter, defaultdict\n",
    "import matplotlib.pyplot as plt\n",
    "import heapq\n",
    "\n",
    "import torch \n",
    "import torch.nn as nn\n",
    "import torch.nn.functional as F\n",
    "import torchvision\n",
    "import torchvision.transforms as transforms\n",
    "\n",
    "from ipynb_utils import get_hier_datasets, get_classifier, MCMF_assign_labels\n",
    "import clip\n",
    "from data.datasets import get_datasets_oszsl, build_transform"
   ]
  },
  {
   "cell_type": "markdown",
   "id": "74780c28-9ffa-48b8-91bc-19641fcd713c",
   "metadata": {},
   "source": [
    "#### LLM augmented classifier"
   ]
  },
  {
   "cell_type": "code",
   "execution_count": null,
   "id": "e85ebf49-a7f1-4cfa-a4c7-05a3ed1c0d0b",
   "metadata": {},
   "outputs": [],
   "source": [
    "data_augmented_classifier = torch.load('./cache/all_aug_prompts_embed-wn-gpt3-d-2023_02_26.pth')\n",
    "all_augmented_classifier = data_augmented_classifier['all_augmented_classifier']\n",
    "class_name_key_mapping = data_augmented_classifier['class_name_key_mapping']\n"
   ]
  },
  {
   "cell_type": "markdown",
   "id": "e37b1367-9904-4d46-b844-6b553b5c282c",
   "metadata": {},
   "source": [
    "#### clustering results of pretrained models (in sequential order)"
   ]
  },
  {
   "cell_type": "code",
   "execution_count": null,
   "id": "81d49757-f23f-4ad8-a68f-ffe0c378a6e5",
   "metadata": {},
   "outputs": [],
   "source": [
    "dataset_name = 'imagenet'\n",
    "pred_cluster = np.load(f'./pred_clu-{dataset_name}-train-clip.npy')\n",
    "pred_cluster = np.load(f'./pred_clu-{dataset_name}-train-vit_dino.npy')\n",
    "pred_cluster = np.load(f'./pred_clu-{dataset_name}-train-clip-over_5.npy')"
   ]
  },
  {
   "cell_type": "markdown",
   "id": "45f7da6f-6d4f-4ff5-8981-6dbc21e352dd",
   "metadata": {},
   "source": [
    "#### KNN INFO"
   ]
  },
  {
   "cell_type": "code",
   "execution_count": null,
   "id": "405dd903-7879-4164-8b0f-4c7a91b5c0d8",
   "metadata": {},
   "outputs": [],
   "source": [
    "info = torch.load(f'./cache/ssl_knn_info-{dataset_name}.pth')\n",
    "info = torch.load(f'./cache/{dataset_name}-clip-knn-10.pth')"
   ]
  },
  {
   "cell_type": "markdown",
   "id": "a03e449b-6745-40a1-adbc-7736f75f31a3",
   "metadata": {},
   "source": [
    "#### scd computation results"
   ]
  },
  {
   "cell_type": "code",
   "execution_count": 8,
   "id": "29eee8df-d97e-4c11-b4b0-b3276f2ba93d",
   "metadata": {},
   "outputs": [],
   "source": [
    "scd_results = torch.load('./cache-imagenet.pth')"
   ]
  },
  {
   "cell_type": "markdown",
   "id": "5095fee3-860f-40f6-bd94-9fdd4ef09e0b",
   "metadata": {},
   "source": [
    "#### CLIP store"
   ]
  },
  {
   "cell_type": "code",
   "execution_count": 23,
   "id": "4c7e10f2-8b02-4abb-a3fa-2711cee54400",
   "metadata": {},
   "outputs": [],
   "source": [
    "store = torch.load(f'./cache/clip_store-{dataset_name}.pth')"
   ]
  },
  {
   "cell_type": "markdown",
   "id": "7df580eb-21c5-4ad3-b3a8-c7bd9cf1233c",
   "metadata": {},
   "source": [
    "#### gpt results"
   ]
  },
  {
   "cell_type": "code",
   "execution_count": 12,
   "id": "315ded14-42c8-45c8-a228-383994df3a4e",
   "metadata": {},
   "outputs": [],
   "source": [
    "### parsed results\n",
    "with open('./cache/parsed-wn-gpt3-d-2023_02_26.json', 'rb') as f:\n",
    "    data = pickle.load(f)"
   ]
  },
  {
   "cell_type": "code",
   "execution_count": 18,
   "id": "add0a544-432f-4406-ae2a-9b6e9ed4a9f8",
   "metadata": {},
   "outputs": [],
   "source": [
    "### responses\n",
    "with open('./cache/wn_vis-gpt3-d-2023_03_02.json', 'r') as f:\n",
    "    data = json.load(f)"
   ]
  },
  {
   "cell_type": "markdown",
   "id": "d0dcaa04-2549-4099-ad6b-959c1f0ef0c8",
   "metadata": {},
   "source": [
    "#### augmented classfier"
   ]
  },
  {
   "cell_type": "code",
   "execution_count": 25,
   "id": "0a6c7428-72d3-42f5-8cdc-540ec91dd04b",
   "metadata": {},
   "outputs": [],
   "source": [
    "### extracted classifier of each concept\n",
    "classifier = torch.load('./cache/all_aug_prompts_embed-wn-gpt3-d-2023_02_26.pth')"
   ]
  }
 ],
 "metadata": {
  "kernelspec": {
   "display_name": "gcd",
   "language": "python",
   "name": "gcd"
  },
  "language_info": {
   "codemirror_mode": {
    "name": "ipython",
    "version": 3
   },
   "file_extension": ".py",
   "mimetype": "text/x-python",
   "name": "python",
   "nbconvert_exporter": "python",
   "pygments_lexer": "ipython3",
   "version": "3.8.13"
  }
 },
 "nbformat": 4,
 "nbformat_minor": 5
}
