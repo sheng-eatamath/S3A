{
 "cells": [
  {
   "cell_type": "markdown",
   "id": "ae430ea7-ab57-477f-8a7d-1890d97d2898",
   "metadata": {},
   "source": [
    "- observe image KNN\n",
    "\n",
    "- observe initial assignment performance\n",
    "\n",
    "- observe text distribution\n",
    "\n",
    "- observe vocab filtering performance w.r.t. different strategies"
   ]
  },
  {
   "cell_type": "code",
   "execution_count": 1,
   "id": "c187d77c-026e-4cf7-9000-103a8718cd8c",
   "metadata": {},
   "outputs": [],
   "source": [
    "import sys\n",
    "sys.path.append('/home/sheng/OSZSL/')\n",
    "sys.path.append('/home/sheng/OSZSL/CLIP/')\n",
    "\n",
    "import os\n",
    "import json\n",
    "import pickle\n",
    "from typing import Union, List\n",
    "from pprint import pprint\n",
    "from tqdm import tqdm\n",
    "from copy import deepcopy\n",
    "import numpy as np\n",
    "from functools import reduce\n",
    "from itertools import zip_longest\n",
    "import seaborn as sns\n",
    "from collections import Counter, defaultdict\n",
    "\n",
    "import torch \n",
    "import torch.nn as nn\n",
    "import torch.nn.functional as F\n",
    "import torchvision\n",
    "import torchvision.transforms as transforms\n",
    "\n",
    "from ipynb_utils import get_hier_datasets, get_classifier\n",
    "import clip\n",
    "from data.datasets import get_datasets_oszsl, build_transform"
   ]
  },
  {
   "cell_type": "code",
   "execution_count": 2,
   "id": "184f5eb3-cd49-42e6-87b1-cb7e50d0d42f",
   "metadata": {},
   "outputs": [],
   "source": [
    "class Config:\n",
    "    device = 'cuda:1'\n",
    "    arch = 'ViT-B/16'\n",
    "    dataset_name = 'make_entity13'\n",
    "    n_sampled_classes = 100\n",
    "    input_size = 224\n",
    "    \n",
    "    batch_size = 512\n",
    "    use_def = False\n",
    "    # clip_checkpoint = '/home/sheng/MUST-output/make_nonliving26/classifier=false-em=model_ema-w_fair=0.2-conf=0.5-B128x2-test/checkpoint-current.pth'\n",
    "    # clip_checkpoint = '/home/sheng/MUST-output/imagenet/imagenet-ssl_cluster=true-B128/checkpoint-current.pth'\n",
    "    clip_checkpoint = None\n",
    "    f_classifier = None #'./cache/wordnet_classifier_small_templates.pth'\n",
    "    \n",
    "args = Config()"
   ]
  },
  {
   "cell_type": "code",
   "execution_count": 3,
   "id": "d8b6c3e7-a7cf-4d0b-b4f6-2c8f2ae6daef",
   "metadata": {},
   "outputs": [],
   "source": [
    "with open('../templates.json', 'rb') as f:\n",
    "    templates = json.load(f)\n",
    "\n",
    "if args.use_def:\n",
    "    with open('../templates-def.json', 'rb') as f:\n",
    "        templates = json.load(f)\n",
    "\n",
    "def get_vocab():\n",
    "    \"\"\"\n",
    "    Args:\n",
    "        vocab: {`names`: list, `ids`: synset ids, `parents`: [{synset ids}]}\n",
    "    \"\"\"\n",
    "    with open('/home/sheng/dataset/wordnet_nouns.pkl', 'rb') as f:\n",
    "        vocab = pickle.load(f)\n",
    "        \n",
    "    # with open('/home/sheng/dataset/wordnet_nouns_no_abstract.pkl', 'rb') as f:\n",
    "    #     vocab = pickle.load(f)\n",
    "    return vocab\n",
    "\n",
    "vocab = get_vocab()\n",
    "templates = templates['imagenet']\n",
    "classnames = vocab['names']\n",
    "parents = vocab['parents']\n",
    "defs = vocab['def']"
   ]
  },
  {
   "cell_type": "markdown",
   "id": "5c1c3b89-edaa-4054-a0f6-a78a82ced191",
   "metadata": {},
   "source": [
    "### build vocab"
   ]
  },
  {
   "cell_type": "code",
   "execution_count": 4,
   "id": "9a86114b-bc50-45ab-9c15-03cfdab3e687",
   "metadata": {},
   "outputs": [],
   "source": [
    "class Vocab:\n",
    "    \"\"\" classname indexed vocab \"\"\"\n",
    "    def __init__(self, vocab):\n",
    "        self.vocab = vocab\n",
    "        self.indexing()\n",
    "        ### {global_synset: global_names}\n",
    "        self.mapping_ids_names = dict(zip(vocab['ids'], vocab['names']))\n",
    "        # self.mapping_names_ids = dict(zip(vocab['names'], vocab['ids']))\n",
    "        ### {local_idx: local_names}\n",
    "        self.mapping_idx_names = dict(zip(range(len(self.classnames)), self.classnames))\n",
    "        ### {local_names: local_idx}\n",
    "        self.mapping_names_idx = dict(zip(self.classnames, range(len(self.classnames))))\n",
    "        ### {global_synset: global_idx}\n",
    "        self.mapping_ids_global_idx = dict(zip(vocab['ids'], range(len(vocab['ids']))))\n",
    "        self.mapping_global_idx_ids = dict(zip(range(len(vocab['ids'])), vocab['ids']))\n",
    "        \n",
    "        ### {global_names: [global_idx]}\n",
    "        self.vocab_mapping_names_idx = defaultdict(list)\n",
    "        for k, v in zip(vocab['names'], range(len(vocab['names']))):\n",
    "            self.vocab_mapping_names_idx[k].append(v)\n",
    "            \n",
    "        ### {local_idx: global_idx}\n",
    "        self.mapping_idx_global_idx = {}\n",
    "        for i in range(len(self)):\n",
    "            self.mapping_idx_global_idx[i] = self.vocab_mapping_names_idx[self.mapping_idx_names[i]]\n",
    "\n",
    "        return\n",
    "    \n",
    "    def __len__(self):\n",
    "        return len(self.classnames)\n",
    "    \n",
    "    def __getitem__(self, idx):\n",
    "        return self.classnames[idx]\n",
    "    \n",
    "    def indexing(self):\n",
    "        self.classnames = sorted(list(set(self.vocab['names'])))\n",
    "        ### global index retained\n",
    "        # self.classnames = list(self.vocab['names'])\n",
    "        return\n",
    "    \n",
    "def calibrate_vocab(vocab, method, **kwargs):\n",
    "    if method == 'topk':\n",
    "        K = kwargs['K']\n",
    "    elif method == 'upperbound':\n",
    "        synids = kwargs['classids']\n",
    "        synids\n",
    "        \n",
    "def subsample_vocab(vocab, sampling_idx):\n",
    "    \"\"\" [to revise] subsample vocab based on @sampling_idx on @vocab \"\"\"\n",
    "    assert len(sampling_idx)>0\n",
    "    set_sampling_idx = set(sampling_idx)\n",
    "    sub_vocab = deepcopy(vocab)\n",
    "    sub_vocab.mapping_idx_ids = {k: v for k, v in vocab.mapping_idx_ids.items() if k in set_sampling_idx}\n",
    "    sub_vocab.mapping_ids_idx = {v: k for k, v in sub_vocab.mapping_idx_ids.items()}\n",
    "    set_sampling_ids = set(sub_vocab.mapping_ids_idx)\n",
    "    sub_vocab.mapping_ids_names = {k: v for k, v in vocab.mapping_ids_names.items() if k in set_sampling_ids}\n",
    "    sub_vocab.mapping_names_ids = {v: k for k, v in sub_vocab.mapping_ids_names.items()}\n",
    "    return sub_vocab"
   ]
  },
  {
   "cell_type": "code",
   "execution_count": 5,
   "id": "9a896e47-a890-4740-8b0b-1b06aeb77d92",
   "metadata": {},
   "outputs": [],
   "source": [
    "vocab = Vocab(vocab=vocab)"
   ]
  },
  {
   "cell_type": "markdown",
   "id": "386b7acf-c7cf-4eca-823c-0122d0d1ab04",
   "metadata": {
    "tags": []
   },
   "source": [
    "### load CLIP"
   ]
  },
  {
   "cell_type": "code",
   "execution_count": 6,
   "id": "b6b61826-1398-4f56-9a19-7a62f3263af1",
   "metadata": {
    "tags": []
   },
   "outputs": [],
   "source": [
    "\"\"\" from MUST \"\"\"\n",
    "from clip.simple_tokenizer import SimpleTokenizer as _Tokenizer\n",
    "_tokenizer = _Tokenizer()\n",
    "\n",
    "def tokenize(texts: Union[str, List[str]], context_length: int = 77, truncate: bool = False) -> torch.LongTensor:\n",
    "    if isinstance(texts, str):\n",
    "        texts = [texts]\n",
    "\n",
    "    sot_token = _tokenizer.encoder[\"<|startoftext|>\"]\n",
    "    eot_token = _tokenizer.encoder[\"<|endoftext|>\"]\n",
    "    all_tokens = [[sot_token] + _tokenizer.encode(text) + [eot_token] for text in texts]\n",
    "    result = torch.zeros(len(all_tokens), context_length, dtype=torch.long)\n",
    "\n",
    "    for i, tokens in enumerate(all_tokens):\n",
    "        if len(tokens) > context_length:\n",
    "            if truncate:\n",
    "                tokens = tokens[:context_length]\n",
    "                tokens[-1] = eot_token\n",
    "            else:\n",
    "                raise RuntimeError(f\"Input {texts[i]} is too long for context length {context_length}\")\n",
    "        result[i, :len(tokens)] = torch.tensor(tokens)\n",
    "\n",
    "    return result"
   ]
  },
  {
   "cell_type": "code",
   "execution_count": 7,
   "id": "18adb3f5-7744-4582-9eaf-29ecbe3799f2",
   "metadata": {},
   "outputs": [
    {
     "name": "stdout",
     "output_type": "stream",
     "text": [
      "Model parameters: 149,620,737\n",
      "Input resolution: 224\n",
      "Context length: 77\n",
      "Vocab size: 49408\n"
     ]
    }
   ],
   "source": [
    "model, preprocess = clip.load(args.arch)\n",
    "if args.clip_checkpoint:\n",
    "    model.load_state_dict({k[len('model.'):]:v for k, v in torch.load(args.clip_checkpoint, map_location='cpu')['model'].items()}, strict=False)\n",
    "model.to(args.device).eval()\n",
    "input_resolution = model.visual.input_resolution\n",
    "context_length = model.context_length\n",
    "vocab_size = model.vocab_size\n",
    "\n",
    "print(\"Model parameters:\", f\"{np.sum([int(np.prod(p.shape)) for p in model.parameters()]):,}\")\n",
    "print(\"Input resolution:\", input_resolution)\n",
    "print(\"Context length:\", context_length)\n",
    "print(\"Vocab size:\", vocab_size)"
   ]
  },
  {
   "cell_type": "markdown",
   "id": "fea3cbe7-3f1e-4996-8e97-1c3fb735b846",
   "metadata": {
    "tags": []
   },
   "source": [
    "### load dataset"
   ]
  },
  {
   "cell_type": "code",
   "execution_count": 18,
   "id": "0f4e5fcd-f94c-42dc-833b-5954236d5f92",
   "metadata": {},
   "outputs": [],
   "source": [
    "transform_val = build_transform(is_train=False, args=args, train_config=None)\n",
    "dataset_raw = get_datasets_oszsl(args, None, is_train=True, transform=transform_val, seed=1)\n",
    "dataset = get_datasets_oszsl(args, vocab, is_train=False, transform=transform_val, seed=1)\n",
    "\n",
    "loader_val = torch.utils.data.DataLoader(dataset, num_workers=8, batch_size=args.batch_size, shuffle=False)"
   ]
  },
  {
   "cell_type": "code",
   "execution_count": null,
   "id": "5eb8c0ad-37f2-4426-809c-49f272e2430c",
   "metadata": {},
   "outputs": [],
   "source": [
    "len(dataset.labels)==len(dataset.samples), \\\n",
    "np.unique(dataset.labels), np.unique(dataset.labels_transformed), \\\n",
    "dataset.num_classes"
   ]
  },
  {
   "cell_type": "code",
   "execution_count": null,
   "id": "8508fb34-0a52-4437-bb37-542ad364d6e2",
   "metadata": {},
   "outputs": [],
   "source": [
    "len(dataset_raw.labels)==len(dataset_raw.samples), \\\n",
    "np.unique(dataset_raw.labels), np.unique(dataset_raw.labels_transformed), \\\n",
    "dataset_raw.num_classes"
   ]
  },
  {
   "cell_type": "markdown",
   "id": "768ef66f-e287-475e-bd63-c7adf92816c3",
   "metadata": {
    "tags": []
   },
   "source": [
    "### build classifier"
   ]
  },
  {
   "cell_type": "code",
   "execution_count": null,
   "id": "6d50813d-9642-4b31-9a0c-ebe4456e9fd5",
   "metadata": {
    "tags": []
   },
   "outputs": [],
   "source": [
    "# if args.use_def:\n",
    "#     batch_size = 64\n",
    "#     with torch.no_grad():\n",
    "#         zeroshot_weights = []\n",
    "#         with tqdm(total=len(vocab.classnames)//batch_size) as pbar:\n",
    "#             for idx_set, classname_set in zip(np.array_split(np.arange(len(vocab.classnames)), len(vocab.classnames)//batch_size), \n",
    "#                                      np.array_split(vocab.classnames, len(vocab.classnames)//batch_size)):\n",
    "#                 # idx_set = [vocab.mapping_idx_global_idx[ii] for ii in idx_set]\n",
    "#                 texts = [template.format(classname, defs[idx])[:77] for idx, classname in zip(idx_set, classname_set) for template in templates] #format with class\n",
    "#                 texts = tokenize(texts).to(args.device) #tokenize\n",
    "#                 class_embeddings = model.encode_text(texts) #embed with text encoder\n",
    "#                 class_embeddings = class_embeddings.view(-1, len(templates), class_embeddings.size(-1))\n",
    "#                 class_embeddings /= class_embeddings.norm(dim=-1, keepdim=True)\n",
    "#                 class_embedding = class_embeddings.mean(dim=1)\n",
    "#                 class_embedding /= class_embedding.norm()\n",
    "#                 zeroshot_weights.append(class_embedding.cpu())\n",
    "\n",
    "#                 pbar.update(1)\n",
    "\n",
    "#     classifier = torch.cat(zeroshot_weights, dim=0)\n",
    "#     torch.save(classifier, './cache/wordnet_classifier_def.pth') \n",
    "# else:\n",
    "batch_size = 64\n",
    "with torch.no_grad():\n",
    "    zeroshot_weights = []\n",
    "    with tqdm(total=len(vocab.classnames)//batch_size) as pbar:\n",
    "        for classname_set in np.array_split(vocab.classnames, len(vocab.classnames)//batch_size):\n",
    "            texts = [template.format(classname) for classname in classname_set for template in templates] #format with class\n",
    "            texts = tokenize(texts).to(args.device) #tokenize\n",
    "            class_embeddings = model.encode_text(texts) #embed with text encoder\n",
    "            class_embeddings = class_embeddings.view(-1, len(templates), class_embeddings.size(-1))\n",
    "            class_embeddings /= class_embeddings.norm(dim=-1, keepdim=True)\n",
    "            class_embedding = class_embeddings.mean(dim=1)\n",
    "            class_embedding /= class_embedding.norm()\n",
    "            zeroshot_weights.append(class_embedding.cpu())\n",
    "            # break\n",
    "\n",
    "            pbar.update(1)\n",
    "\n",
    "classifier = torch.cat(zeroshot_weights, dim=0)\n",
    "torch.save(classifier, './cache/wordnet_classifier_no_abstract.pth')"
   ]
  },
  {
   "cell_type": "code",
   "execution_count": 17,
   "id": "655360ed-29e5-4151-99b7-3d9057ddf35d",
   "metadata": {},
   "outputs": [],
   "source": [
    "def get_classifier(args):\n",
    "    if args.use_def:\n",
    "        classifier = torch.load('./cache/wordnet_classifier_def.pth')\n",
    "    else:\n",
    "        classifier = torch.load('./cache/wordnet_classifier.pth')\n",
    "    classifier = classifier.to(args.device)\n",
    "    return classifier\n",
    "\n",
    "classifier = get_classifier(args)"
   ]
  },
  {
   "cell_type": "markdown",
   "id": "93642e9a-d14a-4b10-aaba-c55e8bbd82a4",
   "metadata": {
    "tags": []
   },
   "source": [
    "### CLIP performance investigation -- initial assignment"
   ]
  },
  {
   "cell_type": "markdown",
   "id": "7949eb4f-c18f-432d-902a-e94e36d1b35c",
   "metadata": {},
   "source": [
    "raw performance"
   ]
  },
  {
   "cell_type": "code",
   "execution_count": null,
   "id": "b1cdfe8b-fa58-40bc-8674-2cef03d64910",
   "metadata": {
    "tags": []
   },
   "outputs": [],
   "source": [
    "classifier = get_classifier(args)\n",
    "use_norm = True\n",
    "amp_autocast = torch.cuda.amp.autocast\n",
    "classifier = classifier/classifier.norm(dim=-1, keepdim=True) if use_norm else classifier\n",
    "\n",
    "\n",
    "all_pred_voc = []\n",
    "all_gt_voc = []\n",
    "all_pred_voc_topk = []\n",
    "with tqdm(total=len(loader_val)) as pbar:\n",
    "    model.eval()\n",
    "    for idx_batch, batch in enumerate(loader_val):\n",
    "        images, label_voc, label_clu, idx_img = batch\n",
    "        images = images.to(args.device)\n",
    "        with amp_autocast():\n",
    "            with torch.no_grad():\n",
    "                logits = model.visual(images)\n",
    "                logits = logits/logits.norm(dim=-1, keepdim=True) if use_norm else logits\n",
    "                similarity = model.logit_scale.exp() * logits @ classifier.t()\n",
    "                prob = similarity.softmax(-1)\n",
    "                all_pred_voc.append(prob.argmax(dim=-1).cpu())\n",
    "                all_gt_voc.append(label_voc)\n",
    "                all_pred_voc_topk.append(prob.topk(k=5, dim=-1).indices.cpu())\n",
    "        pbar.update(1)\n",
    "\n",
    "all_pred_voc = torch.cat(all_pred_voc, dim=0)\n",
    "all_gt_voc = torch.cat(all_gt_voc, dim=0)\n",
    "all_pred_voc_topk = torch.cat(all_pred_voc_topk, dim=0)"
   ]
  },
  {
   "cell_type": "code",
   "execution_count": null,
   "id": "a8342549-3719-42d7-a44b-92385bfda05d",
   "metadata": {},
   "outputs": [],
   "source": [
    "print(f'acc={(all_pred_voc == all_gt_voc).float().mean()}')"
   ]
  },
  {
   "cell_type": "code",
   "execution_count": null,
   "id": "32cb01d5-b93b-4d9f-8978-09e2b899f620",
   "metadata": {},
   "outputs": [],
   "source": [
    "### topK accuracy\n",
    "for i in range(all_pred_voc_topk.size(1)):\n",
    "    vec = torch.zeros(all_pred_voc_topk.size(0)).bool()\n",
    "    for j in range(i+1):\n",
    "        vec |= (all_pred_voc_topk[:, j]==all_gt_voc)\n",
    "    print(f'k={i} acc={vec.float().mean()}')"
   ]
  },
  {
   "cell_type": "markdown",
   "id": "ded307e8-bfd9-4f56-881a-e9321be3929d",
   "metadata": {},
   "source": [
    "topK performance"
   ]
  },
  {
   "cell_type": "code",
   "execution_count": null,
   "id": "a4e62b16-2ad3-4799-b813-db5c545c8ee9",
   "metadata": {
    "tags": []
   },
   "outputs": [],
   "source": [
    "classifier = get_classifier(args)\n",
    "use_soft = True\n",
    "use_norm = True\n",
    "amp_autocast = torch.cuda.amp.autocast\n",
    "classifier = classifier/classifier.norm(dim=-1, keepdim=True) if use_norm else classifier\n",
    "topK = 5\n",
    "voc_beta = 5000\n",
    "mapping_classifier = None\n",
    "\n",
    "for voc_beta in [10000, 5000, 1000, 500]:\n",
    "    \"\"\" compute distribution over classifier\n",
    "    \"\"\"\n",
    "    vec_count = torch.zeros(classifier.size(0))\n",
    "    all_gt_labels = []\n",
    "    with tqdm(total=len(loader_val)) as pbar:\n",
    "        model.eval()\n",
    "        for idx_batch, batch in enumerate(loader_val):\n",
    "            images, label_voc, label_clu, idx_img = batch\n",
    "            images = images.to(args.device)\n",
    "            all_gt_labels.append(label_voc)\n",
    "            with amp_autocast():\n",
    "                with torch.no_grad():\n",
    "                    logits = model.visual(images)\n",
    "                    logits = logits/logits.norm(dim=-1, keepdim=True) if use_norm else logits\n",
    "                    similarity = model.logit_scale.exp() * logits @ classifier.t()\n",
    "                    prob = similarity.softmax(-1)\n",
    "\n",
    "                    topk_prob = prob.topk(k=topK, dim=-1)\n",
    "                    topk_ind = topk_prob.indices\n",
    "                    topk_val = topk_prob.values.flatten().cpu().numpy()\n",
    "                    batch_counter = Counter(topk_ind.flatten().cpu().numpy())\n",
    "                    if use_soft:\n",
    "                        for i, k in enumerate(topk_ind.flatten().cpu().numpy()):\n",
    "                            vec_count[k] += topk_val[i]\n",
    "                    else:\n",
    "                        for k, v in batch_counter.items():\n",
    "                            vec_count[k] += v\n",
    "            pbar.update(1)\n",
    "\n",
    "    all_gt_labels = torch.cat(all_gt_labels, dim=0)\n",
    "    all_valid_idx = vec_count.topk(k=voc_beta).indices\n",
    "    if mapping_classifier is None:\n",
    "        mapping_classifier = torch.tensor(sorted(all_valid_idx), device=args.device)\n",
    "    else:\n",
    "        mapping_classifier = torch.gather(mapping_classifier, 0, torch.tensor(sorted(all_valid_idx), device=args.device))\n",
    "    mask = torch.zeros(classifier.size(0), device=args.device)\n",
    "    mask = torch.scatter(mask, 0, torch.tensor(sorted(all_valid_idx), device=args.device), 1)\n",
    "    classifier = classifier[mask.bool()]\n",
    "\n",
    "    \"\"\" assignment on selected vocab\n",
    "    \"\"\"\n",
    "    all_pred_voc = []\n",
    "    all_gt_voc = []\n",
    "    with tqdm(total=len(loader_val)) as pbar:\n",
    "        model.eval()\n",
    "        for idx_batch, batch in enumerate(loader_val):\n",
    "            images, label_voc, label_clu, idx_img = batch\n",
    "            images = images.to(args.device)\n",
    "            all_gt_voc.append(label_voc)\n",
    "            with amp_autocast():\n",
    "                with torch.no_grad():\n",
    "                    logits = model.visual(images)\n",
    "                    logits = logits/logits.norm(dim=-1, keepdim=True) if use_norm else logits\n",
    "                    similarity = model.logit_scale.exp() * logits @ classifier.t()\n",
    "                    prob = similarity.softmax(-1)\n",
    "\n",
    "                    pred_label = prob.argmax(dim=-1)\n",
    "                    pred_label = torch.gather(mapping_classifier, 0, pred_label)\n",
    "                    all_pred_voc.append(pred_label.cpu())\n",
    "\n",
    "            pbar.update(1)\n",
    "\n",
    "        all_pred_voc = torch.cat(all_pred_voc, dim=0)\n",
    "        all_gt_voc = torch.cat(all_gt_voc, dim=0)\n",
    "        print(f'acc={(all_pred_voc == all_gt_voc).float().mean()}')\n",
    "\n",
    "        print(f'missing={len(set(all_gt_labels.cpu().numpy()) - set(mapping_classifier.cpu().numpy()))}')\n"
   ]
  },
  {
   "cell_type": "code",
   "execution_count": null,
   "id": "dc7586ee-6282-4a15-8375-bf77fc869308",
   "metadata": {},
   "outputs": [],
   "source": [
    "sns.distplot(vec_count.topk(k=voc_beta*dataset.num_classes).values.cpu().numpy(), bins=100)"
   ]
  },
  {
   "cell_type": "code",
   "execution_count": null,
   "id": "6381a3c8-f1a3-429f-b4b6-13a312c5edc2",
   "metadata": {},
   "outputs": [],
   "source": [
    "print(f'acc={(all_pred_voc == all_gt_voc).float().mean()}')"
   ]
  },
  {
   "cell_type": "markdown",
   "id": "7d205833-451c-4539-b20f-227ed64045d9",
   "metadata": {},
   "source": [
    "upperbound"
   ]
  },
  {
   "cell_type": "code",
   "execution_count": null,
   "id": "a57bc5cb-e5af-4528-aabb-a6854c51db4f",
   "metadata": {},
   "outputs": [],
   "source": [
    "classifier = get_classifier(args)\n",
    "use_norm = True\n",
    "amp_autocast = torch.cuda.amp.autocast\n",
    "classifier = classifier/classifier.norm(dim=-1, keepdim=True) if use_norm else classifier\n",
    "\n",
    "mask = torch.zeros(classifier.size(0), device=args.device)\n",
    "mapping_classifier = torch.tensor(sorted(set(dataset.labels)), device=args.device)\n",
    "mask = torch.scatter(mask, 0, mapping_classifier, 1)\n",
    "classifier = classifier[mask.bool()]\n",
    "\n",
    "all_pred_voc = []\n",
    "all_gt_voc = []\n",
    "with tqdm(total=len(loader_val)) as pbar:\n",
    "    model.eval()\n",
    "    for idx_batch, batch in enumerate(loader_val):\n",
    "        images, label_voc, label_clu, idx_img = batch\n",
    "        images = images.to(args.device)\n",
    "        with amp_autocast():\n",
    "            with torch.no_grad():\n",
    "                logits = model.visual(images)\n",
    "                logits = logits/logits.norm(dim=-1, keepdim=True) if use_norm else logits\n",
    "                similarity = model.logit_scale.exp() * logits @ classifier.t()\n",
    "                prob = similarity.softmax(-1)\n",
    "                all_pred_voc.append(prob.argmax(dim=-1).cpu())\n",
    "                all_gt_voc.append(label_voc)\n",
    "        pbar.update(1)\n",
    "\n",
    "all_pred_voc = torch.cat(all_pred_voc, dim=0)\n",
    "all_gt_voc = torch.cat(all_gt_voc, dim=0)\n",
    "\n",
    "all_pred_voc = torch.gather(mapping_classifier.cpu(), 0, all_pred_voc)\n",
    "\n",
    "print(f'acc={(all_pred_voc == all_gt_voc).float().mean()}')"
   ]
  },
  {
   "cell_type": "markdown",
   "id": "52897615-fcd6-4c26-ac22-b75be99ff3a1",
   "metadata": {},
   "source": [
    "hierarchy accuracy"
   ]
  },
  {
   "cell_type": "code",
   "execution_count": null,
   "id": "edef9118-91fc-47ad-9de9-a44437a83c59",
   "metadata": {},
   "outputs": [],
   "source": [
    "classifier = get_classifier(args)\n",
    "use_norm = True\n",
    "amp_autocast = torch.cuda.amp.autocast\n",
    "classifier = classifier/classifier.norm(dim=-1, keepdim=True) if use_norm else classifier\n",
    "\n",
    "\n",
    "all_pred_voc = []\n",
    "all_gt_voc = []\n",
    "with tqdm(total=len(loader_f)) as pbar:\n",
    "    model.eval()\n",
    "    for idx_batch, batch in enumerate(loader_f):\n",
    "        images, label_voc, label_clu, idx_img = batch\n",
    "        images = images.to(args.device)\n",
    "        with amp_autocast():\n",
    "            with torch.no_grad():\n",
    "                logits = model.visual(images)\n",
    "                logits = logits/logits.norm(dim=-1, keepdim=True) if use_norm else logits\n",
    "                similarity = model.logit_scale.exp() * logits @ classifier.t()\n",
    "                prob = similarity.softmax(-1)\n",
    "                all_pred_voc.append(prob.argmax(dim=-1).cpu())\n",
    "                # label_voc = torch.tensor(list(map(lambda x: vocab.mapping_names_idx[x], label_voc)))\n",
    "                all_gt_voc.append(label_voc)\n",
    "        pbar.update(1)\n",
    "\n",
    "all_pred_voc = torch.cat(all_pred_voc, dim=0)\n",
    "all_gt_voc = torch.cat(all_gt_voc, dim=0)"
   ]
  },
  {
   "cell_type": "code",
   "execution_count": null,
   "id": "c9519a02-6a92-4b2d-b350-05d5f4d83c34",
   "metadata": {},
   "outputs": [],
   "source": [
    "mapping_i2gi = vocab.mapping_idx_global_idx\n",
    "isin = lambda x, y: np.array([xx in y for xx in x])\n",
    "all_pred_hier = []\n",
    "for i in range(len(all_gt_voc)):\n",
    "    cond1 = isin(mapping_i2gi[all_gt_voc[i].item()], reduce(lambda x,y: x|y, [parents[p] for p in mapping_i2gi[all_pred_voc[i].item()]])).any()\n",
    "    cond2 = isin(mapping_i2gi[all_pred_voc[i].item()], reduce(lambda x,y: x|y, [parents[p] for p in mapping_i2gi[all_gt_voc[i].item()]])).any()\n",
    "    pred_hier = cond1 | cond2\n",
    "    all_pred_hier.append(pred_hier)"
   ]
  },
  {
   "cell_type": "code",
   "execution_count": null,
   "id": "92b82639-e18e-4da9-a0b7-36f32dfc184b",
   "metadata": {},
   "outputs": [],
   "source": [
    "np.array(all_pred_hier).mean()"
   ]
  },
  {
   "cell_type": "code",
   "execution_count": null,
   "id": "05a45ccd-0b81-4faa-833d-27d9ee4e4dbb",
   "metadata": {},
   "outputs": [],
   "source": [
    "(all_pred_voc==all_gt_voc).float().mean()"
   ]
  },
  {
   "cell_type": "markdown",
   "id": "328d1a80-6c76-41d2-97d3-3863a16490c0",
   "metadata": {},
   "source": [
    "KNN performance investigation"
   ]
  },
  {
   "cell_type": "code",
   "execution_count": null,
   "id": "2dfb43e8-525b-4d08-a46d-96f8c19d655f",
   "metadata": {},
   "outputs": [],
   "source": [
    "classifier = get_classifier(args)\n",
    "classifier = classifier/classifier.norm(dim=-1, keepdim=True)\n",
    "# classifier = F.normalize(classifier, dim=-1)\n"
   ]
  },
  {
   "cell_type": "code",
   "execution_count": null,
   "id": "5deebbc7-f951-40f6-bbe2-19ea353341c0",
   "metadata": {},
   "outputs": [],
   "source": [
    "similarity = classifier@classifier.T"
   ]
  },
  {
   "cell_type": "code",
   "execution_count": null,
   "id": "418ab39c-83e4-4414-9282-85f5db9b1d77",
   "metadata": {},
   "outputs": [],
   "source": [
    "K = 5\n",
    "topk_ind = similarity.topk(k=K+1).indices"
   ]
  },
  {
   "cell_type": "code",
   "execution_count": null,
   "id": "9b5457c3-7439-43d6-88f0-56949b23ce1b",
   "metadata": {
    "tags": []
   },
   "outputs": [],
   "source": [
    "list(map(lambda x: list(map(lambda y: classnames[y], x)), topk_ind.cpu().numpy().tolist()))"
   ]
  },
  {
   "cell_type": "code",
   "execution_count": null,
   "id": "e040aa32-b9f8-49d0-b48f-14063c0d670b",
   "metadata": {},
   "outputs": [],
   "source": [
    "len(classnames)"
   ]
  },
  {
   "cell_type": "markdown",
   "id": "feae789b-5b77-4a51-8964-7959c853c6d6",
   "metadata": {
    "tags": []
   },
   "source": [
    "### SSL performance investigation"
   ]
  },
  {
   "cell_type": "code",
   "execution_count": 8,
   "id": "d03d08de-9921-4117-995a-acdb887815ec",
   "metadata": {},
   "outputs": [
    {
     "name": "stderr",
     "output_type": "stream",
     "text": [
      "Using cache found in /home/sheng/.cache/torch/hub/facebookresearch_dino_main\n"
     ]
    }
   ],
   "source": [
    "arch = 'vit_dino'\n",
    "# arch = 'resnet_dino'\n",
    "\n",
    "def load_checkpoint(arch, model_fpath=None):\n",
    "    if arch == 'resnet_dino':\n",
    "        ckpt = torch.load('/home/sheng/dino/cache/make_nonliving26-resnet50_test_E500/checkpoint.pth', map_location='cpu')\n",
    "    elif arch == 'vit_dino':\n",
    "        # ckpt = torch.load('/home/sheng/SimGCD/cache/checkpoints/checkpoint.pth', map_location='cpu')\n",
    "        ckpt = torch.load('/home/sheng/OSZSL/cache/nonliving26_vitb16.pth', map_location='cpu')\n",
    "\n",
    "    state_dict = {k[len('module.'):]: v for k, v in ckpt['student'].items() if k.startswith('module.')}\n",
    "    state_dict = {k[len('backbone.'):]: v for k, v in state_dict.items() if k.startswith('backbone.')}\n",
    "    if model_fpath is None:\n",
    "        state_dict = torch.load('/home/sheng/dino/checkpoint/dino_vitbase16_pretrain.pth', map_location='cpu')\n",
    "    else:\n",
    "        state_dict = torch.load(model_fpath, map_location='cpu')\n",
    "        state_dict = {k[2:]:v for k, v in state_dict['model'].items() if k.startswith('0.')}\n",
    "    return state_dict\n",
    "\n",
    "state_dict = load_checkpoint(arch, '/home/sheng/SimGCD/cache/make_nonliving26/log/debug/checkpoints/model.pt')\n",
    "if arch == 'resnet_dino':\n",
    "    modelf = torchvision.models.resnet50()\n",
    "    modelf.load_state_dict(state_dict, strict=False)\n",
    "    modelf.fc = nn.Identity()\n",
    "elif arch == 'vit_dino':\n",
    "    modelf = torch.hub.load('facebookresearch/dino:main', 'dino_vitb16')\n",
    "    msg = modelf.load_state_dict(state_dict, strict=False)\n",
    "\n",
    "\"\"\" load dataset \"\"\"\n",
    "transform_f = transforms.Compose([\n",
    "    transforms.Resize(256, interpolation=transforms.InterpolationMode.BICUBIC),\n",
    "    transforms.CenterCrop(size=(224, 224)),\n",
    "    transforms.ToTensor(),\n",
    "    transforms.Normalize((0.485, 0.456, 0.406), (0.229, 0.224, 0.225)),\n",
    "])\n",
    "\n",
    "# dataset_f = get_datasets_oszsl(args, vocab, is_train=False, transform=transform_f)\n",
    "dataset_f = get_datasets_oszsl(args, vocab, is_train=True, transform=transform_f, seed=0)\n",
    "loader_f = torch.utils.data.DataLoader(dataset_f, num_workers=8, batch_size=args.batch_size, shuffle=False)"
   ]
  },
  {
   "cell_type": "markdown",
   "id": "8ff27d33-f618-42fb-93a7-e8229194573e",
   "metadata": {},
   "source": [
    "clustering"
   ]
  },
  {
   "cell_type": "code",
   "execution_count": null,
   "id": "1a55f9a3-8c54-47a7-87c9-abfef3e09bdf",
   "metadata": {},
   "outputs": [],
   "source": [
    "\"\"\" SSL clustering acc \"\"\"\n",
    "\n",
    "from sklearn.cluster import KMeans\n",
    "\n",
    "all_features = []\n",
    "all_labels = []\n",
    "all_idx_img = []\n",
    "modelf = modelf.to(args.device)\n",
    "modelf.eval()\n",
    "with tqdm(total=len(loader_f)) as pbar:\n",
    "    for batch in loader_f:\n",
    "        images, label_voc, label_clu, idx_img = batch\n",
    "        images = images.to(args.device)\n",
    "        \n",
    "        with torch.no_grad():\n",
    "            features = modelf(images)\n",
    "            features = F.normalize(features, dim=-1)\n",
    "            \n",
    "        all_features.append(features.detach().cpu())\n",
    "        all_labels.append(label_clu)\n",
    "        all_idx_img.append(idx_img)\n",
    "        \n",
    "        pbar.update(1)\n",
    "        \n",
    "all_features = torch.cat(all_features, dim=0)\n",
    "all_labels = torch.cat(all_labels, dim=0)\n",
    "all_idx_img = torch.cat(all_idx_img, dim=0)\n",
    "\n",
    "kmeans = KMeans(n_clusters=len(all_labels.unique()), n_init=100, max_iter=1000, random_state=43)\n",
    "pred_clu = kmeans.fit_predict(all_features.numpy())"
   ]
  },
  {
   "cell_type": "code",
   "execution_count": 10,
   "id": "25c32183-8922-497a-b997-7c6126112d9a",
   "metadata": {},
   "outputs": [],
   "source": [
    "np.save(f'./pred_clu-{args.dataset_name}-train-{arch}-dino_stage1.npy', pred_clu)"
   ]
  },
  {
   "cell_type": "code",
   "execution_count": null,
   "id": "cbea0560-9495-459f-9295-40090979c0cb",
   "metadata": {},
   "outputs": [],
   "source": [
    "np.save(f'./pred_clu-{args.dataset_name}-train-{arch}.npy', pred_clu)\n",
    "# pred_clu = np.load(f'./pred_clu-{args.dataset_name}-train-{arch}.npy')"
   ]
  },
  {
   "cell_type": "code",
   "execution_count": null,
   "id": "8090ee39-4248-4c84-95f9-61f6e8baf7b6",
   "metadata": {},
   "outputs": [],
   "source": [
    "# all_features = all_features.to(args.device)\n",
    "sim = all_features@all_features.t()\n",
    "np.save(f'./knn_ind-{args.dataset_name}-train-{arch}.npy', sim.topk(k=300).indices.cpu().numpy())"
   ]
  },
  {
   "cell_type": "code",
   "execution_count": null,
   "id": "f3e20167-6022-4ee0-8e95-ddd93dde38e9",
   "metadata": {},
   "outputs": [],
   "source": [
    "from my_util_package.evaluation import cluster_acc\n",
    "\n",
    "cluster_acc(pred_clu, all_labels.numpy())"
   ]
  },
  {
   "cell_type": "code",
   "execution_count": null,
   "id": "ee72e71e-2619-4f46-884d-630ce5ca068e",
   "metadata": {},
   "outputs": [],
   "source": [
    "from my_util_package.evaluation import cluster_acc\n",
    "\n",
    "cluster_acc(pred_clu, all_labels.numpy())"
   ]
  },
  {
   "cell_type": "markdown",
   "id": "a8d59f21-7e3a-4d8d-9d92-564e0b290224",
   "metadata": {},
   "source": [
    "CLIP clustering"
   ]
  },
  {
   "cell_type": "code",
   "execution_count": null,
   "id": "7a8b1f66-2810-4e10-a66f-1e5e8ef58010",
   "metadata": {},
   "outputs": [],
   "source": [
    "pred_clu = np.load(f'./pred_clu-{args.dataset_name}-train-{arch}.npy')"
   ]
  },
  {
   "cell_type": "code",
   "execution_count": null,
   "id": "b83bf01e-46bb-4aaa-ae59-260bfc32baaa",
   "metadata": {},
   "outputs": [
    {
     "name": "stderr",
     "output_type": "stream",
     "text": [
      "100%|██████████| 654/654 [06:22<00:00,  1.71it/s]\n"
     ]
    }
   ],
   "source": [
    "\"\"\" CLIP clustering acc \"\"\"\n",
    "\n",
    "from sklearn.cluster import KMeans, MiniBatchKMeans\n",
    "from my_util_package.evaluation import cluster_acc\n",
    "\n",
    "amp_autocast = torch.cuda.amp.autocast\n",
    "all_features = []\n",
    "all_labels = []\n",
    "all_idx_img = []\n",
    "modelf = modelf.to(args.device)\n",
    "modelf.eval()\n",
    "with tqdm(total=len(loader_f)) as pbar:\n",
    "    for batch in loader_f:\n",
    "        images, label_voc, label_clu, idx_img = batch\n",
    "        images = images.to(args.device)\n",
    "        with amp_autocast():\n",
    "            with torch.no_grad():\n",
    "                features = model.visual(images)\n",
    "                features = features/features.norm(dim=-1, keepdim=True)\n",
    "        all_features.append(features.detach().cpu())\n",
    "        all_labels.append(label_clu)\n",
    "        all_idx_img.append(idx_img)\n",
    "        \n",
    "        pbar.update(1)\n",
    "        \n",
    "all_features = torch.cat(all_features, dim=0).float().numpy()\n",
    "all_labels = torch.cat(all_labels, dim=0)\n",
    "all_idx_img = torch.cat(all_idx_img, dim=0)\n",
    "\n",
    "# cluster_acc(pred_clu, all_labels.numpy())\n",
    "\n",
    "# clip_store = torch.load(f'./cache/clip_store-{args.dataset_name}.pth')\n",
    "# all_gt_label_clu = clip_store['all_gt_label_clu']\n",
    "# all_features = clip_store['all_features']\n",
    "\n",
    "# kmeans = KMeans(n_clusters=len(all_gt_label_clu.unique()), n_init=100, max_iter=1000, random_state=43)\n",
    "kmeans = KMeans(n_clusters=5000, n_init=100, max_iter=1000, random_state=43)\n",
    "pred_clu = kmeans.fit_predict(all_features)\n",
    "kmeans = MiniBatchKMeans(n_clusters=5000, n_init=100, max_iter=1000, random_state=43)\n",
    "pred_clu = kmeans.fit_transform(all_features)"
   ]
  },
  {
   "cell_type": "code",
   "execution_count": null,
   "id": "c16e9cb5-a4fb-47b0-959e-a023164cc2b8",
   "metadata": {
    "scrolled": true,
    "tags": []
   },
   "outputs": [],
   "source": [
    "from sklearn.cluster import KMeans, MiniBatchKMeans\n",
    "kmeans = MiniBatchKMeans(n_clusters=5000, n_init=20, max_iter=1000, random_state=43, verbose=2, batch_size=20000)\n",
    "pred_clu = kmeans.fit_predict(all_features)"
   ]
  },
  {
   "cell_type": "code",
   "execution_count": null,
   "id": "8d553326-8716-4ad4-b895-c507c99fb1d7",
   "metadata": {},
   "outputs": [],
   "source": [
    "np.save(f'./pred_clu-{args.dataset_name}-train-clip-C=5k.npy', pred_clu)"
   ]
  },
  {
   "cell_type": "code",
   "execution_count": 13,
   "id": "32176f36-cfdd-4d52-8a77-e4f24082da60",
   "metadata": {},
   "outputs": [],
   "source": [
    "### overclustering\n",
    "from sklearn.cluster import KMeans\n",
    "clip_store = torch.load(f'./cache/clip_store-{args.dataset_name}.pth')\n",
    "all_gt_label_clu = clip_store['all_gt_label_clu']\n",
    "all_features = clip_store['all_features']\n",
    "alpha_over_clustering = 10\n",
    "kmeans = KMeans(n_clusters=alpha_over_clustering*len(all_gt_label_clu.unique()), n_init=100, max_iter=1000, random_state=43)\n",
    "pred_clu = kmeans.fit_predict(all_features)\n",
    "np.save(f'./pred_clu-{args.dataset_name}-train-clip-over_{alpha_over_clustering}.npy', pred_clu)\n",
    "\n",
    "clip_store = torch.load(f'./cache/clip_store-{args.dataset_name}.pth')\n",
    "all_gt_label_clu = clip_store['all_gt_label_clu']\n",
    "all_features = clip_store['all_features']\n",
    "alpha_over_clustering = 5\n",
    "kmeans = KMeans(n_clusters=alpha_over_clustering*len(all_gt_label_clu.unique()), n_init=100, max_iter=1000, random_state=43)\n",
    "pred_clu = kmeans.fit_predict(all_features)\n",
    "np.save(f'./pred_clu-{args.dataset_name}-train-clip-over_{alpha_over_clustering}.npy', pred_clu)"
   ]
  },
  {
   "cell_type": "code",
   "execution_count": null,
   "id": "839f765c-949b-4807-b2a9-12c0e3565e8d",
   "metadata": {},
   "outputs": [],
   "source": []
  },
  {
   "cell_type": "markdown",
   "id": "006f4feb-e99d-4d4c-aa7c-5c4a801f030c",
   "metadata": {},
   "source": [
    "Cluster navigation (depends on clustering)"
   ]
  },
  {
   "cell_type": "code",
   "execution_count": null,
   "id": "de786f98-6bb8-4643-b070-de7187cd46aa",
   "metadata": {},
   "outputs": [],
   "source": [
    "\"\"\" topk prediction from CLIP \"\"\"\n",
    "classifier = get_classifier(args)\n",
    "use_norm = True\n",
    "amp_autocast = torch.cuda.amp.autocast\n",
    "classifier = classifier/classifier.norm(dim=-1, keepdim=True) if use_norm else classifier\n",
    "\n",
    "prob_k = 5\n",
    "all_topk_voc = []\n",
    "all_gt_voc = []\n",
    "all_labels = []\n",
    "with tqdm(total=len(loader_f)) as pbar:\n",
    "    model.eval()\n",
    "    for idx_batch, batch in enumerate(loader_f):\n",
    "        images, label_voc, label_clu, idx_img = batch\n",
    "        images = images.to(args.device)\n",
    "        with amp_autocast():\n",
    "            with torch.no_grad():\n",
    "                logits = model.visual(images)\n",
    "                logits = logits/logits.norm(dim=-1, keepdim=True) if use_norm else logits\n",
    "                similarity = model.logit_scale.exp() * logits @ classifier.t()\n",
    "                prob = similarity.softmax(-1)\n",
    "                prob_topk_ind = prob.topk(k=prob_k, dim=-1).indices\n",
    "                pred_topk_scattered = torch.scatter(torch.zeros([images.size(0), classifier.size(0)], \n",
    "                                                                device=args.device), 1, prob_topk_ind, 1)\n",
    "                all_topk_voc.append(pred_topk_scattered.cpu())\n",
    "                all_gt_voc.append(label_voc)\n",
    "        pbar.update(1)\n",
    "\n",
    "all_topk_voc = torch.cat(all_topk_voc, dim=0)\n",
    "all_gt_voc = torch.cat(all_gt_voc, dim=0)"
   ]
  },
  {
   "cell_type": "code",
   "execution_count": null,
   "id": "fd0cdc6a-707c-45cf-8bda-d76f80bed2bc",
   "metadata": {},
   "outputs": [],
   "source": [
    "from scipy.optimize import linear_sum_assignment as linear_assignment\n",
    "\n",
    "### per predicted-cluster voting\n",
    "pred_kmeans = torch.from_numpy(np.load(f'./pred_clu-{args.dataset_name}-train-{arch}.npy'))\n",
    "\n",
    "pred_kmeans_t = pred_kmeans\n",
    "# for it in range(10):\n",
    "#     print(f'iteration {it}')\n",
    "\n",
    "# cluster agg\n",
    "all_clu_pred = []\n",
    "for i in range(len(all_gt_voc.unique())):\n",
    "    selected = (pred_kmeans==i)\n",
    "    clu_pred = F.normalize(all_topk_voc[selected].sum(dim=0), dim=-1, p=1)\n",
    "    all_clu_pred.append(clu_pred)\n",
    "all_clu_pred = torch.stack(all_clu_pred, dim=0)\n",
    "\n",
    "# linear assignment\n",
    "print('is mutex assignment::', all_clu_pred.argmax(dim=-1).size(0)==all_clu_pred.argmax(dim=-1).unique().size(0))\n",
    "print('assignment collision num::', len(list(filter(lambda x: x>1, Counter(all_clu_pred.argmax(dim=-1).numpy()).values()))))\n",
    "\n",
    "cost_mat = all_clu_pred.cpu().numpy()\n",
    "res_ass = linear_assignment(cost_mat.max() - cost_mat)\n",
    "label_kmeans_voc = torch.tensor([res_ass[1][x.item()] for x in pred_kmeans])\n",
    "\n",
    "print('instance label acc::', (label_kmeans_voc==all_gt_voc).float().mean().item())"
   ]
  },
  {
   "cell_type": "code",
   "execution_count": null,
   "id": "d4979ece-f872-406c-ad93-72b2970f0dd7",
   "metadata": {},
   "outputs": [],
   "source": [
    "prob_k = 5\n",
    "all_topk_voc = []\n",
    "all_gt_voc = []\n",
    "all_labels = []\n",
    "with tqdm(total=len(loader_f)) as pbar:\n",
    "    model.eval()\n",
    "    for idx_batch, batch in enumerate(loader_f):\n",
    "        images, label_voc, label_clu, idx_img = batch\n",
    "        images = images.to(args.device)\n",
    "        with amp_autocast():\n",
    "            with torch.no_grad():\n",
    "                logits = model.visual(images)\n",
    "                logits = logits/logits.norm(dim=-1, keepdim=True) if use_norm else logits\n",
    "                similarity = model.logit_scale.exp() * logits @ classifier.t()\n",
    "                prob = similarity.softmax(-1)\n",
    "                prob_topk_ind = prob.topk(k=prob_k, dim=-1).indices\n",
    "                pred_topk_scattered = torch.scatter(torch.zeros([images.size(0), classifier.size(0)], \n",
    "                                                                device=args.device), 1, prob_topk_ind, 1)\n",
    "                all_topk_voc.append(pred_topk_scattered.cpu())\n",
    "                all_gt_voc.append(label_voc)\n",
    "        pbar.update(1)\n",
    "\n",
    "all_topk_voc = torch.cat(all_topk_voc, dim=0)\n",
    "all_gt_voc = torch.cat(all_gt_voc, dim=0)"
   ]
  },
  {
   "cell_type": "code",
   "execution_count": null,
   "id": "53f56c2b-1baf-434d-a4fe-7a35fc495272",
   "metadata": {},
   "outputs": [],
   "source": [
    "### subset vocab\n",
    "col_subset = all_clu_pred.nonzero()[:, 1]\n",
    "col_subset = col_subset.unique().sort().values"
   ]
  },
  {
   "cell_type": "markdown",
   "id": "788bf5fc-fcbb-49df-a2c0-a6155255e9c3",
   "metadata": {},
   "source": [
    "KNN investigation"
   ]
  },
  {
   "cell_type": "code",
   "execution_count": null,
   "id": "52721295-8e5c-4baf-9e70-0434168d1867",
   "metadata": {
    "tags": []
   },
   "outputs": [],
   "source": [
    "neighborhood_size = np.arange(5, 500, 5)\n",
    "similarity = all_features@all_features.T\n",
    "label_match = all_labels.view(-1, 1)==all_labels.view(1, -1)\n",
    "for K in neighborhood_size:\n",
    "    topk_res = similarity.topk(k=K+1)\n",
    "    topk_ind = topk_res.indices[:, 1:]\n",
    "    topk_match = torch.gather(label_match, 1, topk_ind)\n",
    "    topk_acc = topk_match.float().mean(dim=-1).mean()\n",
    "    print(f'K={K} acc={topk_acc}')"
   ]
  },
  {
   "cell_type": "code",
   "execution_count": null,
   "id": "45519d41-07c4-44e5-b649-5b170e3e1325",
   "metadata": {},
   "outputs": [],
   "source": [
    "from my_util_package.graph import compute_consensus_on_features\n",
    "neighborhood_size = np.arange(5, 50, 5)\n",
    "similarity = all_features@all_features.T\n",
    "label_match = all_labels.view(-1, 1)==all_labels.view(1, -1)\n",
    "for K in neighborhood_size:\n",
    "    _, _, pred_affinity = compute_consensus_on_features(all_features, k=K+1, q=0.8)\n",
    "    acc = ((pred_affinity & label_match).float().sum(1)/(pred_affinity.float().sum(1)+1e-10)).mean()\n",
    "    n_nn = pred_affinity.float().sum(1).mean()\n",
    "    print(f'K={K} acc={acc} n_nn={n_nn}')"
   ]
  },
  {
   "cell_type": "code",
   "execution_count": null,
   "id": "e970ede6-7bd9-408d-a903-30200acf6f93",
   "metadata": {},
   "outputs": [],
   "source": [
    "neighborhood_size = np.arange(5, 50, 5)\n",
    "similarity = all_features@all_features.T\n",
    "label_match = all_labels.view(-1, 1)==all_labels.view(1, -1)\n",
    "for K in neighborhood_size:\n",
    "    _, _, pred_affinity = compute_consensus_on_features(all_features, k=K+1, q=0.5)\n",
    "    acc = ((pred_affinity & label_match).float().sum(1)/(pred_affinity.float().sum(1)+1e-10)).mean()\n",
    "    n_nn = pred_affinity.float().sum(1).mean()\n",
    "    print(f'K={K} acc={acc} n_nn={n_nn}')"
   ]
  },
  {
   "cell_type": "code",
   "execution_count": null,
   "id": "4a399a6e-531d-41bd-b16e-c8b0b40f9096",
   "metadata": {},
   "outputs": [],
   "source": [
    "\"\"\" KNN matrix output \"\"\"\n",
    "neighborhood_size = 315\n",
    "similarity = all_features@all_features.T\n",
    "label_match = (all_labels.view(-1, 1)==all_labels.view(1, -1))\n",
    "K = neighborhood_size\n",
    "topk_res = similarity.topk(k=K+1)\n",
    "topk_ind = topk_res.indices\n",
    "\n",
    "torch.save(topk_ind, f'./cache/{args.dataset_name}-clip-knn-{neighborhood_size}.pth')"
   ]
  },
  {
   "cell_type": "markdown",
   "id": "cadcd275-c353-44f0-b13c-e47a1729d4c6",
   "metadata": {},
   "source": [
    "### SCD"
   ]
  },
  {
   "cell_type": "code",
   "execution_count": 6,
   "id": "4a0a1f64-e602-447c-9b56-045118530fa3",
   "metadata": {},
   "outputs": [
    {
     "name": "stderr",
     "output_type": "stream",
     "text": [
      "Using cache found in /home/sheng/.cache/torch/hub/facebookresearch_dino_main\n"
     ]
    }
   ],
   "source": [
    "from sklearn.cluster import KMeans\n",
    "from my_util_package.evaluation import cluster_acc\n",
    "from scipy.optimize import linear_sum_assignment as linear_assignment\n",
    "\n",
    "subset = ['train', 'val'][0]\n",
    "modelf = torch.hub.load('facebookresearch/dino:main', 'dino_vitb16')\n",
    "arch = 'vit_dino'\n",
    "\n",
    "\"\"\" load dataset \"\"\"\n",
    "transform_f = transforms.Compose([\n",
    "    transforms.Resize(256, interpolation=transforms.InterpolationMode.BICUBIC),\n",
    "    transforms.CenterCrop(size=(224, 224)),\n",
    "    transforms.ToTensor(),\n",
    "    transforms.Normalize((0.485, 0.456, 0.406), (0.229, 0.224, 0.225)),\n",
    "])\n",
    "\n",
    "# dataset_f = get_datasets_oszsl(args, vocab, is_train=False, transform=transform_f)\n",
    "if subset == 'train':\n",
    "    dataset_f = get_datasets_oszsl(args, vocab, is_train=True, transform=transform_f, seed=1)\n",
    "elif subset == 'val':\n",
    "    dataset_f = get_datasets_oszsl(args, vocab, is_train=False, transform=transform_f, seed=1)\n",
    "args.nb_classes = dataset_f.num_classes\n",
    "loader_f = torch.utils.data.DataLoader(dataset_f, num_workers=8, batch_size=args.batch_size, shuffle=False)\n",
    "\n",
    "if subset == 'train':\n",
    "    pred_kmeans = torch.from_numpy(np.load(f'./pred_clu-{args.dataset_name}-train-{arch}.npy'))\n",
    "elif subset == 'val':\n",
    "    pred_kmeans = torch.from_numpy(np.load(f'./pred_clu-{args.dataset_name}-val-{arch}.npy'))"
   ]
  },
  {
   "cell_type": "code",
   "execution_count": 7,
   "id": "5b73b47b-eb67-48ce-9d9e-b0fc1c8c17b3",
   "metadata": {},
   "outputs": [
    {
     "name": "stdout",
     "output_type": "stream",
     "text": [
      "Model parameters: 149,620,737\n",
      "Input resolution: 224\n",
      "Context length: 77\n",
      "Vocab size: 49408\n"
     ]
    }
   ],
   "source": [
    "model, preprocess = clip.load(args.arch)\n",
    "if args.clip_checkpoint:\n",
    "    model.load_state_dict({k[len('model.'):]:v for k, v in torch.load(args.clip_checkpoint, map_location='cpu')['model'].items()}, strict=False)\n",
    "model.to(args.device).eval()\n",
    "input_resolution = model.visual.input_resolution\n",
    "context_length = model.context_length\n",
    "vocab_size = model.vocab_size\n",
    "\n",
    "print(\"Model parameters:\", f\"{np.sum([int(np.prod(p.shape)) for p in model.parameters()]):,}\")\n",
    "print(\"Input resolution:\", input_resolution)\n",
    "print(\"Context length:\", context_length)\n",
    "print(\"Vocab size:\", vocab_size)"
   ]
  },
  {
   "cell_type": "code",
   "execution_count": null,
   "id": "3603352d-d18b-4722-a319-c3589a93ac6b",
   "metadata": {
    "tags": []
   },
   "outputs": [],
   "source": [
    "# \"\"\" topk prediction from CLIP \"\"\"\n",
    "# classifier = get_classifier(args)\n",
    "# use_norm = True\n",
    "# amp_autocast = torch.cuda.amp.autocast\n",
    "# classifier = classifier/classifier.norm(dim=-1, keepdim=True) if use_norm else classifier\n",
    "\n",
    "# # initial topK prediction from CLIP\n",
    "# prob_k = 5\n",
    "# all_topk_voc = []\n",
    "# all_gt_voc = []\n",
    "# all_prob = []\n",
    "# all_label_clu = []\n",
    "# with tqdm(total=len(loader_f)) as pbar:\n",
    "#     model.eval()\n",
    "#     for idx_batch, batch in enumerate(loader_f):\n",
    "#         images, label_voc, label_clu, idx_img = batch\n",
    "#         images = images.to(args.device)\n",
    "#         with amp_autocast():\n",
    "#             with torch.no_grad():\n",
    "#                 logits = model.visual(images)\n",
    "#                 logits = logits/logits.norm(dim=-1, keepdim=True) if use_norm else logits\n",
    "#                 similarity = model.logit_scale.exp() * logits @ classifier.t()\n",
    "#                 prob = similarity.softmax(-1)\n",
    "#                 prob_topk_ind = prob.topk(k=prob_k, dim=-1).indices\n",
    "#                 pred_topk_scattered = torch.scatter(torch.zeros([images.size(0), classifier.size(0)], \n",
    "#                                                                 device=args.device), 1, prob_topk_ind, 1)\n",
    "#                 # all_prob.append(prob.cpu())\n",
    "#                 all_topk_voc.append(pred_topk_scattered.cpu())\n",
    "#                 all_gt_voc.append(label_voc)\n",
    "#                 all_label_clu.append(label_clu)\n",
    "#         pbar.update(1)\n",
    "\n",
    "# # all_prob = torch.cat(all_prob, dim=0)\n",
    "# all_topk_voc = torch.cat(all_topk_voc, dim=0)\n",
    "# all_gt_voc = torch.cat(all_gt_voc, dim=0)\n",
    "# all_label_clu = torch.cat(all_label_clu, dim=0)\n",
    "\n",
    "# # cluster agg\n",
    "# def agg_by_pred_cluster(args, pred_kmeans, all_topk_voc):\n",
    "#     all_clu_pred = []\n",
    "#     for i in range(args.nb_classes):\n",
    "#         selected = (pred_kmeans==i)\n",
    "#         clu_pred = F.normalize(all_topk_voc[selected].sum(dim=0), dim=-1, p=1)\n",
    "#         all_clu_pred.append(clu_pred)\n",
    "#     all_clu_pred = torch.stack(all_clu_pred, dim=0)\n",
    "#     print('is mutex assignment::', all_clu_pred.argmax(dim=-1).size(0)==all_clu_pred.argmax(dim=-1).unique().size(0))\n",
    "#     print('assignment collision num::', len(list(filter(lambda x: x>1, Counter(all_clu_pred.argmax(dim=-1).numpy()).values()))))\n",
    "#     return all_clu_pred\n",
    "\n",
    "# def linear_assign(all_clu_pred, pred_kmeans, all_gt_voc):\n",
    "#     cost_mat = all_clu_pred.cpu().numpy()\n",
    "#     res_ass = linear_assignment(cost_mat.max() - cost_mat)\n",
    "#     label_voc_kmeans = torch.tensor([res_ass[1][x.item()] for x in pred_kmeans])\n",
    "#     print('instance label acc::', (label_voc_kmeans==all_gt_voc).float().mean().item())\n",
    "#     return label_voc_kmeans, res_ass\n",
    "\n",
    "# def reassign_by_pred_cluster(label_voc_kmeans, loader_f, model, classifier, args, all_prob=None):\n",
    "#     label_voc_kmeans = label_voc_kmeans.to(args.device)\n",
    "#     if all_prob is None:\n",
    "#         cluster_ind = []\n",
    "#         with tqdm(total=len(loader_f)) as pbar:\n",
    "#             model.eval()\n",
    "#             for idx_batch, batch in enumerate(loader_f):\n",
    "#                 images, label_voc, label_clu, idx_img = batch\n",
    "#                 images = images.to(args.device)\n",
    "#                 with amp_autocast():\n",
    "#                     with torch.no_grad():\n",
    "#                         logits = model.visual(images)\n",
    "#                         logits = logits/logits.norm(dim=-1, keepdim=True) if use_norm else logits\n",
    "#                         similarity = model.logit_scale.exp() * logits @ classifier.t()\n",
    "#                         prob = similarity.softmax(-1)\n",
    "#                         cluster_ind.append(prob[:, label_voc_kmeans].cpu().argmax(dim=-1))\n",
    "#                 pbar.update(1)\n",
    "#         cluster_ind = torch.cat(cluster_ind, dim=0)\n",
    "#     else:\n",
    "#         all_prob = all_prob[:, label_voc_kmeans]\n",
    "#         cluster_ind = all_prob.argmax(dim=-1)\n",
    "#     mapping_ind = dict(zip(cluster_ind.unique().numpy(), torch.arange(cluster_ind.unique().size(0)).numpy()))\n",
    "#     cluster_ind = torch.tensor([mapping_ind[x.item()] for x in cluster_ind])\n",
    "#     return cluster_ind"
   ]
  },
  {
   "cell_type": "code",
   "execution_count": 8,
   "id": "99ca3405-7460-4d17-9208-dcad1edcc3a7",
   "metadata": {},
   "outputs": [],
   "source": [
    "def agg_by_pred_cluster(args, pred_kmeans, all_topk_voc, voc_size):\n",
    "    \"\"\"\n",
    "    Args:\n",
    "        pred_kmeans: np.array([N])\n",
    "        all_topk_voc: np.array([N x K])\n",
    "        voc_size: int\n",
    "    Returns:\n",
    "        all_clu_pred: tensor([C x V])\n",
    "    \"\"\"\n",
    "    print('agg_by_pred_cluster')\n",
    "    all_clu_pred = []\n",
    "    for i in np.unique(pred_kmeans):\n",
    "        selected = (pred_kmeans==i)\n",
    "        n_count = selected.sum().item()\n",
    "        counter_voc_ind, counter_val = np.unique((all_topk_voc[selected]).ravel(), return_counts=True)\n",
    "        counter_val = counter_val/(n_count+1e-20) # L1 norm\n",
    "        clu_pred = torch.zeros(args.num_voc) # cluster-wise prob\n",
    "        clu_pred[torch.from_numpy(counter_voc_ind).long()] = torch.from_numpy(counter_val).float()\n",
    "        # clu_pred = F.normalize(all_topk_voc[selected].sum(dim=0), dim=-1, p=1)\n",
    "        all_clu_pred.append(clu_pred)\n",
    "    all_clu_pred = torch.stack(all_clu_pred, dim=0).cpu()\n",
    "    print('is mutex assignment::', all_clu_pred.argmax(dim=-1).size(0)==all_clu_pred.argmax(dim=-1).unique().size(0))\n",
    "    print('assignment collision num::', len(list(filter(lambda x: x>1, Counter(all_clu_pred.argmax(dim=-1).numpy()).values()))))\n",
    "    return all_clu_pred\n",
    "\n",
    "def linear_assign(all_clu_pred, pred_kmeans, all_gt_voc):\n",
    "    print('linear_assign')\n",
    "    cost_mat = all_clu_pred.cpu().numpy()\n",
    "    print(f'assignment shape={cost_mat.shape}')\n",
    "    res_ass = linear_assignment(cost_mat.max() - cost_mat)\n",
    "    label_voc_kmeans = torch.tensor([res_ass[1][x.item()] for x in pred_kmeans])\n",
    "    print('instance label acc::', (label_voc_kmeans==all_gt_voc).float().mean().item())\n",
    "    return label_voc_kmeans, res_ass\n",
    "\n",
    "def reassign_by_pred_cluster(label_voc_kmeans, loader_f, model, classifier, device, all_prob=None, \n",
    "                             instance_selected=None, \n",
    "                             classifier_selected=None):\n",
    "    \"\"\" [revised at 2023-02-17 12 AM]\n",
    "    Args:\n",
    "        classifier_selected: tensor([C2])\n",
    "    \"\"\"\n",
    "    print('reassign_by_pred_cluster')\n",
    "    amp_autocast = torch.cuda.amp.autocast\n",
    "    label_voc_kmeans = label_voc_kmeans.to(device)\n",
    "    if all_prob is None:\n",
    "        cluster_ind = []\n",
    "        with tqdm(total=len(loader_f)) as pbar:\n",
    "            if hasattr(model, 'eval'):\n",
    "                model.eval()\n",
    "            for idx_batch, batch in enumerate(loader_f):\n",
    "                images, label_voc, label_clu, idx_img = batch[:4]\n",
    "                images = images.to(device)\n",
    "                if (instance_selected is not None) and ((~instance_selected[idx_img]).all()):\n",
    "                    continue\n",
    "                with amp_autocast():\n",
    "                    with torch.no_grad():\n",
    "                        if (instance_selected is not None):\n",
    "                            logits = model.visual(images[instance_selected[idx_img]])\n",
    "                        else:\n",
    "                            logits = model.visual(images)\n",
    "                            \n",
    "                        logits = logits/logits.norm(dim=-1, keepdim=True)\n",
    "                        \n",
    "                        if classifier_selected is not None:\n",
    "                            similarity = 100 * logits @ classifier.t()\n",
    "                            prob = similarity.softmax(-1)[:, label_voc_kmeans].argmax(dim=-1)\n",
    "                            cluster_ind.append(prob.cpu())\n",
    "                        else:\n",
    "                            similarity = 100 * logits @ classifier.t()\n",
    "                            prob = similarity.softmax(-1)\n",
    "                            cluster_ind.append(prob[:, label_voc_kmeans].cpu().argmax(dim=-1))\n",
    "                pbar.update(1)\n",
    "        cluster_ind = torch.cat(cluster_ind, dim=0)\n",
    "    else:\n",
    "        all_prob = all_prob[:, label_voc_kmeans]\n",
    "        cluster_ind = all_prob.argmax(dim=-1)\n",
    "        \n",
    "    # if classifier_selected is not None:\n",
    "    #     print(cluster_ind.shape, classifier_selected.shape, cluster_ind.max())\n",
    "    #     cluster_ind_voc = classifier_selected.index_select(0, cluster_ind)\n",
    "    # else:\n",
    "    cluster_ind_voc = label_voc_kmeans[cluster_ind]\n",
    "    mapping_ind = dict(zip(cluster_ind.unique().numpy(), torch.arange(cluster_ind.unique().size(0)).numpy()))\n",
    "    cluster_ind = torch.tensor([mapping_ind[x.item()] for x in cluster_ind])\n",
    "    return cluster_ind, cluster_ind_voc"
   ]
  },
  {
   "cell_type": "code",
   "execution_count": 9,
   "id": "d3b3caf2-b17b-4590-8dfe-ec8e6a0a5695",
   "metadata": {
    "scrolled": true,
    "tags": []
   },
   "outputs": [
    {
     "name": "stderr",
     "output_type": "stream",
     "text": [
      "100%|██████████| 654/654 [06:24<00:00,  1.70it/s]\n"
     ]
    },
    {
     "name": "stdout",
     "output_type": "stream",
     "text": [
      "agg_by_pred_cluster\n",
      "is mutex assignment:: False\n",
      "assignment collision num:: 17\n",
      "linear_assign\n",
      "assignment shape=(260, 67174)\n",
      "instance label acc:: 0.29067155718803406\n",
      "reassign_by_pred_cluster\n"
     ]
    },
    {
     "name": "stderr",
     "output_type": "stream",
     "text": [
      "100%|██████████| 654/654 [09:23<00:00,  1.16it/s]\n"
     ]
    },
    {
     "name": "stdout",
     "output_type": "stream",
     "text": [
      "missing label:: 149\n",
      "cluster acc 0.696413099982672\n",
      "agg_by_pred_cluster\n",
      "is mutex assignment:: True\n",
      "assignment collision num:: 0\n",
      "linear_assign\n",
      "assignment shape=(260, 67174)\n",
      "instance label acc:: 0.3429902195930481\n",
      "reassign_by_pred_cluster\n"
     ]
    },
    {
     "name": "stderr",
     "output_type": "stream",
     "text": [
      "100%|██████████| 654/654 [09:22<00:00,  1.16it/s]\n"
     ]
    },
    {
     "name": "stdout",
     "output_type": "stream",
     "text": [
      "missing label:: 150\n",
      "cluster acc 0.7016144933944395\n",
      "agg_by_pred_cluster\n",
      "is mutex assignment:: True\n",
      "assignment collision num:: 0\n",
      "linear_assign\n",
      "assignment shape=(260, 67174)\n",
      "instance label acc:: 0.34697267413139343\n",
      "reassign_by_pred_cluster\n"
     ]
    },
    {
     "name": "stderr",
     "output_type": "stream",
     "text": [
      "100%|██████████| 654/654 [09:27<00:00,  1.15it/s]\n"
     ]
    },
    {
     "name": "stdout",
     "output_type": "stream",
     "text": [
      "missing label:: 150\n",
      "cluster acc 0.7015876050884625\n",
      "agg_by_pred_cluster\n",
      "is mutex assignment:: True\n",
      "assignment collision num:: 0\n",
      "linear_assign\n",
      "assignment shape=(260, 67174)\n",
      "instance label acc:: 0.34697866439819336\n",
      "reassign_by_pred_cluster\n"
     ]
    },
    {
     "name": "stderr",
     "output_type": "stream",
     "text": [
      "100%|██████████| 654/654 [09:26<00:00,  1.16it/s]\n"
     ]
    },
    {
     "name": "stdout",
     "output_type": "stream",
     "text": [
      "missing label:: 150\n",
      "cluster acc 0.7015876050884625\n",
      "agg_by_pred_cluster\n",
      "is mutex assignment:: True\n",
      "assignment collision num:: 0\n",
      "linear_assign\n",
      "assignment shape=(260, 67174)\n",
      "instance label acc:: 0.34697866439819336\n",
      "reassign_by_pred_cluster\n"
     ]
    },
    {
     "name": "stderr",
     "output_type": "stream",
     "text": [
      "100%|██████████| 654/654 [09:25<00:00,  1.16it/s]\n"
     ]
    },
    {
     "name": "stdout",
     "output_type": "stream",
     "text": [
      "missing label:: 150\n",
      "cluster acc 0.7015876050884625\n"
     ]
    }
   ],
   "source": [
    "classifier = get_classifier(args)\n",
    "classifier = classifier/classifier.norm(dim=-1, keepdim=True)\n",
    "args.num_voc = classifier.size(0)\n",
    "amp_autocast = torch.cuda.amp.autocast\n",
    "### collect variables\n",
    "prob_k = 5\n",
    "all_topk_voc = []\n",
    "all_gt_voc = []\n",
    "all_label_clu = []\n",
    "with tqdm(total=len(loader_f)) as pbar:\n",
    "    if hasattr(model, 'eval'):\n",
    "        model.eval()\n",
    "    for idx_batch, batch in enumerate(loader_f):\n",
    "        images, label_voc, label_clu, idx_img = batch[:4]\n",
    "        images = images.to(args.device)\n",
    "        with amp_autocast():\n",
    "            with torch.no_grad():\n",
    "                logits = model.visual(images)\n",
    "                logits = logits/logits.norm(dim=-1, keepdim=True)\n",
    "                similarity = 100 * logits @ classifier.t()\n",
    "                prob = similarity.softmax(-1)\n",
    "                prob_topk_ind = prob.topk(k=prob_k, dim=-1).indices\n",
    "                all_topk_voc.append(prob_topk_ind.cpu().numpy())\n",
    "                all_gt_voc.append(label_voc)\n",
    "                all_label_clu.append(label_clu)\n",
    "        pbar.update(1)\n",
    "\n",
    "all_topk_voc = np.concatenate(all_topk_voc)\n",
    "all_gt_voc = torch.cat(all_gt_voc, dim=0)\n",
    "all_label_clu = torch.cat(all_label_clu, dim=0)\n",
    "\n",
    "# pred_kmeans = torch.from_numpy(np.load(f'/home/sheng/OSZSL/ipynb/pred_clu-{args.dataset_name}-train-vit_dino-dino_stage1.npy'))\n",
    "pred_kmeans = torch.from_numpy(np.load(f'./pred_clu-{args.dataset_name}-train-clip.npy'))\n",
    "pred_kmeans_t = pred_kmeans\n",
    "history_set_pred = []\n",
    "for t in range(5):\n",
    "    all_clu_pred = agg_by_pred_cluster(args, pred_kmeans_t.numpy(), all_topk_voc, voc_size=args.num_voc)\n",
    "    label_voc_kmeans, res_ass = linear_assign(all_clu_pred, pred_kmeans_t, all_gt_voc)\n",
    "    pred_kmeans_t, cluster_ind_voc = reassign_by_pred_cluster(label_voc_kmeans, loader_f, model, classifier, args.device, all_prob=None)\n",
    "    set_pred = set(res_ass[1].tolist())\n",
    "    set_gt = set(all_gt_voc.unique().numpy().tolist())\n",
    "    print('missing label::', len(set_gt - set_pred))\n",
    "    print('cluster acc', cluster_acc(y_true=all_label_clu.numpy(), y_pred=pred_kmeans_t.numpy()))\n",
    "    history_set_pred.append(set_pred)\n",
    "    \n"
   ]
  },
  {
   "cell_type": "code",
   "execution_count": 44,
   "id": "9a9841fa-ea1c-4611-a2b2-917de4161bfc",
   "metadata": {},
   "outputs": [],
   "source": [
    "torch.save({\n",
    "    'all_clu_pred': all_clu_pred,\n",
    "    'label_voc_kmeans': label_voc_kmeans,\n",
    "    'pred_kmeans_t': pred_kmeans_t,\n",
    "    'cluster_ind_voc': cluster_ind_voc,\n",
    "    'record_pred_kmeans_t': record_pred_kmeans_t,\n",
    "    'all_gt_voc': all_gt_voc,\n",
    "    'all_label_clu': all_label_clu,\n",
    "}, f'./cache-{args.dataset_name}.pth')"
   ]
  },
  {
   "cell_type": "code",
   "execution_count": null,
   "id": "4ee5c141-2170-475b-b4b5-b08d7e723cac",
   "metadata": {
    "scrolled": true,
    "tags": []
   },
   "outputs": [],
   "source": [
    "res = torch.load(f'./cache-{args.dataset_name}.pth')\n",
    "all_clu_pred = res['all_clu_pred']\n",
    "label_voc_kmeans = res['label_voc_kmeans']\n",
    "pred_kmeans_t = res['pred_kmeans_t']\n",
    "cluster_ind_voc = res['cluster_ind_voc']\n",
    "record_pred_kmeans_t = res['record_pred_kmeans_t']\n",
    "all_gt_voc = res['all_gt_voc']\n",
    "all_label_clu = res['all_label_clu']"
   ]
  },
  {
   "cell_type": "markdown",
   "id": "387260b5-a0c9-4894-a212-67f7148a4af4",
   "metadata": {},
   "source": [
    "### improvement"
   ]
  },
  {
   "cell_type": "code",
   "execution_count": null,
   "id": "debf8bea-46f8-4957-9b49-4f36d34249e2",
   "metadata": {},
   "outputs": [],
   "source": []
  },
  {
   "cell_type": "markdown",
   "id": "3f971261-a759-4f8f-aabf-9475d786c1d8",
   "metadata": {},
   "source": [
    "#### substructure ensemblingpred_kmeans"
   ]
  },
  {
   "cell_type": "code",
   "execution_count": 62,
   "id": "c78df095-2862-47f6-8229-58cb609f803f",
   "metadata": {},
   "outputs": [],
   "source": [
    "ssl_knn_info = torch.load(f'./cache/ssl_knn_info-{args.dataset_name}.pth')\n",
    "sim_top100 = ssl_knn_info['sim_top100']\n",
    "sim_top100_val = ssl_knn_info['sim_top100_val']\n",
    "label_sim_top100 = ssl_knn_info['label_sim_top100']\n",
    "label_match_sim_top100 = ssl_knn_info['label_match_sim_top100']"
   ]
  },
  {
   "cell_type": "code",
   "execution_count": 63,
   "id": "08138939-efce-459a-94dd-b50d463a90e7",
   "metadata": {
    "scrolled": true,
    "tags": []
   },
   "outputs": [
    {
     "name": "stderr",
     "output_type": "stream",
     "text": [
      "100%|██████████| 252/252 [02:29<00:00,  1.69it/s]\n"
     ]
    }
   ],
   "source": [
    "classifier = get_classifier(args)\n",
    "classifier = classifier/classifier.norm(dim=-1, keepdim=True)\n",
    "args.num_voc = classifier.size(0)\n",
    "amp_autocast = torch.cuda.amp.autocast\n",
    "\n",
    "### collect variables\n",
    "prob_k = 5\n",
    "all_img_features = []\n",
    "all_topk_voc = []\n",
    "all_gt_voc = []\n",
    "all_label_clu = []\n",
    "all_topk_voc_10 = []\n",
    "with tqdm(total=len(loader_f)) as pbar:\n",
    "    if hasattr(model, 'eval'):\n",
    "        model.eval()\n",
    "    for idx_batch, batch in enumerate(loader_f):\n",
    "        images, label_voc, label_clu, idx_img = batch[:4]\n",
    "        images = images.to(args.device)\n",
    "        with amp_autocast():\n",
    "            with torch.no_grad():\n",
    "                logits = model.visual(images)\n",
    "                logits = logits/logits.norm(dim=-1, keepdim=True)\n",
    "                similarity = 100 * logits @ classifier.t()\n",
    "                prob = similarity.softmax(-1)\n",
    "                prob_topk_ind = prob.topk(k=prob_k, dim=-1).indices\n",
    "                \n",
    "                all_img_features.append(logits.cpu().numpy())\n",
    "                all_topk_voc.append(prob_topk_ind.cpu().numpy())\n",
    "                all_gt_voc.append(label_voc)\n",
    "                all_label_clu.append(label_clu)\n",
    "                all_topk_voc_10.append(prob.topk(k=10, dim=-1).indices.cpu().numpy())\n",
    "        pbar.update(1)\n",
    "\n",
    "\n",
    "all_img_features = np.concatenate(all_img_features)\n",
    "all_topk_voc = np.concatenate(all_topk_voc)\n",
    "all_gt_voc = torch.cat(all_gt_voc, dim=0)\n",
    "all_label_clu = torch.cat(all_label_clu, dim=0)\n",
    "all_topk_voc_10 = np.concatenate(all_topk_voc_10)"
   ]
  },
  {
   "cell_type": "code",
   "execution_count": null,
   "id": "a6d6708e-a0e0-4322-b935-b15005d84fc3",
   "metadata": {},
   "outputs": [],
   "source": [
    "knn_method = ['ensembling', 'ensembling-threshold'][1]\n",
    "\n",
    "if knn_method == 'ensembling':\n",
    "    def row_unique_topk(r, k=5):\n",
    "        ind, count = np.unique(r, return_counts=True)\n",
    "        return ind[count.argsort()[-k:]]\n",
    "    refined_all_topk_voc = \\\n",
    "        np.apply_along_axis(\n",
    "            func1d=lambda x: row_unique_topk(x), \n",
    "            axis=1, \n",
    "            arr=np.take(all_topk_voc, sim_top100.numpy(), 0).reshape(-1, 100*5),\n",
    "        )\n",
    "elif knn_method == 'ensembling-threshold':\n",
    "    def row_unique_topk(r, knn_mask, k=5):\n",
    "        r = r[knn_mask]\n",
    "        ind, count = np.unique(r, return_counts=True)\n",
    "        return ind[count.argsort()[-k:]]\n",
    "    th_1 = 0.5\n",
    "    nn = 100\n",
    "    knn_mask = (torch.from_numpy(sim_top100_val)[:, :nn]>th_1)#.unsqueeze(-1).repeat(1,1,5).flatten(1)\n",
    "    knn_mask = knn_mask.unsqueeze(-1).repeat(1,1,5).flatten(1)\n",
    "    indexed_topk_voc = np.take(all_topk_voc, sim_top100[:, :nn], axis=0).reshape(-1, nn*5)\n",
    "    refined_all_topk_voc = np.stack([ row_unique_topk(r=indexed_topk_voc[i, :], knn_mask=knn_mask[i, :])\n",
    "                                     for i in range(indexed_topk_voc.shape[0]) ], axis=0)\n"
   ]
  },
  {
   "cell_type": "code",
   "execution_count": null,
   "id": "696b843b-9e2a-444f-81cc-6d2f669554db",
   "metadata": {
    "scrolled": true,
    "tags": []
   },
   "outputs": [],
   "source": [
    "# pred_kmeans = torch.from_numpy(np.load(f'/home/sheng/OSZSL/ipynb/pred_clu-{args.dataset_name}-train-vit_dino-dino_stage1.npy'))\n",
    "pred_kmeans = torch.from_numpy(np.load(f'./pred_clu-{args.dataset_name}-train-vit_dino.npy'))\n",
    "pred_kmeans_t = pred_kmeans\n",
    "history_set_pred = []\n",
    "for t in range(5):\n",
    "    all_clu_pred = agg_by_pred_cluster(args, pred_kmeans_t.numpy(), refined_all_topk_voc, voc_size=args.num_voc)\n",
    "    label_voc_kmeans, res_ass = linear_assign(all_clu_pred, pred_kmeans_t, all_gt_voc)\n",
    "    pred_kmeans_t, cluster_ind_voc = reassign_by_pred_cluster(label_voc_kmeans, loader_f, model, classifier, args.device, all_prob=None)\n",
    "    set_pred = set(res_ass[1].tolist())\n",
    "    set_gt = set(all_gt_voc.unique().numpy().tolist())\n",
    "    print('missing label::', len(set_gt - set_pred))\n",
    "    print('cluster acc', cluster_acc(y_true=all_label_clu.numpy(), y_pred=pred_kmeans_t.numpy()))\n",
    "    history_set_pred.append(set_pred)\n",
    "    "
   ]
  },
  {
   "cell_type": "code",
   "execution_count": 51,
   "id": "4e19ff45-2faf-4660-b239-28f8a4d0f92e",
   "metadata": {},
   "outputs": [
    {
     "name": "stderr",
     "output_type": "stream",
     "text": [
      "/home/sheng/anaconda3/envs/gcd/lib/python3.8/site-packages/seaborn/distributions.py:2619: FutureWarning: `distplot` is a deprecated function and will be removed in a future version. Please adapt your code to use either `displot` (a figure-level function with similar flexibility) or `histplot` (an axes-level function for histograms).\n",
      "  warnings.warn(msg, FutureWarning)\n"
     ]
    },
    {
     "data": {
      "text/plain": [
       "<AxesSubplot:ylabel='Density'>"
      ]
     },
     "execution_count": 51,
     "metadata": {},
     "output_type": "execute_result"
    },
    {
     "data": {
      "image/png": "[encoded data removed]",
      "text/plain": [
       "<Figure size 432x288 with 1 Axes>"
      ]
     },
     "metadata": {
      "needs_background": "light"
     },
     "output_type": "display_data"
    }
   ],
   "source": [
    "sim_confusion = (classifier[all_gt_voc]@classifier.t()).topk(k=2).values[:, 1].cpu().numpy()\n",
    "sns.distplot(sim_confusion, bins=100)"
   ]
  },
  {
   "cell_type": "code",
   "execution_count": 58,
   "id": "61984ad2-0b83-4996-9672-920f7fecffd9",
   "metadata": {},
   "outputs": [
    {
     "name": "stderr",
     "output_type": "stream",
     "text": [
      "/home/sheng/anaconda3/envs/gcd/lib/python3.8/site-packages/seaborn/distributions.py:2619: FutureWarning: `distplot` is a deprecated function and will be removed in a future version. Please adapt your code to use either `displot` (a figure-level function with similar flexibility) or `histplot` (an axes-level function for histograms).\n",
      "  warnings.warn(msg, FutureWarning)\n"
     ]
    },
    {
     "data": {
      "text/plain": [
       "<AxesSubplot:ylabel='Density'>"
      ]
     },
     "execution_count": 58,
     "metadata": {},
     "output_type": "execute_result"
    },
    {
     "data": {
      "image/png": "[encoded data removed]",
      "text/plain": [
       "<Figure size 432x288 with 1 Axes>"
      ]
     },
     "metadata": {
      "needs_background": "light"
     },
     "output_type": "display_data"
    }
   ],
   "source": [
    "sim_confusion = (classifier[all_gt_voc]@classifier.t()).topk(k=2).values[:, 1].cpu().numpy()\n",
    "sns.distplot(sim_confusion, bins=100)"
   ]
  },
  {
   "cell_type": "code",
   "execution_count": 52,
   "id": "e8d8542e-2eba-4e92-9f56-a514e7c6da59",
   "metadata": {},
   "outputs": [
    {
     "data": {
      "text/plain": [
       "0.9835119"
      ]
     },
     "execution_count": 52,
     "metadata": {},
     "output_type": "execute_result"
    }
   ],
   "source": [
    "sim_confusion.max()"
   ]
  },
  {
   "cell_type": "code",
   "execution_count": 59,
   "id": "eb77bc74-7e9b-4f55-a31c-7f0e37872234",
   "metadata": {},
   "outputs": [
    {
     "data": {
      "text/plain": [
       "0.9786451"
      ]
     },
     "execution_count": 59,
     "metadata": {},
     "output_type": "execute_result"
    }
   ],
   "source": [
    "sim_confusion.max()"
   ]
  },
  {
   "cell_type": "code",
   "execution_count": 41,
   "id": "9019cc82-7583-4c34-8ec7-845bd6ac85aa",
   "metadata": {},
   "outputs": [
    {
     "data": {
      "text/plain": [
       "(tensor(0.4423), tensor(0.2617))"
      ]
     },
     "execution_count": 41,
     "metadata": {},
     "output_type": "execute_result"
    }
   ],
   "source": [
    "(torch.from_numpy(refined_all_topk_voc)[:, 4]==all_gt_voc).float().mean(), (torch.from_numpy(all_topk_voc)[:, 0]==all_gt_voc).float().mean()"
   ]
  },
  {
   "cell_type": "markdown",
   "id": "7c2361a5-3e99-49de-853e-79449af3417c",
   "metadata": {
    "jp-MarkdownHeadingCollapsed": true,
    "tags": []
   },
   "source": [
    "### adaptive weights"
   ]
  },
  {
   "cell_type": "code",
   "execution_count": null,
   "id": "2ef42873-e025-43cf-82a3-0c462c826b24",
   "metadata": {},
   "outputs": [],
   "source": [
    "\"\"\" compute @missing on class-wise agg prediction @all_clu_pred \"\"\"\n",
    "classwise_topk_ind = all_clu_pred.topk(k=5).indices\n",
    "for j in range(classwise_topk_ind.size(-1)):\n",
    "    pred_label_set = set(classwise_topk_ind[:, :j+1].flatten().unique().cpu().numpy())\n",
    "    print(f'j={j} missing={len(set_gt - pred_label_set)}')"
   ]
  },
  {
   "cell_type": "code",
   "execution_count": null,
   "id": "d2b3cd12-30f4-4166-b525-3ab37d5f205e",
   "metadata": {},
   "outputs": [],
   "source": [
    "(label_voc_kmeans==all_gt_voc).float().mean()"
   ]
  },
  {
   "cell_type": "code",
   "execution_count": 16,
   "id": "cb0bfd4c-761a-4392-a151-cb60a7f8ad1a",
   "metadata": {
    "tags": []
   },
   "outputs": [],
   "source": [
    "val_class = all_clu_pred.topk(k=5).values\n",
    "### 0-1 normalization\n",
    "weight_class = (val_class - val_class.min())/(val_class.max() - val_class.min()) - 0.5\n",
    "weight_class = weight_class.softmax(dim=-1)#/all_clu_pred.topk(k=5).values.softmax(dim=-1)[:, 0].view(-1, 1)\n",
    "ind_class = all_clu_pred.topk(k=5).indices\n",
    "\n",
    "### class pred to instance pred\n",
    "instance_pred = torch.zeros([pred_kmeans_t.size(0), 5]).long()\n",
    "instance_weight = torch.zeros([pred_kmeans_t.size(0), 5])\n",
    "for c in pred_kmeans_t.unique():\n",
    "    selected = (pred_kmeans_t==c)\n",
    "    instance_pred[selected] = ind_class[c].view(-1, 5)\n",
    "    instance_weight[selected] = weight_class[c].view(-1, 5)\n",
    "\n",
    "weight_normalize = lambda x: x/x[:, 0].view(-1, 1)\n",
    "\n",
    "idx = 3\n",
    "weight_normalize(instance_weight)[(instance_pred[:, 0]==all_gt_voc)][:, idx].mean(), \\\n",
    "weight_normalize(instance_weight)[(instance_pred[:, idx]==all_gt_voc)][:, idx].mean()"
   ]
  },
  {
   "cell_type": "code",
   "execution_count": 74,
   "id": "29748d25-401e-46d8-8bec-7dadbb051999",
   "metadata": {},
   "outputs": [
    {
     "data": {
      "text/plain": [
       "tensor(0.0782)"
      ]
     },
     "execution_count": 74,
     "metadata": {},
     "output_type": "execute_result"
    }
   ],
   "source": [
    "(instance_pred[:, 0]==all_gt_voc).float().mean()"
   ]
  },
  {
   "cell_type": "code",
   "execution_count": null,
   "id": "65a6086c-c4f7-40aa-adf7-8456702d768c",
   "metadata": {
    "scrolled": true,
    "tags": []
   },
   "outputs": [],
   "source": [
    "\"\"\" visual reranking computation based on spatial features \"\"\"\n",
    "classifier = get_classifier(args)\n",
    "amp_autocast = torch.cuda.amp.autocast\n",
    "classifier = classifier/classifier.norm(dim=-1, keepdim=True)\n",
    "instance_topk_voc = torch.gather(all_clu_pred, 0, pred_kmeans_t.view(-1, 1))\n",
    "all_spatial_label_pred = []\n",
    "all_label_voc = []\n",
    "with tqdm(total=len(loader_f)) as pbar:\n",
    "    model.eval()\n",
    "    for idx_batch, batch in enumerate(loader_f):\n",
    "        images, label_voc, label_clu, idx_img = batch\n",
    "        images = images.to(args.device)\n",
    "        with amp_autocast():\n",
    "            with torch.no_grad():\n",
    "                features = model.visual(images, return_spatial=True)\n",
    "                features = features @ model.visual.proj.unsqueeze(0)\n",
    "                features = features/features.norm(dim=-1, keepdim=True)\n",
    "                spatial_similarity = model.logit_scale.exp() * (features @ classifier[instance_topk_voc[idx_img]].permute(0,2,1))\n",
    "                spatial_label_pred = spatial_similarity.topk(k=10, dim=1).values.mean(dim=1).argmax(dim=-1)\n",
    "                all_spatial_label_pred.append(spatial_label_pred.cpu())\n",
    "                all_label_voc.append(label_voc)\n",
    "        pbar.update(1)\n",
    "\n",
    "all_spatial_label_pred = torch.cat(all_spatial_label_pred, dim=0)\n",
    "all_label_voc = torch.cat(all_label_voc, dim=0)\n"
   ]
  },
  {
   "cell_type": "code",
   "execution_count": null,
   "id": "633e6634-c549-416e-89ff-34041414068b",
   "metadata": {
    "scrolled": true,
    "tags": []
   },
   "outputs": [],
   "source": [
    "\"\"\" SCD with shrinked vocab \"\"\"\n",
    "# classifier_selected = all_clu_pred.topk(k=5).indices.flatten().unique()\n",
    "# classifier = get_classifier(args)\n",
    "# classifier = classifier/classifier.norm(dim=-1, keepdim=True)\n",
    "# args.num_voc = classifier.size(0)\n",
    "# amp_autocast = torch.cuda.amp.autocast\n",
    "\n",
    "# ### collect variables\n",
    "# prob_k = 5\n",
    "# all_topk_voc = []\n",
    "# all_gt_voc = []\n",
    "# all_label_clu = []\n",
    "# with tqdm(total=len(loader_f)) as pbar:\n",
    "#     if hasattr(model, 'eval'):\n",
    "#         model.eval()\n",
    "#     for idx_batch, batch in enumerate(loader_f):\n",
    "#         images, label_voc, label_clu, idx_img = batch[:4]\n",
    "#         images = images.to(args.device)\n",
    "#         with amp_autocast():\n",
    "#             with torch.no_grad():\n",
    "#                 logits = model.visual(images)\n",
    "#                 logits = logits/logits.norm(dim=-1, keepdim=True)\n",
    "#                 similarity = 100 * logits @ classifier[classifier_selected].t()\n",
    "#                 prob = similarity.softmax(-1)\n",
    "#                 prob_topk_ind = prob.topk(k=prob_k, dim=-1).indices\n",
    "#                 ### mapping @selected to vocab ind\n",
    "#                 B, C = prob_topk_ind.shape\n",
    "#                 prob_topk_ind = classifier_selected[prob_topk_ind.view(-1)].view(B, C)\n",
    "#                 all_topk_voc.append(prob_topk_ind.cpu().numpy())\n",
    "#                 all_gt_voc.append(label_voc)\n",
    "#                 all_label_clu.append(label_clu)\n",
    "#         pbar.update(1)\n",
    "\n",
    "# all_topk_voc = np.concatenate(all_topk_voc)\n",
    "# all_gt_voc = torch.cat(all_gt_voc, dim=0)\n",
    "# all_label_clu = torch.cat(all_label_clu, dim=0)\n",
    "\n",
    "# pred_kmeans = torch.from_numpy(np.load(f'/home/sheng/OSZSL/ipynb/pred_clu-{args.dataset_name}-train-vit_dino-dino_stage1.npy'))\n",
    "pred_kmeans = torch.from_numpy(np.load(f'./pred_clu-{args.dataset_name}-train-vit_dino.npy'))\n",
    "pred_kmeans_t = pred_kmeans\n",
    "history_set_pred = []\n",
    "for t in range(3):\n",
    "    all_clu_pred = agg_by_pred_cluster(args, pred_kmeans_t.numpy(), all_topk_voc, voc_size=args.num_voc)\n",
    "    label_voc_kmeans, res_ass = linear_assign(all_clu_pred, pred_kmeans_t, all_gt_voc)\n",
    "    pred_kmeans_t, cluster_ind_voc = reassign_by_pred_cluster(label_voc_kmeans, loader_f, model, classifier, args.device, all_prob=None, classifier_selected=classifier_selected)\n",
    "    set_pred = set(res_ass[1].tolist())\n",
    "    set_gt = set(all_gt_voc.unique().numpy().tolist())\n",
    "    print('missing label::', len(set_gt - set_pred))\n",
    "    print('cluster acc', cluster_acc(y_true=all_label_clu.numpy(), y_pred=pred_kmeans_t.numpy()))\n",
    "    history_set_pred.append(set_pred)\n",
    "    \n"
   ]
  },
  {
   "cell_type": "code",
   "execution_count": 76,
   "id": "17d409fc-0177-4e54-b270-7f7d0f452870",
   "metadata": {
    "tags": []
   },
   "outputs": [],
   "source": [
    "# final_all_clu_pred = all_clu_pred\n",
    "# len(set_gt - set(final_all_clu_pred.topk(k=2).indices.flatten().unique().numpy().tolist()))\n",
    "\n",
    "# len(set_gt - set(all_clu_pred.topk(k=3).indices.flatten().unique().numpy().tolist()))\n",
    "\n",
    "# select_correct = (cluster_ind_voc.cpu()==all_gt_voc)\n",
    "\n",
    "# all_topk_val = torch.from_numpy(all_topk_val)#[select_correct]\n",
    "# prob_all_topk_val = torch.cat([all_topk_val, 1-all_topk_val.sum(dim=-1, keepdim=True)], dim=-1)\n",
    "\n",
    "# ent = - (prob_all_topk_val * (prob_all_topk_val+1e-30).log()).sum(dim=-1)\n",
    "\n",
    "# # import seaborn as sns\n",
    "# # sns.distplot(prob_all_topk_val[select_correct, 0], bins=100)\n",
    "# # sns.distplot(prob_all_topk_val[~select_correct, 0], bins=100)\n",
    "# # sns.scatterplot(x=prob_all_topk_val[:, 0], y=select_correct.float(), s=3, alpha=0.6)"
   ]
  },
  {
   "cell_type": "markdown",
   "id": "5c5c119e-54f4-4a5d-b6c7-2a2feafb8318",
   "metadata": {},
   "source": [
    "collect variable"
   ]
  },
  {
   "cell_type": "code",
   "execution_count": null,
   "id": "b9cfb1e2-f2da-4787-b872-d08922d43bc1",
   "metadata": {
    "tags": []
   },
   "outputs": [],
   "source": [
    "classifier = get_classifier(args)\n",
    "classifier = classifier/classifier.norm(dim=-1, keepdim=True)\n",
    "args.num_voc = classifier.size(0)\n",
    "amp_autocast = torch.cuda.amp.autocast\n",
    "### collect variables\n",
    "prob_k = 5\n",
    "all_topk_voc = []\n",
    "all_gt_voc = []\n",
    "all_label_clu = []\n",
    "all_topk_val = []\n",
    "with tqdm(total=len(loader_f)) as pbar:\n",
    "    if hasattr(model, 'eval'):\n",
    "        model.eval()\n",
    "    for idx_batch, batch in enumerate(loader_f):\n",
    "        images, label_voc, label_clu, idx_img = batch[:4]\n",
    "        images = images.to(args.device)\n",
    "        with amp_autocast():\n",
    "            with torch.no_grad():\n",
    "                logits = model.visual(images)\n",
    "                logits = logits/logits.norm(dim=-1, keepdim=True)\n",
    "                similarity = 100 * logits @ classifier.t()\n",
    "                prob = similarity.softmax(-1)\n",
    "                topk_res = prob.topk(k=prob_k, dim=-1)\n",
    "                prob_topk_ind = topk_res.indices\n",
    "                all_topk_voc.append(prob_topk_ind.cpu().numpy())\n",
    "                all_topk_val.append(topk_res.values.cpu().numpy())\n",
    "                all_gt_voc.append(label_voc)\n",
    "                all_label_clu.append(label_clu)\n",
    "        pbar.update(1)\n",
    "\n",
    "all_topk_voc = np.concatenate(all_topk_voc)\n",
    "all_gt_voc = torch.cat(all_gt_voc, dim=0)\n",
    "all_label_clu = torch.cat(all_label_clu, dim=0)\n",
    "all_topk_val = np.concatenate(all_topk_val)"
   ]
  },
  {
   "cell_type": "code",
   "execution_count": null,
   "id": "cc944ec3-21e1-4577-a721-d969514552e1",
   "metadata": {
    "scrolled": true,
    "tags": []
   },
   "outputs": [],
   "source": [
    "# classifier = get_classifier(args)\n",
    "# classifier = classifier/classifier.norm(dim=-1, keepdim=True)\n",
    "# args.num_voc = classifier.size(0)\n",
    "# amp_autocast = torch.cuda.amp.autocast\n",
    "# ### collect variables\n",
    "# prob_k = 5\n",
    "# all_topk_voc = []\n",
    "# all_gt_voc = []\n",
    "# all_label_clu = []\n",
    "# with tqdm(total=len(loader_f)) as pbar:\n",
    "#     if hasattr(model, 'eval'):\n",
    "#         model.eval()\n",
    "#     for idx_batch, batch in enumerate(loader_f):\n",
    "#         images, label_voc, label_clu, idx_img = batch[:4]\n",
    "#         images = images.to(args.device)\n",
    "#         with amp_autocast():\n",
    "#             with torch.no_grad():\n",
    "#                 logits = model.visual(images)\n",
    "#                 logits = logits/logits.norm(dim=-1, keepdim=True)\n",
    "#                 similarity = 100 * logits @ classifier.t()\n",
    "#                 prob = similarity.softmax(-1)\n",
    "#                 prob_topk_ind = prob.topk(k=prob_k, dim=-1).indices\n",
    "#                 all_topk_voc.append(prob_topk_ind.cpu().numpy())\n",
    "#                 all_gt_voc.append(label_voc)\n",
    "#                 all_label_clu.append(label_clu)\n",
    "#         pbar.update(1)\n",
    "\n",
    "# all_topk_voc = np.concatenate(all_topk_voc)\n",
    "# all_gt_voc = torch.cat(all_gt_voc, dim=0)\n",
    "# all_label_clu = torch.cat(all_label_clu, dim=0)\n",
    "\n",
    "use_confidence = True\n",
    "th_confidence = 0.5\n",
    "pred_kmeans = torch.from_numpy(np.load(f'/home/sheng/OSZSL/ipynb/pred_clu-{args.dataset_name}-train-vit_dino.npy'))\n",
    "\n",
    "if use_confidence:\n",
    "    # ### SSL feature extraction\n",
    "    # ssl_prototypes = torch.zeros([pred_kmeans.unique().size(0), 768], device=args.device, dtype=torch.float64) ### C x D\n",
    "    # ssl_counter = torch.zeros(pred_kmeans.unique().size(0))\n",
    "    # with tqdm(total=len(loader_f)) as pbar:\n",
    "    #     modelf.eval()\n",
    "    #     modelf.to(args.device)\n",
    "    #     for idx_batch, batch in enumerate(loader_f):\n",
    "    #         images, label_voc, label_clu, idx_img = batch[:4]\n",
    "    #         images = images.to(args.device)\n",
    "    #         with torch.no_grad():\n",
    "    #             features = modelf(images.float())\n",
    "    #             features = F.normalize(features, dim=-1)\n",
    "    #             for p in range(idx_img.size(0)):\n",
    "    #                 ssl_prototypes[pred_kmeans[p].long()] += features.to(torch.float64)[p]\n",
    "    #             # ssl_prototypes = torch.scatter_add(ssl_prototypes, 0, pred_kmeans[idx_img.long()].to(args.device).long(), features.to(torch.float64))\n",
    "    #             counter_voc_ind, counter_val = pred_kmeans[idx_img].unique(return_counts=True)\n",
    "    #             ssl_counter[counter_voc_ind.long()] += counter_val\n",
    "    #         pbar.update(1)\n",
    "    # ssl_prototypes = ssl_prototypes/ssl_counter.to(args.device).unsqueeze(-1)\n",
    "    # ssl_prototypes = F.normalize(ssl_prototypes, dim=-1)\n",
    "    # ### select confident instances\n",
    "    # all_prob = []\n",
    "    # all_sim = []\n",
    "    # with tqdm(total=len(loader_f)) as pbar:\n",
    "    #     modelf.eval()\n",
    "    #     modelf.to(args.device)\n",
    "    #     for idx_batch, batch in enumerate(loader_f):\n",
    "    #         images, label_voc, label_clu, idx_img = batch[:4]\n",
    "    #         images = images.to(args.device)\n",
    "    #         with torch.no_grad():\n",
    "    #             features = modelf(images)\n",
    "    #             features = F.normalize(features, dim=-1)\n",
    "    #             sim = features@ssl_prototypes.float().t()\n",
    "    #             prob = (sim/1.0).amax(dim=-1)\n",
    "    #             all_prob.append(prob.cpu())\n",
    "    #             all_sim.append(sim.cpu())\n",
    "    #         pbar.update(1)\n",
    "    # all_prob = torch.cat(all_prob, dim=0)\n",
    "    # all_sim = torch.cat(all_sim, dim=0)\n",
    "    ### confidence thresholding\n",
    "    q = np.quantile(all_prob.numpy(), q=0.5)\n",
    "    selected = (all_prob>q)\n",
    "    ### computing\n",
    "    pred_kmeans_t = pred_kmeans[selected]\n",
    "    for t in range(3):\n",
    "        all_clu_pred = agg_by_pred_cluster(args, pred_kmeans_t.numpy(), all_topk_voc[selected], voc_size=args.num_voc)\n",
    "        label_voc_kmeans, res_ass = linear_assign(all_clu_pred, pred_kmeans_t, all_gt_voc[selected])\n",
    "        pred_kmeans_t, cluster_ind_voc = reassign_by_pred_cluster(label_voc_kmeans, loader_f, model, classifier, args.device, \n",
    "                                                                  all_prob=None, instance_selected=selected)\n",
    "        set_pred = set(res_ass[1].tolist())\n",
    "        set_gt = set(all_gt_voc.unique().numpy().tolist())\n",
    "        print('missing label::', len(set_gt - set_pred))\n",
    "        print('cluster acc', cluster_acc(y_true=all_label_clu[selected].numpy(), y_pred=pred_kmeans_t.numpy()))\n",
    "else:\n",
    "    pred_kmeans_t = pred_kmeans\n",
    "    for t in range(3):\n",
    "        all_clu_pred = agg_by_pred_cluster(args, pred_kmeans_t.numpy(), all_topk_voc, voc_size=args.num_voc)\n",
    "        label_voc_kmeans, res_ass = linear_assign(all_clu_pred, pred_kmeans_t, all_gt_voc)\n",
    "        pred_kmeans_t, cluster_ind_voc = reassign_by_pred_cluster(label_voc_kmeans, loader_f, model, classifier, args.device, all_prob=None)\n",
    "        set_pred = set(res_ass[1].tolist())\n",
    "        set_gt = set(all_gt_voc.unique().numpy().tolist())\n",
    "        print('missing label::', len(set_gt - set_pred))\n",
    "        print('cluster acc', cluster_acc(y_true=all_label_clu.numpy(), y_pred=pred_kmeans_t.numpy()))"
   ]
  },
  {
   "cell_type": "code",
   "execution_count": null,
   "id": "ed9cac48-7b09-47ac-b5f6-d67a19966a2a",
   "metadata": {
    "tags": []
   },
   "outputs": [],
   "source": [
    "# \"\"\" inspect cluster topk assigned classes \"\"\"\n",
    "# topk_cluster_label = all_clu_pred.topk(k=5).indices"
   ]
  },
  {
   "cell_type": "code",
   "execution_count": 12,
   "id": "cc40ee62-0996-46bf-8e3b-40d9b0fc1997",
   "metadata": {
    "scrolled": true,
    "tags": []
   },
   "outputs": [],
   "source": [
    "# # pred_kmeans_t = pred_kmeans\n",
    "# # for t in range(5):\n",
    "# #     all_clu_pred = agg_by_pred_cluster(args, pred_kmeans_t, all_topk_voc)\n",
    "# #     label_voc_kmeans, res_ass = linear_assign(all_clu_pred, pred_kmeans_t, all_gt_voc)\n",
    "# #     pred_kmeans_t = reassign_by_pred_cluster(label_voc_kmeans, loader_f, model, classifier, args, all_prob=None)\n",
    "# #     set_pred = set(res_ass[1].tolist())\n",
    "# #     set_gt = set(all_gt_voc.unique().numpy().tolist())\n",
    "# #     print('missing label::', len(set_gt - set_pred))\n",
    "# #     print('cluster acc', cluster_acc(y_true=all_label_clu.numpy(), y_pred=pred_kmeans_t.numpy()))\n",
    "\n",
    "\n",
    "# \"\"\" get confident prediction \"\"\"\n",
    "# th = 0.5\n",
    "# amp_autocast = torch.cuda.amp.autocast\n",
    "# label_voc_kmeans_t = label_voc_kmeans_t.to(args.device)\n",
    "# cluster_ind = []\n",
    "# selected_ind = []\n",
    "# with tqdm(total=len(loader_f)) as pbar:\n",
    "#     if hasattr(model, 'eval'):\n",
    "#         model.eval()\n",
    "#     for idx_batch, batch in enumerate(loader_f):\n",
    "#         images, label_voc, label_clu, idx_img = batch[:4]\n",
    "#         images = images.to(device)\n",
    "#         with amp_autocast():\n",
    "#             with torch.no_grad():\n",
    "#                 logits = model.visual(images)\n",
    "#                 logits = logits/logits.norm(dim=-1, keepdim=True)\n",
    "#                 similarity = 100 * logits @ classifier.t()\n",
    "#                 prob = similarity[:, label_voc_kmeans_t].softmax(dim=-1)\n",
    "#                 selected = (prob.amax(dim=-1)>th)\n",
    "#                 selected_ind.append(selected.cpu())\n",
    "#         pbar.update(1)\n",
    "# selected_ind = torch.cat(selected_ind, dim=0)\n",
    "\n",
    "\n",
    "\n",
    "# # precision = cluster_acc(y_true=all_label_clu[selected_ind].numpy(), y_pred=pred_kmeans_t[selected_ind].numpy())\n",
    "# # recall = selected_ind.mean()\n",
    "# print(f'confidence selection precision={precision} recall={recall}')\n",
    "\n",
    "# # np.save(f'./pred_clu_clip-{args.dataset_name}-train-{arch}.npy', pred_kmeans_t.cpu().numpy())"
   ]
  },
  {
   "cell_type": "code",
   "execution_count": null,
   "id": "9688f3cb-d754-4c42-bf39-242029dbd35c",
   "metadata": {
    "tags": []
   },
   "outputs": [],
   "source": [
    "# \"\"\" \n",
    "# 1. inverse entropy of prototype\n",
    "\n",
    "# 2. top1 sim of proto-image\n",
    "\n",
    "# 3. top1 sim of image-proto\n",
    "\n",
    "# \"\"\"\n",
    "# # candidate_ind = res_ass[1].unique()\n",
    "# # cls_proto_similarity = torch.zeros([len(dataset_f), candidate_ind.size()])\n",
    "# all_sim_proto_image_pred = []\n",
    "# all_sim_proto_image_gt = []\n",
    "# with tqdm(total=len(loader_f)) as pbar:\n",
    "#     model.eval()\n",
    "#     for idx_batch, batch in enumerate(loader_f):\n",
    "#         images, label_voc, label_clu, idx_img = batch\n",
    "#         images = images.to(args.device)\n",
    "#         label_voc = label_voc.to(args.device)\n",
    "#         with amp_autocast():\n",
    "#             with torch.no_grad():\n",
    "#                 logits = model.visual(images)\n",
    "#                 logits = logits/logits.norm(dim=-1, keepdim=True)\n",
    "#                 similarity = model.logit_scale.exp() * logits @ classifier.t()\n",
    "#                 prob = similarity.softmax(dim=-1)\n",
    "#                 all_sim_proto_image_pred.append(similarity[:, prob.argmax(dim=-1)].cpu())\n",
    "#                 all_sim_proto_image_gt.append(similarity[:, label_voc].cpu())\n",
    "#         pbar.update(1)\n",
    "        \n",
    "# all_sim_proto_image_pred = torch.cat(all_sim_proto_image_pred, dim=0)\n",
    "# all_sim_proto_image_gt = torch.cat(all_sim_proto_image_gt, dim=0)"
   ]
  },
  {
   "cell_type": "code",
   "execution_count": null,
   "id": "05625353-4773-4ed7-951c-d8974dfb3b59",
   "metadata": {
    "tags": []
   },
   "outputs": [],
   "source": [
    "# all_sim_proto_image_pred = torch.cat(all_sim_proto_image_pred, dim=0)\n",
    "# all_sim_proto_image_gt = torch.cat(all_sim_proto_image_gt, dim=0)\n",
    "\n",
    "\n",
    "\n",
    "# label_match = all_label_clu.view(-1, 1)@all_label_clu.view(1, -1)\n",
    "# pred_match_init = pred_kmeans.view(-1, 1)@pred_kmeans.view(1, -1)\n",
    "# pred_match = pred_kmeans_t.view(-1, 1)@pred_kmeans_t.view(1, -1)\n",
    "\n",
    "# pred_consensus = (pred_match_init==pred_match) \n",
    "# ((pred_consensus & label_match).float().sum(dim=-1) / (pred_consensus.sum(dim=-1)+1e-20)).mean()\n",
    "\n",
    "# (pred_consensus & label_match).float().sum(dim=-1).bool().float().mean()\n",
    "\n",
    "# all_clu_pred"
   ]
  },
  {
   "cell_type": "markdown",
   "id": "d0c306e3-a6a3-4731-84d6-cd0e5d845ea4",
   "metadata": {
    "jp-MarkdownHeadingCollapsed": true,
    "tags": []
   },
   "source": [
    "### Visualization"
   ]
  },
  {
   "cell_type": "code",
   "execution_count": null,
   "id": "fde93f02-13a3-498c-ba18-67de692b8e3b",
   "metadata": {
    "scrolled": true,
    "tags": []
   },
   "outputs": [],
   "source": [
    "from sklearn.cluster import KMeans\n",
    "from my_util_package.evaluation import cluster_acc\n",
    "from scipy.optimize import linear_sum_assignment as linear_assignment\n",
    "\n",
    "subset = ['train', 'val'][0]\n",
    "modelf = torch.hub.load('facebookresearch/dino:main', 'dino_vitb16')\n",
    "arch = 'vit_dino'\n",
    "\n",
    "\"\"\" load dataset \"\"\"\n",
    "transform_f = transforms.Compose([\n",
    "    transforms.Resize(256, interpolation=transforms.InterpolationMode.BICUBIC),\n",
    "    transforms.CenterCrop(size=(224, 224)),\n",
    "    transforms.ToTensor(),\n",
    "    transforms.Normalize((0.485, 0.456, 0.406), (0.229, 0.224, 0.225)),\n",
    "])\n",
    "\n",
    "# dataset_f = get_datasets_oszsl(args, vocab, is_train=False, transform=transform_f)\n",
    "if subset == 'train':\n",
    "    dataset_f = get_datasets_oszsl(args, vocab, is_train=True, transform=transform_f, seed=1)\n",
    "elif subset == 'val':\n",
    "    dataset_f = get_datasets_oszsl(args, vocab, is_train=False, transform=transform_f, seed=1)\n",
    "args.nb_classes = dataset_f.num_classes\n",
    "loader_f = torch.utils.data.DataLoader(dataset_f, num_workers=8, batch_size=args.batch_size, shuffle=False)\n",
    "\n",
    "if subset == 'train':\n",
    "    pred_kmeans = torch.from_numpy(np.load(f'./pred_clu-{args.dataset_name}-train-{arch}.npy'))\n",
    "elif subset == 'val':\n",
    "    pred_kmeans = torch.from_numpy(np.load(f'./pred_clu-{args.dataset_name}-val-{arch}.npy'))\n",
    "    \n",
    "model, preprocess = clip.load(args.arch)\n",
    "if args.clip_checkpoint:\n",
    "    model.load_state_dict({k[len('model.'):]:v for k, v in torch.load(args.clip_checkpoint, map_location='cpu')['model'].items()}, strict=False)\n",
    "model.to(args.device).eval()"
   ]
  },
  {
   "cell_type": "markdown",
   "id": "3d793092-23ab-497e-9759-714c91e55e51",
   "metadata": {},
   "source": [
    "collect variables"
   ]
  },
  {
   "cell_type": "code",
   "execution_count": 10,
   "id": "3641aa10-d6ea-4434-b4b3-57058a9e1f4e",
   "metadata": {},
   "outputs": [
    {
     "name": "stdout",
     "output_type": "stream",
     "text": [
      "Model parameters: 149,620,737\n",
      "Input resolution: 224\n",
      "Context length: 77\n",
      "Vocab size: 49408\n"
     ]
    }
   ],
   "source": [
    "model, preprocess = clip.load(args.arch)\n",
    "if args.clip_checkpoint:\n",
    "    model.load_state_dict({k[len('model.'):]:v for k, v in torch.load(args.clip_checkpoint, map_location='cpu')['model'].items()}, strict=False)\n",
    "model.to(args.device).eval()\n",
    "input_resolution = model.visual.input_resolution\n",
    "context_length = model.context_length\n",
    "vocab_size = model.vocab_size\n",
    "\n",
    "print(\"Model parameters:\", f\"{np.sum([int(np.prod(p.shape)) for p in model.parameters()]):,}\")\n",
    "print(\"Input resolution:\", input_resolution)\n",
    "print(\"Context length:\", context_length)\n",
    "print(\"Vocab size:\", vocab_size)"
   ]
  },
  {
   "cell_type": "code",
   "execution_count": null,
   "id": "ac099527-5211-4e10-a50f-1ebc926834c8",
   "metadata": {},
   "outputs": [],
   "source": [
    "\"\"\" topk prediction from CLIP \"\"\"\n",
    "classifier = get_classifier(args)\n",
    "use_norm = True\n",
    "amp_autocast = torch.cuda.amp.autocast\n",
    "classifier = classifier/classifier.norm(dim=-1, keepdim=True) if use_norm else classifier\n",
    "\n",
    "# initial topK prediction from CLIP\n",
    "prob_k = 5\n",
    "all_topk_voc = []\n",
    "all_gt_voc = []\n",
    "all_prob = []\n",
    "all_max_ind = []\n",
    "all_topk_vocinds = []\n",
    "all_label_clu = []\n",
    "all_topk_vals = []\n",
    "all_topk_inds = []\n",
    "with tqdm(total=len(loader_f)) as pbar:\n",
    "    model.eval()\n",
    "    for idx_batch, batch in enumerate(loader_f):\n",
    "        images, label_voc, label_clu, idx_img = batch\n",
    "        images = images.to(args.device)\n",
    "        with amp_autocast():\n",
    "            with torch.no_grad():\n",
    "                logits = model.visual(images)\n",
    "                logits = logits/logits.norm(dim=-1, keepdim=True) if use_norm else logits\n",
    "                similarity = model.logit_scale.exp() * logits @ classifier.t()\n",
    "                prob = similarity.softmax(-1)\n",
    "                prob_topk_ind = prob.topk(k=prob_k, dim=-1).indices\n",
    "                pred_topk_scattered = torch.scatter(torch.zeros([images.size(0), classifier.size(0)], \n",
    "                                                                device=args.device), 1, prob_topk_ind, 1)\n",
    "                # all_prob.append(prob.cpu())\n",
    "                all_topk_voc.append(pred_topk_scattered.cpu())\n",
    "                all_gt_voc.append(label_voc)\n",
    "                all_label_clu.append(label_clu)\n",
    "                all_max_ind.append(prob.argmax(dim=-1).cpu())\n",
    "                all_topk_vocinds.append(prob.topk(k=10, dim=-1).indices.cpu())\n",
    "                \n",
    "                batch_topk_res = prob.topk(k=20, dim=-1)\n",
    "                all_topk_vals.append(batch_topk_res.values.cpu())\n",
    "                all_topk_inds.append(batch_topk_res.indices.cpu())\n",
    "        pbar.update(1)\n",
    "\n",
    "# all_prob = torch.cat(all_prob, dim=0)\n",
    "all_topk_voc = torch.cat(all_topk_voc, dim=0)\n",
    "all_gt_voc = torch.cat(all_gt_voc, dim=0)\n",
    "all_label_clu = torch.cat(all_label_clu, dim=0)\n",
    "all_max_ind = torch.cat(all_max_ind, dim=0)\n",
    "all_topk_vocinds = torch.cat(all_topk_vocinds, dim=0)\n",
    "all_topk_vals = torch.cat(all_topk_vals, dim=0)\n",
    "all_topk_inds = torch.cat(all_topk_inds, dim=0)"
   ]
  },
  {
   "cell_type": "markdown",
   "id": "387b4a31-0d72-45d8-bcdd-97c69944fecb",
   "metadata": {},
   "source": [
    "text proto inspection"
   ]
  },
  {
   "cell_type": "code",
   "execution_count": null,
   "id": "2159430a-4362-40b9-9181-1c08c1de63c2",
   "metadata": {},
   "outputs": [],
   "source": [
    "### KNN proto analysis\n",
    "text_sim = classifier[all_gt_voc.unique(), :]@classifier.t()"
   ]
  },
  {
   "cell_type": "code",
   "execution_count": null,
   "id": "65f5c99a-edbd-485e-9082-ab819e27db24",
   "metadata": {},
   "outputs": [],
   "source": [
    "text_topk = text_sim.topk(k=20)"
   ]
  },
  {
   "cell_type": "code",
   "execution_count": null,
   "id": "15a41ba7-f29d-4697-ae19-399d222cc970",
   "metadata": {
    "tags": []
   },
   "outputs": [],
   "source": [
    "pprint(np.array([vocab.mapping_idx_names[t.item()] for t in text_topk.indices[:, :].flatten().cpu()]).reshape(text_sim.size(0), -1).tolist(), compact=True)"
   ]
  },
  {
   "cell_type": "code",
   "execution_count": null,
   "id": "59f20703-1fc0-4791-9242-591d6a7b10fa",
   "metadata": {},
   "outputs": [],
   "source": [
    "import seaborn as sns \n",
    "\n",
    "sns.distplot(all_topk_vals[:, 0].cpu().numpy(), bins=200)\n",
    "sns.distplot(all_topk_vals[:, 1].cpu().numpy(), bins=200)\n",
    "sns.distplot(all_topk_vals[:, 2].cpu().numpy(), bins=200)"
   ]
  },
  {
   "cell_type": "code",
   "execution_count": null,
   "id": "d075cda2-8944-48de-b2f5-8e9517de5565",
   "metadata": {},
   "outputs": [],
   "source": [
    "selected = (all_topk_vals[:, 0]>0.7)\n",
    "'top1 acc', (all_gt_voc[selected] == all_max_ind[selected]).float().mean(), \\\n",
    "'selected percentile', selected.float().mean(), \\\n",
    "'class diversity', len(set(all_gt_voc.unique().numpy()) - set(all_max_ind[selected].unique().numpy())), \\\n",
    "'topk inclusion', torch.stack([all_topk_vocinds[selected, i]==all_gt_voc[selected] for i in range(all_topk_vocinds.size(1))], dim=1).float().sum(dim=-1).bool().float().mean(), \\\n",
    "'selected sample pred voc size', len(all_max_ind[selected].unique()), \\\n",
    "'average selected instance number per class', selected.sum()/len(all_gt_voc.unique()),\n"
   ]
  },
  {
   "cell_type": "code",
   "execution_count": null,
   "id": "4888780d-22f0-47f2-a216-d5b78a5dbd2b",
   "metadata": {},
   "outputs": [],
   "source": [
    "pred_kmeans_t"
   ]
  },
  {
   "cell_type": "code",
   "execution_count": null,
   "id": "6e444ff3-7837-4e21-a5eb-d21c6111fd73",
   "metadata": {
    "tags": []
   },
   "outputs": [],
   "source": [
    "\"\"\" initial clip assignment \"\"\"\n",
    "list(filter(lambda x: x[1]<100, [(i.item(), (all_max_ind==i).sum().item()) for i in all_gt_voc.unique()]))"
   ]
  },
  {
   "cell_type": "markdown",
   "id": "15937caa-ab71-4efd-b334-634f64485d73",
   "metadata": {},
   "source": [
    "text to image entropy"
   ]
  },
  {
   "cell_type": "code",
   "execution_count": 11,
   "id": "c9165942-c523-4821-9ddf-da7e57c3e801",
   "metadata": {},
   "outputs": [
    {
     "name": "stderr",
     "output_type": "stream",
     "text": [
      "  0%|          | 0/126 [00:00<?, ?it/s]"
     ]
    }
   ],
   "source": [
    "amp_autocast = torch.cuda.amp.autocast\n",
    "classifier = get_classifier(args)\n",
    "classifier = classifier/classifier.norm(dim=-1, keepdim=True)\n",
    "\n",
    "### get all label and predicted label\n",
    "all_label_voc = []\n",
    "all_pred_voc = []\n",
    "all_label_clu = []\n",
    "with tqdm(total=len(loader_f)) as pbar:\n",
    "    model.eval()\n",
    "    for idx_batch, batch in enumerate(loader_f):\n",
    "        images, label_voc, label_clu, idx_img = batch\n",
    "        images = images.to(args.device)\n",
    "        with amp_autocast():\n",
    "            with torch.no_grad():\n",
    "                logits = model.visual(images)\n",
    "                logits = logits/logits.norm(dim=-1, keepdim=True)\n",
    "                similarity = model.logit_scale.exp() * logits @ classifier.t()\n",
    "                prob = similarity.softmax(-1)\n",
    "                pred_voc = prob.argmax(dim=-1)\n",
    "        all_label_voc.append(label_voc)\n",
    "        all_pred_voc.append(pred_voc.cpu())\n",
    "        all_label_clu.append(label_clu)\n",
    "        pbar.update(1)\n",
    "all_label_voc = torch.cat(all_label_voc, dim=0)\n",
    "all_pred_voc = torch.cat(all_pred_voc, dim=0)\n",
    "all_label_clu = torch.cat(all_label_clu, dim=0)\n",
    "\n",
    "                \n",
    "### compute entropy\n",
    "set_all_label_voc = all_label_voc.unique()\n",
    "set_all_pred_voc = all_pred_voc.unique()\n",
    "selected_classifier_ind = torch.cat([set_all_label_voc, set_all_pred_voc], dim=0).unique()\n",
    "all_similarity = []\n",
    "all_selected_sim = []\n",
    "with tqdm(total=len(loader_f)) as pbar:\n",
    "    model.eval()\n",
    "    for idx_batch, batch in enumerate(loader_f):\n",
    "        images, label_voc, label_clu, idx_img = batch\n",
    "        images = images.to(args.device)\n",
    "        label_voc = label_voc.to(args.device)\n",
    "        with amp_autocast():\n",
    "            with torch.no_grad():\n",
    "                logits = model.visual(images)\n",
    "                logits = logits/logits.norm(dim=-1, keepdim=True)\n",
    "                similarity = model.logit_scale.exp() * logits @ classifier.t()\n",
    "                all_selected_sim.append(similarity[:, selected_classifier_ind].cpu())\n",
    "                all_similarity.append(similarity.cpu().numpy())\n",
    "        pbar.update(1)\n",
    "        \n",
    "all_selected_sim = torch.cat(all_selected_sim, dim=0)\n",
    "all_similarity = np.concatenate(all_similarity)"
   ]
  },
  {
   "cell_type": "code",
   "execution_count": 13,
   "id": "23ded316-eb1c-43f6-93a0-b65682197242",
   "metadata": {},
   "outputs": [],
   "source": [
    "pred_kmeans_t = torch.from_numpy(np.load(f'./pred_clu_clip-{args.dataset_name}-train-{arch}.npy'))\n",
    "classwise_all_selected_sim = []\n",
    "for c in pred_kmeans_t.unique():\n",
    "    subset = (pred_kmeans_t==c)\n",
    "    classwise_all_selected_sim.append(all_selected_sim[subset, :].mean(dim=0).cpu())\n",
    "classwise_all_selected_sim = torch.stack(classwise_all_selected_sim, dim=0)\n",
    "p = classwise_all_selected_sim.float().softmax(dim=0)\n",
    "ent = (-p*(p+1e-10).log2()).sum(dim=0)"
   ]
  },
  {
   "cell_type": "code",
   "execution_count": null,
   "id": "9446d82a-1e89-4e68-a08f-2924614cc268",
   "metadata": {},
   "outputs": [],
   "source": [
    "from scipy.special import softmax\n",
    "softmax(all_similarity, axis=0)\n",
    "pred_kmeans_t = torch.from_numpy(np.load(f'./pred_clu_clip-{args.dataset_name}-train-{arch}.npy'))\n",
    "classwise_all_sim = []\n",
    "for c in pred_kmeans_t.unique():\n",
    "    subset = (pred_kmeans_t==c)\n",
    "    classwise_all_sim.append(all_selected_sim[subset, :].mean(dim=0).cpu())\n",
    "classwise_all_sim = torch.stack(classwise_all_sim, dim=0)\n",
    "p_all = classwise_all_sim.float().softmax(dim=0)\n",
    "ent_all = (-p_all*(p_all+1e-10).log2()).sum(dim=0)"
   ]
  },
  {
   "cell_type": "code",
   "execution_count": 20,
   "id": "056f95cb-d240-4f8e-bff3-89d1ee2b0ecf",
   "metadata": {},
   "outputs": [],
   "source": [
    "ent = torch.nan_to_num(ent)\n",
    "ent_gt = ent[torch.isin(selected_classifier_ind, set_all_label_voc)]\n",
    "ent_pred = ent[torch.isin(selected_classifier_ind, set_all_pred_voc)]"
   ]
  },
  {
   "cell_type": "code",
   "execution_count": null,
   "id": "a1d2bd40-54aa-4cd3-8b70-9818908b212a",
   "metadata": {},
   "outputs": [],
   "source": [
    "import seaborn as sns\n",
    "import matplotlib.pyplot as plt\n",
    "plt.figure(dpi=128)\n",
    "sns.distplot(ent_gt.numpy(), bins=100)\n",
    "sns.distplot(ent_pred.numpy(), bins=100)"
   ]
  },
  {
   "cell_type": "code",
   "execution_count": 22,
   "id": "a7b5420f-f0cd-4283-b407-23b711156895",
   "metadata": {},
   "outputs": [
    {
     "data": {
      "text/plain": [
       "(tensor(14), tensor(9), tensor(3176), tensor(4867))"
      ]
     },
     "execution_count": 22,
     "metadata": {},
     "output_type": "execute_result"
    }
   ],
   "source": [
    "(ent_gt>2).sum(), (ent_gt>3).sum(), \\\n",
    "(ent_pred<2).sum(), (ent_pred<3).sum()"
   ]
  },
  {
   "cell_type": "code",
   "execution_count": 23,
   "id": "2423501f-0554-4cfc-8457-5d5b2deb434c",
   "metadata": {},
   "outputs": [
    {
     "data": {
      "text/plain": [
       "(tensor(14), tensor(9), tensor(3176), tensor(4867))"
      ]
     },
     "execution_count": 23,
     "metadata": {},
     "output_type": "execute_result"
    }
   ],
   "source": [
    "(ent_gt>2).sum(), (ent_gt>3).sum(), \\\n",
    "(ent_pred<2).sum(), (ent_pred<3).sum()"
   ]
  },
  {
   "cell_type": "markdown",
   "id": "74abb5cf-b0ee-4e10-a740-b506dc495449",
   "metadata": {},
   "source": [
    "### Classifier Distinguishement"
   ]
  },
  {
   "cell_type": "code",
   "execution_count": 45,
   "id": "7fc225fb-d00e-4edc-b5c5-5c2645e5e0c0",
   "metadata": {},
   "outputs": [],
   "source": [
    "res = torch.load(f'./cache-{args.dataset_name}.pth')\n",
    "all_clu_pred = res['all_clu_pred']\n",
    "label_voc_kmeans = res['label_voc_kmeans']\n",
    "pred_kmeans_t = res['pred_kmeans_t']\n",
    "cluster_ind_voc = res['cluster_ind_voc']\n",
    "record_pred_kmeans_t = res['record_pred_kmeans_t']\n",
    "all_gt_voc = res['all_gt_voc']\n",
    "all_label_clu = res['all_label_clu']\n",
    "\n",
    "classifier = get_classifier(args)\n",
    "classifier = classifier/classifier.norm(dim=-1, keepdim=True)"
   ]
  },
  {
   "cell_type": "code",
   "execution_count": 46,
   "id": "5b9fdbfc-eb0f-4a1b-91fa-6a75c81b757d",
   "metadata": {},
   "outputs": [],
   "source": [
    "from wordnet_utils import *"
   ]
  },
  {
   "cell_type": "code",
   "execution_count": 47,
   "id": "e965ea79-d879-4a45-90d9-39ee249cb3b1",
   "metadata": {},
   "outputs": [],
   "source": [
    "sim_cls = (classifier[all_gt_voc.unique(), :] @ classifier.t())\n",
    "sim_cls_topk = sim_cls.topk(k=10)\n",
    "sim_cls_topk_ind = sim_cls_topk.indices\n",
    "sim_cls_topk_val = sim_cls_topk.values"
   ]
  },
  {
   "cell_type": "code",
   "execution_count": 48,
   "id": "5243b583-f26f-4119-8f2e-c85d39d1eb4e",
   "metadata": {},
   "outputs": [
    {
     "data": {
      "text/plain": [
       "(tensor([0.9226, 0.9470, 0.8229, 0.9689, 0.9503, 0.9278, 0.9405, 0.9569, 0.8933,\n",
       "         0.9786, 0.8696, 0.8784, 0.8492, 0.9287, 0.9550, 0.9381, 0.9333, 0.9223,\n",
       "         0.9375, 0.8907, 0.9537, 0.9489, 0.9119, 0.8437, 0.9601, 0.8123, 0.9727,\n",
       "         0.7702, 0.9134, 0.9464, 0.8488, 0.7621, 0.7794, 0.9110, 0.8408, 0.8109,\n",
       "         0.8916, 0.8436, 0.8203, 0.8179, 0.9077, 0.9552, 0.8176, 0.9212, 0.9691,\n",
       "         0.8465, 0.8818, 0.8904, 0.9088, 0.8446, 0.9524, 0.8530, 0.7941, 0.8238,\n",
       "         0.9566, 0.7968, 0.9786, 0.9124, 0.9291, 0.8696, 0.9337, 0.9249, 0.9274,\n",
       "         0.9662, 0.9138, 0.9043, 0.8892, 0.9450, 0.8370, 0.9197, 0.9375, 0.9237,\n",
       "         0.9637, 0.9213, 0.8963, 0.9562, 0.9110, 0.8527, 0.9163, 0.9402, 0.9619,\n",
       "         0.9393, 0.9423, 0.9157, 0.9424, 0.8922, 0.9498, 0.8936, 0.9217, 0.8915,\n",
       "         0.9252, 0.9184, 0.9449, 0.8407, 0.9376, 0.9724, 0.9436, 0.9644, 0.9296],\n",
       "        device='cuda:1'),\n",
       " tensor([15240, 51703, 65422, 32021, 53004, 54715,  6397, 20858, 27740,  7485,\n",
       "          8907,  7694,  7752, 26650,  1223, 43438,  5973, 32538, 10563, 66034,\n",
       "         57945, 12444, 35247,  6492, 15597, 11279, 13570, 17521, 17241, 55501,\n",
       "         34043, 24548,  6114, 58093, 38578, 36599, 23415, 18738, 18111, 57301,\n",
       "          7040, 20878, 32545, 11992, 29101, 29516, 35352, 42218, 65556, 54507,\n",
       "          8321, 65422, 36599, 53398, 59190,  1774, 63917, 31995, 61582, 15596,\n",
       "          8765, 61900, 39850, 22350, 38342,  8557, 43274, 63250, 54473, 44576,\n",
       "         45375, 18059, 15703, 26868, 37410, 43417, 21197,  5833, 64016, 14913,\n",
       "         52342,  2382, 53388,  5163, 54780, 56914, 34640, 18738, 51641, 58779,\n",
       "          5380, 27608,  9356, 19760, 64037, 13373, 44372, 65530, 57065],\n",
       "        device='cuda:1'))"
      ]
     },
     "execution_count": 48,
     "metadata": {},
     "output_type": "execute_result"
    }
   ],
   "source": [
    "sim_cls_topk_val[:, 1], sim_cls_topk_ind[:, 1]"
   ]
  },
  {
   "cell_type": "code",
   "execution_count": 53,
   "id": "bd23e819-befc-4f8e-b69f-6b75674ab8b9",
   "metadata": {
    "scrolled": true,
    "tags": []
   },
   "outputs": [],
   "source": [
    "knn_names = [ mapping_vocidx_to_synsets(r.item(), vocab)[0] for r in sim_cls_topk_ind[:, 1] ]\n",
    "\n",
    "gt_voc_names = [ mapping_vocidx_to_synsets(r.item(), vocab)[0] for r in sim_cls_topk_ind[:, 0] ]"
   ]
  },
  {
   "cell_type": "code",
   "execution_count": 54,
   "id": "15df7e9b-8eb6-46c3-9650-ceb507c877e7",
   "metadata": {},
   "outputs": [],
   "source": [
    "mapping_synset_to_synset_names = lambda x: list(map(lambda y: y.name(), x))"
   ]
  },
  {
   "cell_type": "code",
   "execution_count": 55,
   "id": "a6ff359d-3642-4ba5-99e1-714036e8d455",
   "metadata": {},
   "outputs": [],
   "source": [
    "path_distance = np.array([int(1/tree_distance(x, y, 'path_similarity')) for (x, y) in zip(gt_voc_names, knn_names)])\n",
    "compare_names = np.array([[x, y] for (x, y) in zip(mapping_synset_to_synset_names(gt_voc_names), mapping_synset_to_synset_names(knn_names))])"
   ]
  },
  {
   "cell_type": "code",
   "execution_count": 68,
   "id": "c2aa2286-a2b6-43ad-ad22-ff1c3f876c32",
   "metadata": {
    "scrolled": true,
    "tags": []
   },
   "outputs": [
    {
     "data": {
      "text/plain": [
       "array([['agaric.n.02', 'royal_agaric.n.01'],\n",
       "       ['airedale.n.01', 'welsh_terrier.n.01'],\n",
       "       ['airliner.n.01', 'jetliner.n.01'],\n",
       "       ['backpack.n.01', 'schoolbag.n.01'],\n",
       "       ['bathing_cap.n.01', 'shower_cap.n.01'],\n",
       "       ['bittern.n.01', 'european_bittern.n.01'],\n",
       "       ['buckle.n.01', 'belt_buckle.n.01'],\n",
       "       ['canoe.n.01', 'kayak.n.01'],\n",
       "       ['crane.n.05', 'bird.n.01'],\n",
       "       ['custard_apple.n.02', 'cherimoya.n.02'],\n",
       "       ['desktop_computer.n.01', 'computer.n.01'],\n",
       "       ['dhole.n.01', 'dingo.n.01'],\n",
       "       ['entlebucher.n.01', 'bernese_mountain_dog.n.01'],\n",
       "       ['folding_chair.n.01', 'straight_chair.n.01'],\n",
       "       ['greater_swiss_mountain_dog.n.01', 'dog.n.01'],\n",
       "       ['hand_blower.n.01', 'blower.n.01'],\n",
       "       ['hare.n.01', 'european_hare.n.01'],\n",
       "       ['harmonica.n.01', 'kazoo.n.01'],\n",
       "       ['home_theater.n.01', 'cinema.n.02'],\n",
       "       ['jay.n.02', 'old_world_jay.n.01'],\n",
       "       ['killer_whale.n.01', 'whale.n.02'],\n",
       "       ['lacewing.n.01', 'brown_lacewing.n.01'],\n",
       "       ['lakeland_terrier.n.01', 'welsh_terrier.n.01'],\n",
       "       ['langur.n.01', 'mangabey.n.01'],\n",
       "       ['leatherback_turtle.n.01', 'sea_turtle.n.01'],\n",
       "       ['lorikeet.n.01', 'varied_lorikeet.n.01'],\n",
       "       ['measuring_cup.n.01', 'cup.n.01'],\n",
       "       ['minibus.n.01', 'bus.n.01'],\n",
       "       ['mud_turtle.n.01', 'musk_turtle.n.01'],\n",
       "       ['parallel_bars.n.01', 'uneven_parallel_bars.n.01'],\n",
       "       ['pekinese.n.01', 'shih-tzu.n.01'],\n",
       "       ['pillow.n.01', 'cushion.n.03'],\n",
       "       ['printer.n.03', 'page_printer.n.01'],\n",
       "       ['recreational_vehicle.n.01', 'vehicle.n.01'],\n",
       "       ['spotlight.n.02', 'light.n.02'],\n",
       "       ['stingray.n.01', 'roughtail_stingray.n.01'],\n",
       "       ['tick.n.02', 'hard_tick.n.01'],\n",
       "       ['tripod.n.01', 'camera_tripod.n.01'],\n",
       "       ['wallaby.n.01', 'common_wallaby.n.01'],\n",
       "       ['weevil.n.01', 'pea_weevil.n.01'],\n",
       "       ['whiptail.n.01', 'western_whiptail.n.01'],\n",
       "       ['wooden_spoon.n.02', 'spoon.n.01']], dtype='<U31')"
      ]
     },
     "execution_count": 68,
     "metadata": {},
     "output_type": "execute_result"
    }
   ],
   "source": [
    "compare_names[(path_distance<5)]"
   ]
  },
  {
   "cell_type": "code",
   "execution_count": 70,
   "id": "e5b44745-2727-4e9f-9167-006798d947e0",
   "metadata": {},
   "outputs": [
    {
     "name": "stderr",
     "output_type": "stream",
     "text": [
      "/home/sheng/anaconda3/envs/gcd/lib/python3.8/site-packages/seaborn/distributions.py:2619: FutureWarning: `distplot` is a deprecated function and will be removed in a future version. Please adapt your code to use either `displot` (a figure-level function with similar flexibility) or `histplot` (an axes-level function for histograms).\n",
      "  warnings.warn(msg, FutureWarning)\n"
     ]
    },
    {
     "data": {
      "image/png": "[encoded data removed]",
      "text/plain": [
       "<Figure size 432x288 with 1 Axes>"
      ]
     },
     "metadata": {
      "needs_background": "light"
     },
     "output_type": "display_data"
    },
    {
     "name": "stderr",
     "output_type": "stream",
     "text": [
      "/home/sheng/anaconda3/envs/gcd/lib/python3.8/site-packages/seaborn/distributions.py:2619: FutureWarning: `distplot` is a deprecated function and will be removed in a future version. Please adapt your code to use either `displot` (a figure-level function with similar flexibility) or `histplot` (an axes-level function for histograms).\n",
      "  warnings.warn(msg, FutureWarning)\n"
     ]
    },
    {
     "data": {
      "image/png": "[encoded data removed]",
      "text/plain": [
       "<Figure size 432x288 with 1 Axes>"
      ]
     },
     "metadata": {
      "needs_background": "light"
     },
     "output_type": "display_data"
    }
   ],
   "source": [
    "import matplotlib.pyplot as plt\n",
    "plt.figure()\n",
    "sns.distplot(path_distance, bins=10)\n",
    "plt.show()\n",
    "\n",
    "plt.figure()\n",
    "sns.distplot(sim_cls_topk_val[:, 1].cpu().numpy(), bins=100)\n",
    "plt.show()"
   ]
  }
 ],
 "metadata": {
  "kernelspec": {
   "display_name": "gcd",
   "language": "python",
   "name": "gcd"
  },
  "language_info": {
   "codemirror_mode": {
    "name": "ipython",
    "version": 3
   },
   "file_extension": ".py",
   "mimetype": "text/x-python",
   "name": "python",
   "nbconvert_exporter": "python",
   "pygments_lexer": "ipython3",
   "version": "3.8.13"
  }
 },
 "nbformat": 4,
 "nbformat_minor": 5
}
