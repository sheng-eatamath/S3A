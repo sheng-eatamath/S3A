{
 "cells": [
  {
   "cell_type": "markdown",
   "id": "ae430ea7-ab57-477f-8a7d-1890d97d2898",
   "metadata": {},
   "source": [
    "- observe image KNN\n",
    "\n",
    "- observe initial assignment performance\n",
    "\n",
    "- observe text distribution\n",
    "\n",
    "- observe vocab filtering performance w.r.t. different strategies"
   ]
  },
  {
   "cell_type": "code",
   "execution_count": 1,
   "id": "c187d77c-026e-4cf7-9000-103a8718cd8c",
   "metadata": {},
   "outputs": [],
   "source": [
    "import sys\n",
    "sys.path.append('/home/sheng/OSZSL/')\n",
    "sys.path.append('/home/sheng/OSZSL/CLIP/')\n",
    "\n",
    "import os\n",
    "import json\n",
    "import pickle\n",
    "from typing import Union, List\n",
    "from tqdm import tqdm\n",
    "from copy import deepcopy\n",
    "import numpy as np\n",
    "from functools import reduce\n",
    "from itertools import zip_longest\n",
    "import seaborn as sns\n",
    "from collections import Counter, defaultdict\n",
    "\n",
    "import torch \n",
    "import torch.nn as nn\n",
    "import torch.nn.functional as F\n",
    "import torchvision\n",
    "import torchvision.transforms as transforms\n",
    "\n",
    "from ipynb_utils import get_hier_datasets, get_classifier\n",
    "import clip\n",
    "from data.datasets import get_datasets_oszsl, build_transform"
   ]
  },
  {
   "cell_type": "code",
   "execution_count": 2,
   "id": "184f5eb3-cd49-42e6-87b1-cb7e50d0d42f",
   "metadata": {},
   "outputs": [],
   "source": [
    "class Config:\n",
    "    device = 'cuda:0'\n",
    "    arch = 'ViT-B/16'\n",
    "    dataset_name = 'imagenet'\n",
    "    n_sampled_classes = 100\n",
    "    input_size = 224\n",
    "    \n",
    "    batch_size = 1024\n",
    "    use_def = False\n",
    "    # clip_checkpoint = '/home/sheng/MUST-output/make_nonliving26/classifier=false-em=model_ema-w_fair=0.2-conf=0.5-B128x2-test/checkpoint-current.pth'\n",
    "    clip_checkpoint = None\n",
    "    \n",
    "    f_template = '../templates_small.json'\n",
    "    f_classifier = './cache/wordnet_classifier_small_templates.pth'\n",
    "    \n",
    "args = Config()"
   ]
  },
  {
   "cell_type": "code",
   "execution_count": 3,
   "id": "d8b6c3e7-a7cf-4d0b-b4f6-2c8f2ae6daef",
   "metadata": {},
   "outputs": [],
   "source": [
    "with open(args.f_template, 'rb') as f:\n",
    "    templates = json.load(f)\n",
    "\n",
    "if args.use_def:\n",
    "    with open('../templates-def.json', 'rb') as f:\n",
    "        templates = json.load(f)\n",
    "\n",
    "def get_vocab():\n",
    "    \"\"\"\n",
    "    Args:\n",
    "        vocab: {`names`: list, `ids`: synset ids, `parents`: [{synset ids}]}\n",
    "    \"\"\"\n",
    "    with open('/home/sheng/dataset/wordnet_nouns.pkl', 'rb') as f:\n",
    "        vocab = pickle.load(f)\n",
    "        \n",
    "    # with open('/home/sheng/dataset/wordnet_nouns_no_abstract.pkl', 'rb') as f:\n",
    "    #     vocab = pickle.load(f)\n",
    "    return vocab\n",
    "\n",
    "vocab = get_vocab()\n",
    "templates = templates['imagenet']\n",
    "classnames = vocab['names']\n",
    "parents = vocab['parents']\n",
    "defs = vocab['def']"
   ]
  },
  {
   "cell_type": "markdown",
   "id": "5c1c3b89-edaa-4054-a0f6-a78a82ced191",
   "metadata": {},
   "source": [
    "### build vocab"
   ]
  },
  {
   "cell_type": "code",
   "execution_count": 4,
   "id": "9a86114b-bc50-45ab-9c15-03cfdab3e687",
   "metadata": {},
   "outputs": [],
   "source": [
    "class Vocab:\n",
    "    \"\"\" classname indexed vocab \"\"\"\n",
    "    def __init__(self, vocab):\n",
    "        self.vocab = vocab\n",
    "        self.indexing()\n",
    "        ### {global_synset: global_names}\n",
    "        self.mapping_ids_names = dict(zip(vocab['ids'], vocab['names']))\n",
    "        # self.mapping_names_ids = dict(zip(vocab['names'], vocab['ids']))\n",
    "        ### {local_idx: local_names}\n",
    "        self.mapping_idx_names = dict(zip(range(len(self.classnames)), self.classnames))\n",
    "        ### {local_names: local_idx}\n",
    "        self.mapping_names_idx = dict(zip(self.classnames, range(len(self.classnames))))\n",
    "        ### {global_synset: global_idx}\n",
    "        self.mapping_ids_global_idx = dict(zip(vocab['ids'], range(len(vocab['ids']))))\n",
    "        self.mapping_global_idx_ids = dict(zip(range(len(vocab['ids'])), vocab['ids']))\n",
    "        \n",
    "        ### {global_names: [global_idx]}\n",
    "        self.vocab_mapping_names_idx = defaultdict(list)\n",
    "        for k, v in zip(vocab['names'], range(len(vocab['names']))):\n",
    "            self.vocab_mapping_names_idx[k].append(v)\n",
    "            \n",
    "        ### {local_idx: global_idx}\n",
    "        self.mapping_idx_global_idx = {}\n",
    "        for i in range(len(self)):\n",
    "            self.mapping_idx_global_idx[i] = self.vocab_mapping_names_idx[self.mapping_idx_names[i]]\n",
    "\n",
    "        return\n",
    "    \n",
    "    def __len__(self):\n",
    "        return len(self.classnames)\n",
    "    \n",
    "    def __getitem__(self, idx):\n",
    "        return self.classnames[idx]\n",
    "    \n",
    "    def indexing(self):\n",
    "        self.classnames = sorted(list(set(self.vocab['names'])))\n",
    "        ### global index retained\n",
    "        # self.classnames = list(self.vocab['names'])\n",
    "        return\n",
    "    \n",
    "def calibrate_vocab(vocab, method, **kwargs):\n",
    "    if method == 'topk':\n",
    "        K = kwargs['K']\n",
    "    elif method == 'upperbound':\n",
    "        synids = kwargs['classids']\n",
    "        synids\n",
    "        \n",
    "def subsample_vocab(vocab, sampling_idx):\n",
    "    \"\"\" [to revise] subsample vocab based on @sampling_idx on @vocab \"\"\"\n",
    "    assert len(sampling_idx)>0\n",
    "    set_sampling_idx = set(sampling_idx)\n",
    "    sub_vocab = deepcopy(vocab)\n",
    "    sub_vocab.mapping_idx_ids = {k: v for k, v in vocab.mapping_idx_ids.items() if k in set_sampling_idx}\n",
    "    sub_vocab.mapping_ids_idx = {v: k for k, v in sub_vocab.mapping_idx_ids.items()}\n",
    "    set_sampling_ids = set(sub_vocab.mapping_ids_idx)\n",
    "    sub_vocab.mapping_ids_names = {k: v for k, v in vocab.mapping_ids_names.items() if k in set_sampling_ids}\n",
    "    sub_vocab.mapping_names_ids = {v: k for k, v in sub_vocab.mapping_ids_names.items()}\n",
    "    return sub_vocab"
   ]
  },
  {
   "cell_type": "code",
   "execution_count": 5,
   "id": "9a896e47-a890-4740-8b0b-1b06aeb77d92",
   "metadata": {},
   "outputs": [],
   "source": [
    "vocab = Vocab(vocab=vocab)"
   ]
  },
  {
   "cell_type": "markdown",
   "id": "386b7acf-c7cf-4eca-823c-0122d0d1ab04",
   "metadata": {},
   "source": [
    "### load CLIP"
   ]
  },
  {
   "cell_type": "code",
   "execution_count": 10,
   "id": "b6b61826-1398-4f56-9a19-7a62f3263af1",
   "metadata": {
    "tags": []
   },
   "outputs": [],
   "source": [
    "\"\"\" from MUST \"\"\"\n",
    "from clip.simple_tokenizer import SimpleTokenizer as _Tokenizer\n",
    "_tokenizer = _Tokenizer()\n",
    "\n",
    "def tokenize(texts: Union[str, List[str]], context_length: int = 77, truncate: bool = False) -> torch.LongTensor:\n",
    "    if isinstance(texts, str):\n",
    "        texts = [texts]\n",
    "\n",
    "    sot_token = _tokenizer.encoder[\"<|startoftext|>\"]\n",
    "    eot_token = _tokenizer.encoder[\"<|endoftext|>\"]\n",
    "    all_tokens = [[sot_token] + _tokenizer.encode(text) + [eot_token] for text in texts]\n",
    "    result = torch.zeros(len(all_tokens), context_length, dtype=torch.long)\n",
    "\n",
    "    for i, tokens in enumerate(all_tokens):\n",
    "        if len(tokens) > context_length:\n",
    "            if truncate:\n",
    "                tokens = tokens[:context_length]\n",
    "                tokens[-1] = eot_token\n",
    "            else:\n",
    "                raise RuntimeError(f\"Input {texts[i]} is too long for context length {context_length}\")\n",
    "        result[i, :len(tokens)] = torch.tensor(tokens)\n",
    "\n",
    "    return result"
   ]
  },
  {
   "cell_type": "code",
   "execution_count": null,
   "id": "18adb3f5-7744-4582-9eaf-29ecbe3799f2",
   "metadata": {},
   "outputs": [
    {
     "name": "stdout",
     "output_type": "stream",
     "text": [
      "Model parameters: 149,620,737\n",
      "Input resolution: 224\n",
      "Context length: 77\n",
      "Vocab size: 49408\n"
     ]
    }
   ],
   "source": [
    "model, preprocess = clip.load(args.arch)\n",
    "if args.clip_checkpoint:\n",
    "    model.load_state_dict({k[len('model.'):]:v for k, v in torch.load(args.clip_checkpoint, map_location='cpu')['model'].items()}, strict=False)\n",
    "model.to(args.device).eval()\n",
    "input_resolution = model.visual.input_resolution\n",
    "context_length = model.context_length\n",
    "vocab_size = model.vocab_size\n",
    "\n",
    "print(\"Model parameters:\", f\"{np.sum([int(np.prod(p.shape)) for p in model.parameters()]):,}\")\n",
    "print(\"Input resolution:\", input_resolution)\n",
    "print(\"Context length:\", context_length)\n",
    "print(\"Vocab size:\", vocab_size)"
   ]
  },
  {
   "cell_type": "markdown",
   "id": "fea3cbe7-3f1e-4996-8e97-1c3fb735b846",
   "metadata": {
    "tags": []
   },
   "source": [
    "### load dataset"
   ]
  },
  {
   "cell_type": "code",
   "execution_count": 13,
   "id": "0f4e5fcd-f94c-42dc-833b-5954236d5f92",
   "metadata": {},
   "outputs": [],
   "source": [
    "transform_val = build_transform(is_train=False, args=args, train_config=None)\n",
    "dataset_raw = get_datasets_oszsl(args, None, is_train=False, transform=transform_val, seed=1)\n",
    "dataset = get_datasets_oszsl(args, vocab, is_train=True, transform=transform_val, seed=1)\n",
    "\n",
    "loader_val = torch.utils.data.DataLoader(dataset, num_workers=8, batch_size=args.batch_size, shuffle=False)"
   ]
  },
  {
   "cell_type": "markdown",
   "id": "768ef66f-e287-475e-bd63-c7adf92816c3",
   "metadata": {},
   "source": [
    "### build classifier"
   ]
  },
  {
   "cell_type": "code",
   "execution_count": 15,
   "id": "6d50813d-9642-4b31-9a0c-ebe4456e9fd5",
   "metadata": {
    "tags": []
   },
   "outputs": [
    {
     "name": "stderr",
     "output_type": "stream",
     "text": [
      "100%|██████████| 1049/1049 [02:18<00:00,  7.59it/s]\n"
     ]
    }
   ],
   "source": [
    "# if args.use_def:\n",
    "#     batch_size = 64\n",
    "#     with torch.no_grad():\n",
    "#         zeroshot_weights = []\n",
    "#         with tqdm(total=len(vocab.classnames)//batch_size) as pbar:\n",
    "#             for idx_set, classname_set in zip(np.array_split(np.arange(len(vocab.classnames)), len(vocab.classnames)//batch_size), \n",
    "#                                      np.array_split(vocab.classnames, len(vocab.classnames)//batch_size)):\n",
    "#                 # idx_set = [vocab.mapping_idx_global_idx[ii] for ii in idx_set]\n",
    "#                 texts = [template.format(classname, defs[idx])[:77] for idx, classname in zip(idx_set, classname_set) for template in templates] #format with class\n",
    "#                 texts = tokenize(texts).to(args.device) #tokenize\n",
    "#                 class_embeddings = model.encode_text(texts) #embed with text encoder\n",
    "#                 class_embeddings = class_embeddings.view(-1, len(templates), class_embeddings.size(-1))\n",
    "#                 class_embeddings /= class_embeddings.norm(dim=-1, keepdim=True)\n",
    "#                 class_embedding = class_embeddings.mean(dim=1)\n",
    "#                 class_embedding /= class_embedding.norm()\n",
    "#                 zeroshot_weights.append(class_embedding.cpu())\n",
    "\n",
    "#                 pbar.update(1)\n",
    "\n",
    "#     classifier = torch.cat(zeroshot_weights, dim=0)\n",
    "#     torch.save(classifier, './cache/wordnet_classifier_def.pth') \n",
    "# else:\n",
    "all_class_weights = []\n",
    "batch_size = 64\n",
    "with torch.no_grad():\n",
    "    zeroshot_weights = []\n",
    "    zeroshot_weights_var = []\n",
    "    with tqdm(total=len(vocab.classnames)//batch_size) as pbar:\n",
    "        for classname_set in np.array_split(vocab.classnames, len(vocab.classnames)//batch_size):\n",
    "            texts = [template.format(classname) for classname in classname_set for template in templates] #format with class\n",
    "            texts = tokenize(texts).to(args.device) #tokenize\n",
    "            class_embeddings = model.encode_text(texts) #embed with text encoder\n",
    "            class_embeddings = class_embeddings.view(-1, len(templates), class_embeddings.size(-1)).float()\n",
    "            all_class_weights.append(class_embeddings.cpu())\n",
    "            # norm and std over all vec\n",
    "            class_embeddings /= class_embeddings.norm(dim=-1, keepdim=True)\n",
    "            class_embedding_var = class_embeddings.std(dim=1)\n",
    "            zeroshot_weights_var.append(class_embedding_var.cpu())\n",
    "            # normalize mean vec\n",
    "            class_embedding = class_embeddings.mean(dim=1)\n",
    "            class_embedding /= class_embedding.norm(dim=-1, keepdim=True)\n",
    "            zeroshot_weights.append(class_embedding.cpu())\n",
    "            pbar.update(1)\n",
    "\n",
    "classifier = torch.cat(zeroshot_weights, dim=0)\n",
    "zeroshot_weights_var = torch.cat(zeroshot_weights_var, dim=0)\n",
    "torch.save(classifier, './cache/wordnet_classifier_small_templates.pth')\n",
    "# torch.save(classifier, './cache/wordnet_classifier.pth')\n",
    "# torch.save(zeroshot_weights_var, './cache/wordnet_classifier_with_var.pth')"
   ]
  },
  {
   "cell_type": "code",
   "execution_count": 31,
   "id": "34ca773e-5e7d-4c6d-8613-f1145afe2139",
   "metadata": {},
   "outputs": [],
   "source": [
    "classifier = torch.load('./cache/wordnet_classifier.pth')\n",
    "# zeroshot_weights_var = torch.load('./cache/wordnet_classifier_with_var.pth')\n",
    "classifier /= classifier.norm(dim=-1, keepdim=True)"
   ]
  },
  {
   "cell_type": "code",
   "execution_count": 9,
   "id": "5f626a52-9552-48a3-8fd2-15f1b110cfe0",
   "metadata": {},
   "outputs": [],
   "source": [
    "classifier = classifier.to(args.device)\n",
    "sim = classifier@classifier.t()"
   ]
  },
  {
   "cell_type": "code",
   "execution_count": 10,
   "id": "e417a440-d070-40cf-9a5e-bda46a1c8c49",
   "metadata": {},
   "outputs": [],
   "source": [
    "nn_sim = sim.topk(k=10).values[:, 1:]"
   ]
  },
  {
   "cell_type": "code",
   "execution_count": 11,
   "id": "2b30a780-61ac-42b2-ac39-1315877a288b",
   "metadata": {},
   "outputs": [
    {
     "name": "stderr",
     "output_type": "stream",
     "text": [
      "/home/sheng/anaconda3/envs/gcd/lib/python3.8/site-packages/seaborn/distributions.py:2619: FutureWarning: `distplot` is a deprecated function and will be removed in a future version. Please adapt your code to use either `displot` (a figure-level function with similar flexibility) or `histplot` (an axes-level function for histograms).\n",
      "  warnings.warn(msg, FutureWarning)\n",
      "/home/sheng/anaconda3/envs/gcd/lib/python3.8/site-packages/seaborn/distributions.py:2619: FutureWarning: `distplot` is a deprecated function and will be removed in a future version. Please adapt your code to use either `displot` (a figure-level function with similar flexibility) or `histplot` (an axes-level function for histograms).\n",
      "  warnings.warn(msg, FutureWarning)\n"
     ]
    },
    {
     "data": {
      "text/plain": [
       "<AxesSubplot:ylabel='Density'>"
      ]
     },
     "execution_count": 11,
     "metadata": {},
     "output_type": "execute_result"
    },
    {
     "data": {
      "image/png": "[encoded data removed]",
      "text/plain": [
       "<Figure size 768x512 with 1 Axes>"
      ]
     },
     "metadata": {
      "needs_background": "light"
     },
     "output_type": "display_data"
    }
   ],
   "source": [
    "import matplotlib.pyplot as plt\n",
    "plt.figure(dpi=128)\n",
    "sns.distplot(torch.cosine_similarity(classifier-zeroshot_weights_var.to(args.device), classifier).cpu().numpy(), bins=100)\n",
    "sns.distplot(nn_sim[:, 8].cpu().numpy(), bins=100)"
   ]
  },
  {
   "cell_type": "code",
   "execution_count": null,
   "id": "872fb5d9-aa03-48d3-93fc-86187b0e3ed8",
   "metadata": {},
   "outputs": [],
   "source": []
  },
  {
   "cell_type": "code",
   "execution_count": 19,
   "id": "9df2d7e2-920a-4406-b54b-6c654b28f553",
   "metadata": {},
   "outputs": [
    {
     "name": "stderr",
     "output_type": "stream",
     "text": [
      "/home/sheng/anaconda3/envs/gcd/lib/python3.8/site-packages/seaborn/distributions.py:2619: FutureWarning: `distplot` is a deprecated function and will be removed in a future version. Please adapt your code to use either `displot` (a figure-level function with similar flexibility) or `histplot` (an axes-level function for histograms).\n",
      "  warnings.warn(msg, FutureWarning)\n",
      "/home/sheng/anaconda3/envs/gcd/lib/python3.8/site-packages/seaborn/distributions.py:2619: FutureWarning: `distplot` is a deprecated function and will be removed in a future version. Please adapt your code to use either `displot` (a figure-level function with similar flexibility) or `histplot` (an axes-level function for histograms).\n",
      "  warnings.warn(msg, FutureWarning)\n"
     ]
    },
    {
     "data": {
      "text/plain": [
       "<AxesSubplot:ylabel='Density'>"
      ]
     },
     "execution_count": 19,
     "metadata": {},
     "output_type": "execute_result"
    },
    {
     "data": {
      "image/png": "[encoded data removed]",
      "text/plain": [
       "<Figure size 432x288 with 1 Axes>"
      ]
     },
     "metadata": {
      "needs_background": "light"
     },
     "output_type": "display_data"
    }
   ],
   "source": [
    "sns.distplot((classifier - classifier[sim.topk(k=2).indices[:, 1].flatten(), :]).abs().norm(dim=-1).cpu().numpy(), bins=100)\n",
    "sns.distplot(zeroshot_weights_var.norm(dim=-1), bins=100)"
   ]
  },
  {
   "cell_type": "code",
   "execution_count": 14,
   "id": "5671b161-e763-4a34-a270-5256e0c75732",
   "metadata": {},
   "outputs": [
    {
     "name": "stderr",
     "output_type": "stream",
     "text": [
      "/home/sheng/anaconda3/envs/gcd/lib/python3.8/site-packages/seaborn/distributions.py:2619: FutureWarning: `distplot` is a deprecated function and will be removed in a future version. Please adapt your code to use either `displot` (a figure-level function with similar flexibility) or `histplot` (an axes-level function for histograms).\n",
      "  warnings.warn(msg, FutureWarning)\n"
     ]
    },
    {
     "data": {
      "text/plain": [
       "<AxesSubplot:ylabel='Density'>"
      ]
     },
     "execution_count": 14,
     "metadata": {},
     "output_type": "execute_result"
    },
    {
     "data": {
      "image/png": "[encoded data removed]",
      "text/plain": [
       "<Figure size 768x512 with 1 Axes>"
      ]
     },
     "metadata": {
      "needs_background": "light"
     },
     "output_type": "display_data"
    }
   ],
   "source": [
    "import matplotlib.pyplot as plt\n",
    "import seaborn as sns\n",
    "plt.figure(dpi=128)\n",
    "var_cos = torch.cosine_similarity(zeroshot_weights_var.to(args.device), torch.ones_like(zeroshot_weights_var).to(args.device))\n",
    "sns.distplot(1-var_cos.cpu().numpy(), bins=100)"
   ]
  },
  {
   "cell_type": "code",
   "execution_count": 39,
   "id": "3f07b687-c041-4d10-ae6e-890a8a8f4b76",
   "metadata": {},
   "outputs": [],
   "source": [
    "classifier = get_classifier(args)\n",
    "classifier /= classifier.norm(dim=-1, keepdim=True)\n",
    "sim = classifier[all_gt_voc.unique(), :]@classifier.t()\n",
    "knn_ind = sim.topk(k=6).indices[:, 1:]\n",
    "knn_ind = knn_ind.flatten().unique()\n"
   ]
  },
  {
   "cell_type": "code",
   "execution_count": 25,
   "id": "ca8b724f-26b4-4fc3-af32-971a9176853e",
   "metadata": {},
   "outputs": [],
   "source": [
    "all_class_weights = torch.cat(all_class_weights, dim=0)"
   ]
  },
  {
   "cell_type": "code",
   "execution_count": 27,
   "id": "b784f541-afb1-40d3-8c3e-bb7c53ecec9f",
   "metadata": {},
   "outputs": [],
   "source": [
    "all_class_weights /= all_class_weights.norm(dim=-1, keepdim=True)"
   ]
  },
  {
   "cell_type": "code",
   "execution_count": 37,
   "id": "0f677c87-640c-4a50-a611-824452c01449",
   "metadata": {
    "scrolled": true,
    "tags": []
   },
   "outputs": [
    {
     "name": "stdout",
     "output_type": "stream",
     "text": [
      "[t-SNE] Computing 91 nearest neighbors...\n",
      "[t-SNE] Indexed 67174 samples in 0.051s...\n",
      "[t-SNE] Computed neighbors for 67174 samples in 110.542s...\n",
      "[t-SNE] Computed conditional probabilities for sample 1000 / 67174\n",
      "[t-SNE] Computed conditional probabilities for sample 2000 / 67174\n",
      "[t-SNE] Computed conditional probabilities for sample 3000 / 67174\n",
      "[t-SNE] Computed conditional probabilities for sample 4000 / 67174\n",
      "[t-SNE] Computed conditional probabilities for sample 5000 / 67174\n",
      "[t-SNE] Computed conditional probabilities for sample 6000 / 67174\n",
      "[t-SNE] Computed conditional probabilities for sample 7000 / 67174\n",
      "[t-SNE] Computed conditional probabilities for sample 8000 / 67174\n",
      "[t-SNE] Computed conditional probabilities for sample 9000 / 67174\n",
      "[t-SNE] Computed conditional probabilities for sample 10000 / 67174\n",
      "[t-SNE] Computed conditional probabilities for sample 11000 / 67174\n",
      "[t-SNE] Computed conditional probabilities for sample 12000 / 67174\n",
      "[t-SNE] Computed conditional probabilities for sample 13000 / 67174\n",
      "[t-SNE] Computed conditional probabilities for sample 14000 / 67174\n",
      "[t-SNE] Computed conditional probabilities for sample 15000 / 67174\n",
      "[t-SNE] Computed conditional probabilities for sample 16000 / 67174\n",
      "[t-SNE] Computed conditional probabilities for sample 17000 / 67174\n",
      "[t-SNE] Computed conditional probabilities for sample 18000 / 67174\n",
      "[t-SNE] Computed conditional probabilities for sample 19000 / 67174\n",
      "[t-SNE] Computed conditional probabilities for sample 20000 / 67174\n",
      "[t-SNE] Computed conditional probabilities for sample 21000 / 67174\n",
      "[t-SNE] Computed conditional probabilities for sample 22000 / 67174\n",
      "[t-SNE] Computed conditional probabilities for sample 23000 / 67174\n",
      "[t-SNE] Computed conditional probabilities for sample 24000 / 67174\n",
      "[t-SNE] Computed conditional probabilities for sample 25000 / 67174\n",
      "[t-SNE] Computed conditional probabilities for sample 26000 / 67174\n",
      "[t-SNE] Computed conditional probabilities for sample 27000 / 67174\n",
      "[t-SNE] Computed conditional probabilities for sample 28000 / 67174\n",
      "[t-SNE] Computed conditional probabilities for sample 29000 / 67174\n",
      "[t-SNE] Computed conditional probabilities for sample 30000 / 67174\n",
      "[t-SNE] Computed conditional probabilities for sample 31000 / 67174\n",
      "[t-SNE] Computed conditional probabilities for sample 32000 / 67174\n",
      "[t-SNE] Computed conditional probabilities for sample 33000 / 67174\n",
      "[t-SNE] Computed conditional probabilities for sample 34000 / 67174\n",
      "[t-SNE] Computed conditional probabilities for sample 35000 / 67174\n",
      "[t-SNE] Computed conditional probabilities for sample 36000 / 67174\n",
      "[t-SNE] Computed conditional probabilities for sample 37000 / 67174\n",
      "[t-SNE] Computed conditional probabilities for sample 38000 / 67174\n",
      "[t-SNE] Computed conditional probabilities for sample 39000 / 67174\n",
      "[t-SNE] Computed conditional probabilities for sample 40000 / 67174\n",
      "[t-SNE] Computed conditional probabilities for sample 41000 / 67174\n",
      "[t-SNE] Computed conditional probabilities for sample 42000 / 67174\n",
      "[t-SNE] Computed conditional probabilities for sample 43000 / 67174\n",
      "[t-SNE] Computed conditional probabilities for sample 44000 / 67174\n",
      "[t-SNE] Computed conditional probabilities for sample 45000 / 67174\n",
      "[t-SNE] Computed conditional probabilities for sample 46000 / 67174\n",
      "[t-SNE] Computed conditional probabilities for sample 47000 / 67174\n",
      "[t-SNE] Computed conditional probabilities for sample 48000 / 67174\n",
      "[t-SNE] Computed conditional probabilities for sample 49000 / 67174\n",
      "[t-SNE] Computed conditional probabilities for sample 50000 / 67174\n",
      "[t-SNE] Computed conditional probabilities for sample 51000 / 67174\n",
      "[t-SNE] Computed conditional probabilities for sample 52000 / 67174\n",
      "[t-SNE] Computed conditional probabilities for sample 53000 / 67174\n",
      "[t-SNE] Computed conditional probabilities for sample 54000 / 67174\n",
      "[t-SNE] Computed conditional probabilities for sample 55000 / 67174\n",
      "[t-SNE] Computed conditional probabilities for sample 56000 / 67174\n",
      "[t-SNE] Computed conditional probabilities for sample 57000 / 67174\n",
      "[t-SNE] Computed conditional probabilities for sample 58000 / 67174\n",
      "[t-SNE] Computed conditional probabilities for sample 59000 / 67174\n",
      "[t-SNE] Computed conditional probabilities for sample 60000 / 67174\n",
      "[t-SNE] Computed conditional probabilities for sample 61000 / 67174\n",
      "[t-SNE] Computed conditional probabilities for sample 62000 / 67174\n",
      "[t-SNE] Computed conditional probabilities for sample 63000 / 67174\n",
      "[t-SNE] Computed conditional probabilities for sample 64000 / 67174\n",
      "[t-SNE] Computed conditional probabilities for sample 65000 / 67174\n",
      "[t-SNE] Computed conditional probabilities for sample 66000 / 67174\n",
      "[t-SNE] Computed conditional probabilities for sample 67000 / 67174\n",
      "[t-SNE] Computed conditional probabilities for sample 67174 / 67174\n",
      "[t-SNE] Mean sigma: 0.139836\n",
      "[t-SNE] Computed conditional probabilities in 2.583s\n",
      "[t-SNE] Iteration 50: error = 117.6041336, gradient norm = 0.0000001 (50 iterations in 10.227s)\n",
      "[t-SNE] Iteration 50: gradient norm 0.000000. Finished.\n",
      "[t-SNE] KL divergence after 50 iterations with early exaggeration: 117.604134\n",
      "[t-SNE] Iteration 100: error = 7.3148613, gradient norm = 0.0002546 (50 iterations in 9.313s)\n",
      "[t-SNE] Iteration 150: error = 5.6815872, gradient norm = 0.0009252 (50 iterations in 9.522s)\n",
      "[t-SNE] Iteration 200: error = 5.1809077, gradient norm = 0.0005148 (50 iterations in 10.029s)\n",
      "[t-SNE] Iteration 250: error = 4.8927827, gradient norm = 0.0003575 (50 iterations in 9.035s)\n",
      "[t-SNE] Iteration 300: error = 4.6904807, gradient norm = 0.0002730 (50 iterations in 8.861s)\n",
      "[t-SNE] Iteration 350: error = 4.5367389, gradient norm = 0.0002200 (50 iterations in 8.947s)\n",
      "[t-SNE] Iteration 400: error = 4.4134884, gradient norm = 0.0001832 (50 iterations in 7.930s)\n",
      "[t-SNE] Iteration 450: error = 4.3112535, gradient norm = 0.0001565 (50 iterations in 7.818s)\n",
      "[t-SNE] Iteration 500: error = 4.2245445, gradient norm = 0.0001357 (50 iterations in 7.882s)\n",
      "[t-SNE] Iteration 550: error = 4.1495399, gradient norm = 0.0001197 (50 iterations in 8.558s)\n",
      "[t-SNE] Iteration 600: error = 4.0838661, gradient norm = 0.0001070 (50 iterations in 8.115s)\n",
      "[t-SNE] Iteration 650: error = 4.0256062, gradient norm = 0.0000966 (50 iterations in 10.680s)\n",
      "[t-SNE] Iteration 700: error = 3.9734311, gradient norm = 0.0000882 (50 iterations in 12.680s)\n",
      "[t-SNE] Iteration 750: error = 3.9263895, gradient norm = 0.0000808 (50 iterations in 8.798s)\n",
      "[t-SNE] Iteration 800: error = 3.8837426, gradient norm = 0.0000743 (50 iterations in 9.756s)\n",
      "[t-SNE] Iteration 850: error = 3.8447704, gradient norm = 0.0000689 (50 iterations in 9.379s)\n",
      "[t-SNE] Iteration 900: error = 3.8088963, gradient norm = 0.0000640 (50 iterations in 9.101s)\n",
      "[t-SNE] Iteration 950: error = 3.7758515, gradient norm = 0.0000596 (50 iterations in 9.395s)\n",
      "[t-SNE] Iteration 1000: error = 3.7452583, gradient norm = 0.0000561 (50 iterations in 8.869s)\n",
      "[t-SNE] KL divergence after 1000 iterations: 3.745258\n"
     ]
    }
   ],
   "source": [
    "from sklearn.manifold import TSNE\n",
    "\n",
    "tsne = TSNE(n_components=2, verbose=2)\n",
    "anchors = tsne.fit_transform(classifier.cpu().numpy())"
   ]
  },
  {
   "cell_type": "code",
   "execution_count": 44,
   "id": "d3029cb1-7885-4b08-92e0-c864f46734cc",
   "metadata": {},
   "outputs": [
    {
     "data": {
      "image/png": "[encoded data removed]",
      "text/plain": [
       "<Figure size 768x512 with 1 Axes>"
      ]
     },
     "metadata": {
      "needs_background": "light"
     },
     "output_type": "display_data"
    }
   ],
   "source": [
    "plt.figure(dpi=128)\n",
    "plt.scatter(anchors[knn_ind.cpu().numpy(), 0], anchors[knn_ind.cpu().numpy(), 1], c='b', s=2)\n",
    "plt.scatter(anchors[all_gt_voc.unique().numpy(), 0], anchors[all_gt_voc.unique().numpy(), 1], c='r', s=2)\n",
    "plt.show()"
   ]
  },
  {
   "cell_type": "code",
   "execution_count": 46,
   "id": "f5756459-dbc0-40fc-8f28-c8bb1c1d6ba3",
   "metadata": {
    "scrolled": true,
    "tags": []
   },
   "outputs": [
    {
     "name": "stdout",
     "output_type": "stream",
     "text": [
      "[t-SNE] Computing 91 nearest neighbors...\n",
      "[t-SNE] Indexed 8320 samples in 0.004s...\n",
      "[t-SNE] Computed neighbors for 8320 samples in 1.902s...\n",
      "[t-SNE] Computed conditional probabilities for sample 1000 / 8320\n",
      "[t-SNE] Computed conditional probabilities for sample 2000 / 8320\n",
      "[t-SNE] Computed conditional probabilities for sample 3000 / 8320\n",
      "[t-SNE] Computed conditional probabilities for sample 4000 / 8320\n",
      "[t-SNE] Computed conditional probabilities for sample 5000 / 8320\n",
      "[t-SNE] Computed conditional probabilities for sample 6000 / 8320\n",
      "[t-SNE] Computed conditional probabilities for sample 7000 / 8320\n",
      "[t-SNE] Computed conditional probabilities for sample 8000 / 8320\n",
      "[t-SNE] Computed conditional probabilities for sample 8320 / 8320\n",
      "[t-SNE] Mean sigma: 0.244064\n",
      "[t-SNE] Computed conditional probabilities in 0.238s\n",
      "[t-SNE] Iteration 50: error = 94.6075897, gradient norm = 0.0175648 (50 iterations in 1.193s)\n",
      "[t-SNE] Iteration 100: error = 77.9209061, gradient norm = 0.0061843 (50 iterations in 0.747s)\n",
      "[t-SNE] Iteration 150: error = 73.5124741, gradient norm = 0.0037478 (50 iterations in 0.770s)\n",
      "[t-SNE] Iteration 200: error = 71.1149368, gradient norm = 0.0026230 (50 iterations in 1.206s)\n",
      "[t-SNE] Iteration 250: error = 69.5368271, gradient norm = 0.0020868 (50 iterations in 1.114s)\n",
      "[t-SNE] KL divergence after 250 iterations with early exaggeration: 69.536827\n",
      "[t-SNE] Iteration 300: error = 2.1254442, gradient norm = 0.0013204 (50 iterations in 1.187s)\n",
      "[t-SNE] Iteration 350: error = 1.5378773, gradient norm = 0.0005979 (50 iterations in 1.137s)\n",
      "[t-SNE] Iteration 400: error = 1.2635766, gradient norm = 0.0003595 (50 iterations in 0.899s)\n",
      "[t-SNE] Iteration 450: error = 1.1038723, gradient norm = 0.0002487 (50 iterations in 0.708s)\n",
      "[t-SNE] Iteration 500: error = 0.9984083, gradient norm = 0.0001862 (50 iterations in 1.119s)\n",
      "[t-SNE] Iteration 550: error = 0.9243084, gradient norm = 0.0001561 (50 iterations in 1.279s)\n",
      "[t-SNE] Iteration 600: error = 0.8732374, gradient norm = 0.0001304 (50 iterations in 1.218s)\n",
      "[t-SNE] Iteration 650: error = 0.8353158, gradient norm = 0.0001151 (50 iterations in 0.932s)\n",
      "[t-SNE] Iteration 700: error = 0.8061639, gradient norm = 0.0001040 (50 iterations in 1.255s)\n",
      "[t-SNE] Iteration 750: error = 0.7836204, gradient norm = 0.0000949 (50 iterations in 1.252s)\n",
      "[t-SNE] Iteration 800: error = 0.7654355, gradient norm = 0.0000907 (50 iterations in 1.235s)\n",
      "[t-SNE] Iteration 850: error = 0.7507927, gradient norm = 0.0000830 (50 iterations in 1.181s)\n",
      "[t-SNE] Iteration 900: error = 0.7386093, gradient norm = 0.0000809 (50 iterations in 1.235s)\n",
      "[t-SNE] Iteration 950: error = 0.7285826, gradient norm = 0.0000784 (50 iterations in 1.238s)\n",
      "[t-SNE] Iteration 1000: error = 0.7202948, gradient norm = 0.0000766 (50 iterations in 1.207s)\n",
      "[t-SNE] KL divergence after 1000 iterations: 0.720295\n"
     ]
    }
   ],
   "source": [
    "tsne = TSNE(n_components=2, verbose=2)\n",
    "anchors = tsne.fit_transform(all_class_weights[all_gt_voc.unique(), ...].reshape(-1, 512).cpu().numpy())"
   ]
  },
  {
   "cell_type": "code",
   "execution_count": 34,
   "id": "8e6075f8-6c75-42da-b0bc-e7e9c61c45da",
   "metadata": {},
   "outputs": [
    {
     "ename": "AttributeError",
     "evalue": "'TSNE' object has no attribute 'transform'",
     "output_type": "error",
     "traceback": [
      "\u001b[0;31m---------------------------------------------------------------------------\u001b[0m",
      "\u001b[0;31mAttributeError\u001b[0m                            Traceback (most recent call last)",
      "Input \u001b[0;32mIn [34]\u001b[0m, in \u001b[0;36m<cell line: 1>\u001b[0;34m()\u001b[0m\n\u001b[0;32m----> 1\u001b[0m all_class_weights \u001b[38;5;241m=\u001b[39m \u001b[43mtsne\u001b[49m\u001b[38;5;241;43m.\u001b[39;49m\u001b[43mtransform\u001b[49m(all_class_weights\u001b[38;5;241m.\u001b[39mreshape(\u001b[38;5;241m-\u001b[39m\u001b[38;5;241m1\u001b[39m, all_class_weights\u001b[38;5;241m.\u001b[39msize(\u001b[38;5;241m-\u001b[39m\u001b[38;5;241m1\u001b[39m))\u001b[38;5;241m.\u001b[39mcpu()\u001b[38;5;241m.\u001b[39mnumpy())\n",
      "\u001b[0;31mAttributeError\u001b[0m: 'TSNE' object has no attribute 'transform'"
     ]
    }
   ],
   "source": [
    "all_class_weights = tsne.transform(all_class_weights.reshape(-1, all_class_weights.size(-1)).cpu().numpy())"
   ]
  },
  {
   "cell_type": "code",
   "execution_count": 49,
   "id": "ecf1dbfb-0a70-4961-b4ff-c52c2928efbc",
   "metadata": {},
   "outputs": [
    {
     "data": {
      "image/png": "[encoded data removed]",
      "text/plain": [
       "<Figure size 768x512 with 1 Axes>"
      ]
     },
     "metadata": {
      "needs_background": "light"
     },
     "output_type": "display_data"
    }
   ],
   "source": [
    "anchors = anchors.reshape(-1, 80)\n",
    "plt.figure(dpi=128)\n",
    "plt.scatter(anchors[:, 0], anchors[:, 1], c='b', s=1, alpha=0.6)\n",
    "plt.scatter(anchors[:, 0], anchors[:, 1], c='r', s=2)\n",
    "plt.show()"
   ]
  },
  {
   "cell_type": "code",
   "execution_count": 50,
   "id": "331226ae-2fb0-4067-abc7-be97da9ccdf5",
   "metadata": {},
   "outputs": [],
   "source": [
    "anchor2 = all_class_weights[all_gt_voc.unique(), ...]"
   ]
  },
  {
   "cell_type": "code",
   "execution_count": null,
   "id": "eb4c8d01-7785-4e6f-918a-2998cf4b0e59",
   "metadata": {},
   "outputs": [],
   "source": [
    "anchor2."
   ]
  },
  {
   "cell_type": "code",
   "execution_count": 7,
   "id": "655360ed-29e5-4151-99b7-3d9057ddf35d",
   "metadata": {},
   "outputs": [],
   "source": [
    "def get_classifier(args):\n",
    "    if args.use_def:\n",
    "        classifier = torch.load('./cache/wordnet_classifier_def.pth')\n",
    "    else:\n",
    "        classifier = torch.load('./cache/wordnet_classifier.pth')\n",
    "    classifier = classifier.to(args.device)\n",
    "    return classifier\n",
    "\n",
    "classifier = get_classifier(args)"
   ]
  },
  {
   "cell_type": "markdown",
   "id": "93642e9a-d14a-4b10-aaba-c55e8bbd82a4",
   "metadata": {},
   "source": [
    "### CLIP performance investigation -- initial assignment"
   ]
  },
  {
   "cell_type": "markdown",
   "id": "7949eb4f-c18f-432d-902a-e94e36d1b35c",
   "metadata": {},
   "source": [
    "raw performance"
   ]
  },
  {
   "cell_type": "code",
   "execution_count": 20,
   "id": "b1cdfe8b-fa58-40bc-8674-2cef03d64910",
   "metadata": {},
   "outputs": [
    {
     "name": "stderr",
     "output_type": "stream",
     "text": [
      "100%|██████████| 126/126 [02:33<00:00,  1.22s/it]\n"
     ]
    }
   ],
   "source": [
    "classifier = get_classifier(args)\n",
    "use_norm = True\n",
    "amp_autocast = torch.cuda.amp.autocast\n",
    "classifier = classifier/classifier.norm(dim=-1, keepdim=True) if use_norm else classifier\n",
    "# classifier = torch.load('./cache/wordnet_classifier_small_templates.pth')\n",
    "# classifier = classifier.to(args.device)\n",
    "# classifier = classifier/classifier.norm(dim=-1, keepdim=True)\n",
    "\n",
    "all_pred_voc = []\n",
    "all_gt_voc = []\n",
    "all_pred_voc_topk = []\n",
    "with tqdm(total=len(loader_val)) as pbar:\n",
    "    model.eval()\n",
    "    for idx_batch, batch in enumerate(loader_val):\n",
    "        images, label_voc, label_clu, idx_img = batch\n",
    "        images = images.to(args.device)\n",
    "        with amp_autocast():\n",
    "            with torch.no_grad():\n",
    "                logits = model.visual(images)\n",
    "                logits = logits/logits.norm(dim=-1, keepdim=True) if use_norm else logits\n",
    "                similarity = model.logit_scale.exp() * logits @ classifier.t()\n",
    "                prob = similarity.softmax(-1)\n",
    "                all_pred_voc.append(prob.argmax(dim=-1).cpu())\n",
    "                all_gt_voc.append(label_voc)\n",
    "                all_pred_voc_topk.append(prob.topk(k=5, dim=-1).indices.cpu())\n",
    "        pbar.update(1)\n",
    "\n",
    "all_pred_voc = torch.cat(all_pred_voc, dim=0)\n",
    "all_gt_voc = torch.cat(all_gt_voc, dim=0)\n",
    "all_pred_voc_topk = torch.cat(all_pred_voc_topk, dim=0)"
   ]
  },
  {
   "cell_type": "code",
   "execution_count": 19,
   "id": "8f361abf-e0fa-4d37-930d-610e9c08bd6a",
   "metadata": {},
   "outputs": [
    {
     "name": "stdout",
     "output_type": "stream",
     "text": [
      "acc=0.23886258900165558\n"
     ]
    }
   ],
   "source": [
    "print(f'acc={(all_pred_voc == all_gt_voc).float().mean()}')"
   ]
  },
  {
   "cell_type": "code",
   "execution_count": 21,
   "id": "a8342549-3719-42d7-a44b-92385bfda05d",
   "metadata": {},
   "outputs": [
    {
     "name": "stdout",
     "output_type": "stream",
     "text": [
      "acc=0.23542556166648865\n"
     ]
    }
   ],
   "source": [
    "print(f'acc={(all_pred_voc == all_gt_voc).float().mean()}')"
   ]
  },
  {
   "cell_type": "code",
   "execution_count": 21,
   "id": "32cb01d5-b93b-4d9f-8978-09e2b899f620",
   "metadata": {},
   "outputs": [
    {
     "name": "stdout",
     "output_type": "stream",
     "text": [
      "k=0 acc=0.24442307651042938\n",
      "k=1 acc=0.3480769097805023\n",
      "k=2 acc=0.4099999964237213\n",
      "k=3 acc=0.44961538910865784\n",
      "k=4 acc=0.48230770230293274\n"
     ]
    }
   ],
   "source": [
    "### topK accuracy\n",
    "for i in range(all_pred_voc_topk.size(1)):\n",
    "    vec = torch.zeros(all_pred_voc_topk.size(0)).bool()\n",
    "    for j in range(i+1):\n",
    "        vec |= (all_pred_voc_topk[:, j]==all_gt_voc)\n",
    "    print(f'k={i} acc={vec.float().mean()}')"
   ]
  },
  {
   "cell_type": "markdown",
   "id": "ded307e8-bfd9-4f56-881a-e9321be3929d",
   "metadata": {},
   "source": [
    "topK performance"
   ]
  },
  {
   "cell_type": "code",
   "execution_count": 34,
   "id": "a4e62b16-2ad3-4799-b813-db5c545c8ee9",
   "metadata": {
    "scrolled": true,
    "tags": []
   },
   "outputs": [
    {
     "name": "stderr",
     "output_type": "stream",
     "text": [
      "100%|██████████| 5/5 [00:09<00:00,  1.96s/it]\n",
      "100%|██████████| 5/5 [00:10<00:00,  2.00s/it]\n"
     ]
    },
    {
     "name": "stdout",
     "output_type": "stream",
     "text": [
      "acc=0.14640000462532043\n",
      "missing=12\n"
     ]
    },
    {
     "name": "stderr",
     "output_type": "stream",
     "text": [
      "100%|██████████| 5/5 [00:09<00:00,  1.99s/it]\n",
      "100%|██████████| 5/5 [00:09<00:00,  2.00s/it]\n"
     ]
    },
    {
     "name": "stdout",
     "output_type": "stream",
     "text": [
      "acc=0.14820000529289246\n",
      "missing=16\n"
     ]
    },
    {
     "name": "stderr",
     "output_type": "stream",
     "text": [
      "100%|██████████| 5/5 [00:09<00:00,  1.97s/it]\n",
      "100%|██████████| 5/5 [00:09<00:00,  1.93s/it]\n"
     ]
    },
    {
     "name": "stdout",
     "output_type": "stream",
     "text": [
      "acc=0.18000000715255737\n",
      "missing=31\n"
     ]
    },
    {
     "name": "stderr",
     "output_type": "stream",
     "text": [
      "100%|██████████| 5/5 [00:09<00:00,  1.96s/it]\n",
      "100%|██████████| 5/5 [00:09<00:00,  1.89s/it]"
     ]
    },
    {
     "name": "stdout",
     "output_type": "stream",
     "text": [
      "acc=0.2070000022649765\n",
      "missing=40\n"
     ]
    },
    {
     "name": "stderr",
     "output_type": "stream",
     "text": [
      "\n"
     ]
    }
   ],
   "source": [
    "classifier = get_classifier(args)\n",
    "use_soft = True\n",
    "use_norm = True\n",
    "amp_autocast = torch.cuda.amp.autocast\n",
    "classifier = classifier/classifier.norm(dim=-1, keepdim=True) if use_norm else classifier\n",
    "topK = 5\n",
    "voc_beta = 5000\n",
    "mapping_classifier = None\n",
    "\n",
    "for voc_beta in [10000, 5000, 1000, 500]:\n",
    "    \"\"\" compute distribution over classifier\n",
    "    \"\"\"\n",
    "    vec_count = torch.zeros(classifier.size(0))\n",
    "    all_gt_labels = []\n",
    "    with tqdm(total=len(loader_val)) as pbar:\n",
    "        model.eval()\n",
    "        for idx_batch, batch in enumerate(loader_val):\n",
    "            images, label_voc, label_clu, idx_img = batch\n",
    "            images = images.to(args.device)\n",
    "            all_gt_labels.append(label_voc)\n",
    "            with amp_autocast():\n",
    "                with torch.no_grad():\n",
    "                    logits = model.visual(images)\n",
    "                    logits = logits/logits.norm(dim=-1, keepdim=True) if use_norm else logits\n",
    "                    similarity = model.logit_scale.exp() * logits @ classifier.t()\n",
    "                    prob = similarity.softmax(-1)\n",
    "\n",
    "                    topk_prob = prob.topk(k=topK, dim=-1)\n",
    "                    topk_ind = topk_prob.indices\n",
    "                    topk_val = topk_prob.values.flatten().cpu().numpy()\n",
    "                    batch_counter = Counter(topk_ind.flatten().cpu().numpy())\n",
    "                    if use_soft:\n",
    "                        for i, k in enumerate(topk_ind.flatten().cpu().numpy()):\n",
    "                            vec_count[k] += topk_val[i]\n",
    "                    else:\n",
    "                        for k, v in batch_counter.items():\n",
    "                            vec_count[k] += v\n",
    "            pbar.update(1)\n",
    "\n",
    "    all_gt_labels = torch.cat(all_gt_labels, dim=0)\n",
    "    all_valid_idx = vec_count.topk(k=voc_beta).indices\n",
    "    if mapping_classifier is None:\n",
    "        mapping_classifier = torch.tensor(sorted(all_valid_idx), device=args.device)\n",
    "    else:\n",
    "        mapping_classifier = torch.gather(mapping_classifier, 0, torch.tensor(sorted(all_valid_idx), device=args.device))\n",
    "    mask = torch.zeros(classifier.size(0), device=args.device)\n",
    "    mask = torch.scatter(mask, 0, torch.tensor(sorted(all_valid_idx), device=args.device), 1)\n",
    "    classifier = classifier[mask.bool()]\n",
    "\n",
    "    \"\"\" assignment on selected vocab\n",
    "    \"\"\"\n",
    "    all_pred_voc = []\n",
    "    all_gt_voc = []\n",
    "    with tqdm(total=len(loader_val)) as pbar:\n",
    "        model.eval()\n",
    "        for idx_batch, batch in enumerate(loader_val):\n",
    "            images, label_voc, label_clu, idx_img = batch\n",
    "            images = images.to(args.device)\n",
    "            all_gt_voc.append(label_voc)\n",
    "            with amp_autocast():\n",
    "                with torch.no_grad():\n",
    "                    logits = model.visual(images)\n",
    "                    logits = logits/logits.norm(dim=-1, keepdim=True) if use_norm else logits\n",
    "                    similarity = model.logit_scale.exp() * logits @ classifier.t()\n",
    "                    prob = similarity.softmax(-1)\n",
    "\n",
    "                    pred_label = prob.argmax(dim=-1)\n",
    "                    pred_label = torch.gather(mapping_classifier, 0, pred_label)\n",
    "                    all_pred_voc.append(pred_label.cpu())\n",
    "\n",
    "            pbar.update(1)\n",
    "\n",
    "        all_pred_voc = torch.cat(all_pred_voc, dim=0)\n",
    "        all_gt_voc = torch.cat(all_gt_voc, dim=0)\n",
    "        print(f'acc={(all_pred_voc == all_gt_voc).float().mean()}')\n",
    "\n",
    "        print(f'missing={len(set(all_gt_labels.cpu().numpy()) - set(mapping_classifier.cpu().numpy()))}')\n"
   ]
  },
  {
   "cell_type": "code",
   "execution_count": 19,
   "id": "dc7586ee-6282-4a15-8375-bf77fc869308",
   "metadata": {},
   "outputs": [
    {
     "name": "stderr",
     "output_type": "stream",
     "text": [
      "/home/sheng/anaconda3/envs/gcd/lib/python3.8/site-packages/seaborn/distributions.py:2619: FutureWarning: `distplot` is a deprecated function and will be removed in a future version. Please adapt your code to use either `displot` (a figure-level function with similar flexibility) or `histplot` (an axes-level function for histograms).\n",
      "  warnings.warn(msg, FutureWarning)\n"
     ]
    },
    {
     "data": {
      "text/plain": [
       "<AxesSubplot:ylabel='Density'>"
      ]
     },
     "execution_count": 19,
     "metadata": {},
     "output_type": "execute_result"
    },
    {
     "data": {
      "image/png": "[encoded data removed]",
      "text/plain": [
       "<Figure size 432x288 with 1 Axes>"
      ]
     },
     "metadata": {
      "needs_background": "light"
     },
     "output_type": "display_data"
    }
   ],
   "source": [
    "sns.distplot(vec_count.topk(k=voc_beta*dataset.num_classes).values.cpu().numpy(), bins=100)"
   ]
  },
  {
   "cell_type": "code",
   "execution_count": null,
   "id": "6381a3c8-f1a3-429f-b4b6-13a312c5edc2",
   "metadata": {},
   "outputs": [],
   "source": [
    "print(f'acc={(all_pred_voc == all_gt_voc).float().mean()}')"
   ]
  },
  {
   "cell_type": "markdown",
   "id": "7d205833-451c-4539-b20f-227ed64045d9",
   "metadata": {},
   "source": [
    "upperbound"
   ]
  },
  {
   "cell_type": "code",
   "execution_count": null,
   "id": "a57bc5cb-e5af-4528-aabb-a6854c51db4f",
   "metadata": {},
   "outputs": [],
   "source": [
    "classifier = get_classifier(args)\n",
    "use_norm = True\n",
    "amp_autocast = torch.cuda.amp.autocast\n",
    "classifier = classifier/classifier.norm(dim=-1, keepdim=True) if use_norm else classifier\n",
    "\n",
    "mask = torch.zeros(classifier.size(0), device=args.device)\n",
    "mapping_classifier = torch.tensor(sorted(set(dataset.labels)), device=args.device)\n",
    "mask = torch.scatter(mask, 0, mapping_classifier, 1)\n",
    "classifier = classifier[mask.bool()]\n",
    "\n",
    "all_pred_voc = []\n",
    "all_gt_voc = []\n",
    "with tqdm(total=len(loader_val)) as pbar:\n",
    "    model.eval()\n",
    "    for idx_batch, batch in enumerate(loader_val):\n",
    "        images, label_voc, label_clu, idx_img = batch\n",
    "        images = images.to(args.device)\n",
    "        with amp_autocast():\n",
    "            with torch.no_grad():\n",
    "                logits = model.visual(images)\n",
    "                logits = logits/logits.norm(dim=-1, keepdim=True) if use_norm else logits\n",
    "                similarity = model.logit_scale.exp() * logits @ classifier.t()\n",
    "                prob = similarity.softmax(-1)\n",
    "                all_pred_voc.append(prob.argmax(dim=-1).cpu())\n",
    "                all_gt_voc.append(label_voc)\n",
    "        pbar.update(1)\n",
    "\n",
    "all_pred_voc = torch.cat(all_pred_voc, dim=0)\n",
    "all_gt_voc = torch.cat(all_gt_voc, dim=0)\n",
    "\n",
    "all_pred_voc = torch.gather(mapping_classifier.cpu(), 0, all_pred_voc)\n",
    "\n",
    "print(f'acc={(all_pred_voc == all_gt_voc).float().mean()}')"
   ]
  },
  {
   "cell_type": "markdown",
   "id": "52897615-fcd6-4c26-ac22-b75be99ff3a1",
   "metadata": {},
   "source": [
    "hierarchy accuracy"
   ]
  },
  {
   "cell_type": "code",
   "execution_count": null,
   "id": "edef9118-91fc-47ad-9de9-a44437a83c59",
   "metadata": {},
   "outputs": [],
   "source": [
    "classifier = get_classifier(args)\n",
    "use_norm = True\n",
    "amp_autocast = torch.cuda.amp.autocast\n",
    "classifier = classifier/classifier.norm(dim=-1, keepdim=True) if use_norm else classifier\n",
    "\n",
    "\n",
    "all_pred_voc = []\n",
    "all_gt_voc = []\n",
    "with tqdm(total=len(loader_f)) as pbar:\n",
    "    model.eval()\n",
    "    for idx_batch, batch in enumerate(loader_f):\n",
    "        images, label_voc, label_clu, idx_img = batch\n",
    "        images = images.to(args.device)\n",
    "        with amp_autocast():\n",
    "            with torch.no_grad():\n",
    "                logits = model.visual(images)\n",
    "                logits = logits/logits.norm(dim=-1, keepdim=True) if use_norm else logits\n",
    "                similarity = model.logit_scale.exp() * logits @ classifier.t()\n",
    "                prob = similarity.softmax(-1)\n",
    "                all_pred_voc.append(prob.argmax(dim=-1).cpu())\n",
    "                # label_voc = torch.tensor(list(map(lambda x: vocab.mapping_names_idx[x], label_voc)))\n",
    "                all_gt_voc.append(label_voc)\n",
    "        pbar.update(1)\n",
    "\n",
    "all_pred_voc = torch.cat(all_pred_voc, dim=0)\n",
    "all_gt_voc = torch.cat(all_gt_voc, dim=0)"
   ]
  },
  {
   "cell_type": "code",
   "execution_count": null,
   "id": "c9519a02-6a92-4b2d-b350-05d5f4d83c34",
   "metadata": {},
   "outputs": [],
   "source": [
    "mapping_i2gi = vocab.mapping_idx_global_idx\n",
    "isin = lambda x, y: np.array([xx in y for xx in x])\n",
    "all_pred_hier = []\n",
    "for i in range(len(all_gt_voc)):\n",
    "    cond1 = isin(mapping_i2gi[all_gt_voc[i].item()], reduce(lambda x,y: x|y, [parents[p] for p in mapping_i2gi[all_pred_voc[i].item()]])).any()\n",
    "    cond2 = isin(mapping_i2gi[all_pred_voc[i].item()], reduce(lambda x,y: x|y, [parents[p] for p in mapping_i2gi[all_gt_voc[i].item()]])).any()\n",
    "    pred_hier = cond1 | cond2\n",
    "    all_pred_hier.append(pred_hier)"
   ]
  },
  {
   "cell_type": "code",
   "execution_count": null,
   "id": "92b82639-e18e-4da9-a0b7-36f32dfc184b",
   "metadata": {},
   "outputs": [],
   "source": [
    "np.array(all_pred_hier).mean()"
   ]
  },
  {
   "cell_type": "code",
   "execution_count": null,
   "id": "05a45ccd-0b81-4faa-833d-27d9ee4e4dbb",
   "metadata": {},
   "outputs": [],
   "source": [
    "(all_pred_voc==all_gt_voc).float().mean()"
   ]
  },
  {
   "cell_type": "markdown",
   "id": "328d1a80-6c76-41d2-97d3-3863a16490c0",
   "metadata": {},
   "source": [
    "KNN performance investigation"
   ]
  },
  {
   "cell_type": "code",
   "execution_count": 12,
   "id": "2dfb43e8-525b-4d08-a46d-96f8c19d655f",
   "metadata": {},
   "outputs": [],
   "source": [
    "classifier = get_classifier(args)\n",
    "classifier = classifier/classifier.norm(dim=-1, keepdim=True)\n",
    "# classifier = F.normalize(classifier, dim=-1)\n"
   ]
  },
  {
   "cell_type": "code",
   "execution_count": 13,
   "id": "5deebbc7-f951-40f6-bbe2-19ea353341c0",
   "metadata": {},
   "outputs": [],
   "source": [
    "similarity = classifier@classifier.T"
   ]
  },
  {
   "cell_type": "code",
   "execution_count": 15,
   "id": "418ab39c-83e4-4414-9282-85f5db9b1d77",
   "metadata": {},
   "outputs": [],
   "source": [
    "K = 5\n",
    "topk_ind = similarity.topk(k=K+1).indices"
   ]
  },
  {
   "cell_type": "code",
   "execution_count": null,
   "id": "9b5457c3-7439-43d6-88f0-56949b23ce1b",
   "metadata": {
    "scrolled": true,
    "tags": []
   },
   "outputs": [],
   "source": [
    "list(map(lambda x: list(map(lambda y: classnames[y], x)), topk_ind.cpu().numpy().tolist()))"
   ]
  },
  {
   "cell_type": "code",
   "execution_count": 22,
   "id": "e040aa32-b9f8-49d0-b48f-14063c0d670b",
   "metadata": {},
   "outputs": [
    {
     "data": {
      "text/plain": [
       "(82111, tensor(82110, device='cuda:0'))"
      ]
     },
     "execution_count": 22,
     "metadata": {},
     "output_type": "execute_result"
    }
   ],
   "source": [
    "len(classnames)"
   ]
  },
  {
   "cell_type": "markdown",
   "id": "feae789b-5b77-4a51-8964-7959c853c6d6",
   "metadata": {},
   "source": [
    "### SSL performance investigation"
   ]
  },
  {
   "cell_type": "code",
   "execution_count": 18,
   "id": "d03d08de-9921-4117-995a-acdb887815ec",
   "metadata": {},
   "outputs": [
    {
     "name": "stderr",
     "output_type": "stream",
     "text": [
      "Using cache found in /home/sheng/.cache/torch/hub/facebookresearch_dino_main\n"
     ]
    }
   ],
   "source": [
    "arch = 'vit_dino'\n",
    "# arch = 'resnet_dino'\n",
    "\n",
    "def load_checkpoint(arch):\n",
    "    if arch == 'resnet_dino':\n",
    "        ckpt = torch.load('/home/sheng/dino/cache/make_nonliving26-resnet50_test_E500/checkpoint.pth', map_location='cpu')\n",
    "    elif arch == 'vit_dino':\n",
    "        # ckpt = torch.load('/home/sheng/SimGCD/cache/checkpoints/checkpoint.pth', map_location='cpu')\n",
    "        ckpt = torch.load('/home/sheng/OSZSL/cache/nonliving26_vitb16.pth', map_location='cpu')\n",
    "\n",
    "    state_dict = {k[len('module.'):]: v for k, v in ckpt['student'].items() if k.startswith('module.')}\n",
    "    state_dict = {k[len('backbone.'):]: v for k, v in state_dict.items() if k.startswith('backbone.')}\n",
    "    state_dict = torch.load('/home/sheng/dino/checkpoint/dino_vitbase16_pretrain.pth', map_location='cpu')\n",
    "    return state_dict\n",
    "\n",
    "state_dict = load_checkpoint(arch)\n",
    "if arch == 'resnet_dino':\n",
    "    modelf = torchvision.models.resnet50()\n",
    "    modelf.load_state_dict(state_dict, strict=False)\n",
    "    modelf.fc = nn.Identity()\n",
    "elif arch == 'vit_dino':\n",
    "    modelf = torch.hub.load('facebookresearch/dino:main', 'dino_vitb16')\n",
    "    modelf.load_state_dict(state_dict, strict=False)\n",
    "\n",
    "\"\"\" load dataset \"\"\"\n",
    "transform_f = transforms.Compose([\n",
    "    transforms.Resize(256, interpolation=transforms.InterpolationMode.BICUBIC),\n",
    "    transforms.CenterCrop(size=(224, 224)),\n",
    "    transforms.ToTensor(),\n",
    "    transforms.Normalize((0.485, 0.456, 0.406), (0.229, 0.224, 0.225)),\n",
    "])\n",
    "\n",
    "# dataset_f = get_datasets_oszsl(args, vocab, is_train=False, transform=transform_f)\n",
    "dataset_f = get_datasets_oszsl(args, vocab, is_train=True, transform=transform_f, seed=1)\n",
    "loader_f = torch.utils.data.DataLoader(dataset_f, num_workers=8, batch_size=args.batch_size, shuffle=False)"
   ]
  },
  {
   "cell_type": "markdown",
   "id": "8ff27d33-f618-42fb-93a7-e8229194573e",
   "metadata": {},
   "source": [
    "clustering"
   ]
  },
  {
   "cell_type": "code",
   "execution_count": 19,
   "id": "1a55f9a3-8c54-47a7-87c9-abfef3e09bdf",
   "metadata": {},
   "outputs": [
    {
     "name": "stderr",
     "output_type": "stream",
     "text": [
      " 97%|█████████▋| 122/126 [04:36<00:12,  3.05s/it]"
     ]
    }
   ],
   "source": [
    "\"\"\" SSL clustering acc \"\"\"\n",
    "\n",
    "from sklearn.cluster import KMeans\n",
    "\n",
    "all_features = []\n",
    "all_labels = []\n",
    "all_idx_img = []\n",
    "modelf = modelf.to(args.device)\n",
    "modelf.eval()\n",
    "with tqdm(total=len(loader_f)) as pbar:\n",
    "    for batch in loader_f:\n",
    "        images, label_voc, label_clu, idx_img = batch\n",
    "        images = images.to(args.device)\n",
    "        \n",
    "        with torch.no_grad():\n",
    "            features = modelf(images)\n",
    "            features = F.normalize(features, dim=-1)\n",
    "            \n",
    "        all_features.append(features.detach().cpu())\n",
    "        all_labels.append(label_clu)\n",
    "        all_idx_img.append(idx_img)\n",
    "        \n",
    "        pbar.update(1)\n",
    "        \n",
    "all_features = torch.cat(all_features, dim=0)\n",
    "all_labels = torch.cat(all_labels, dim=0)\n",
    "all_idx_img = torch.cat(all_idx_img, dim=0)\n",
    "\n",
    "kmeans = KMeans(n_clusters=len(all_labels.unique()), n_init=100, max_iter=1000, random_state=43)\n",
    "pred_clu = kmeans.fit_predict(all_features.numpy())"
   ]
  },
  {
   "cell_type": "code",
   "execution_count": null,
   "id": "cbea0560-9495-459f-9295-40090979c0cb",
   "metadata": {},
   "outputs": [],
   "source": [
    "np.save(f'./pred_clu-{args.dataset_name}-train-{arch}.npy', pred_clu)\n",
    "# pred_clu = np.load(f'./pred_clu-{args.dataset_name}-train-{arch}.npy')"
   ]
  },
  {
   "cell_type": "code",
   "execution_count": 22,
   "id": "f3e20167-6022-4ee0-8e95-ddd93dde38e9",
   "metadata": {},
   "outputs": [
    {
     "data": {
      "text/plain": [
       "0.7606253394367289"
      ]
     },
     "execution_count": 22,
     "metadata": {},
     "output_type": "execute_result"
    }
   ],
   "source": [
    "from my_util_package.evaluation import cluster_acc\n",
    "\n",
    "cluster_acc(pred_clu, all_labels.numpy())"
   ]
  },
  {
   "cell_type": "code",
   "execution_count": 16,
   "id": "ee72e71e-2619-4f46-884d-630ce5ca068e",
   "metadata": {},
   "outputs": [
    {
     "data": {
      "text/plain": [
       "0.6282692307692308"
      ]
     },
     "execution_count": 16,
     "metadata": {},
     "output_type": "execute_result"
    }
   ],
   "source": [
    "from my_util_package.evaluation import cluster_acc\n",
    "\n",
    "cluster_acc(pred_clu, all_labels.numpy())"
   ]
  },
  {
   "cell_type": "markdown",
   "id": "a8d59f21-7e3a-4d8d-9d92-564e0b290224",
   "metadata": {},
   "source": [
    "CLIP clustering"
   ]
  },
  {
   "cell_type": "code",
   "execution_count": 12,
   "id": "7a8b1f66-2810-4e10-a66f-1e5e8ef58010",
   "metadata": {},
   "outputs": [],
   "source": [
    "pred_clu = np.load(f'./pred_clu-{args.dataset_name}-train-{arch}.npy')"
   ]
  },
  {
   "cell_type": "code",
   "execution_count": 69,
   "id": "b83bf01e-46bb-4aaa-ae59-260bfc32baaa",
   "metadata": {},
   "outputs": [
    {
     "name": "stderr",
     "output_type": "stream",
     "text": [
      "100%|██████████| 130/130 [02:37<00:00,  1.21s/it]\n"
     ]
    }
   ],
   "source": [
    "\"\"\" CLIP clustering acc \"\"\"\n",
    "\n",
    "from sklearn.cluster import KMeans\n",
    "from my_util_package.evaluation import cluster_acc\n",
    "\n",
    "amp_autocast = torch.cuda.amp.autocast\n",
    "all_features = []\n",
    "all_labels = []\n",
    "all_idx_img = []\n",
    "modelf = modelf.to(args.device)\n",
    "modelf.eval()\n",
    "with tqdm(total=len(loader_f)) as pbar:\n",
    "    for batch in loader_f:\n",
    "        images, label_voc, label_clu, idx_img = batch\n",
    "        images = images.to(args.device)\n",
    "        with amp_autocast():\n",
    "            with torch.no_grad():\n",
    "                features = model.visual(images)\n",
    "                features = F.normalize(features, dim=-1)\n",
    "                features = features/features.norm(dim=-1, keepdim=True)\n",
    "        all_features.append(features.detach().cpu())\n",
    "        all_labels.append(label_clu)\n",
    "        all_idx_img.append(idx_img)\n",
    "        \n",
    "        pbar.update(1)\n",
    "        \n",
    "all_features = torch.cat(all_features, dim=0)\n",
    "all_labels = torch.cat(all_labels, dim=0)\n",
    "all_idx_img = torch.cat(all_idx_img, dim=0)\n",
    "\n",
    "cluster_acc(pred_clu, all_labels.numpy())\n",
    "\n",
    "# kmeans = KMeans(n_clusters=len(all_labels.unique()), n_init=100, max_iter=1000, random_state=43)\n",
    "# pred_clu = kmeans.fit_predict(all_features.numpy())"
   ]
  },
  {
   "cell_type": "markdown",
   "id": "006f4feb-e99d-4d4c-aa7c-5c4a801f030c",
   "metadata": {},
   "source": [
    "Cluster navigation (depends on clustering)"
   ]
  },
  {
   "cell_type": "code",
   "execution_count": 55,
   "id": "de786f98-6bb8-4643-b070-de7187cd46aa",
   "metadata": {},
   "outputs": [
    {
     "name": "stderr",
     "output_type": "stream",
     "text": [
      "100%|██████████| 130/130 [02:55<00:00,  1.35s/it]\n"
     ]
    }
   ],
   "source": [
    "\"\"\" topk prediction from CLIP \"\"\"\n",
    "classifier = get_classifier(args)\n",
    "use_norm = True\n",
    "amp_autocast = torch.cuda.amp.autocast\n",
    "classifier = classifier/classifier.norm(dim=-1, keepdim=True) if use_norm else classifier\n",
    "\n",
    "prob_k = 5\n",
    "all_topk_voc = []\n",
    "all_gt_voc = []\n",
    "all_labels = []\n",
    "with tqdm(total=len(loader_f)) as pbar:\n",
    "    model.eval()\n",
    "    for idx_batch, batch in enumerate(loader_f):\n",
    "        images, label_voc, label_clu, idx_img = batch\n",
    "        images = images.to(args.device)\n",
    "        with amp_autocast():\n",
    "            with torch.no_grad():\n",
    "                logits = model.visual(images)\n",
    "                logits = logits/logits.norm(dim=-1, keepdim=True) if use_norm else logits\n",
    "                similarity = model.logit_scale.exp() * logits @ classifier.t()\n",
    "                prob = similarity.softmax(-1)\n",
    "                prob_topk_ind = prob.topk(k=prob_k, dim=-1).indices\n",
    "                pred_topk_scattered = torch.scatter(torch.zeros([images.size(0), classifier.size(0)], \n",
    "                                                                device=args.device), 1, prob_topk_ind, 1)\n",
    "                all_topk_voc.append(pred_topk_scattered.cpu())\n",
    "                all_gt_voc.append(label_voc)\n",
    "        pbar.update(1)\n",
    "\n",
    "all_topk_voc = torch.cat(all_topk_voc, dim=0)\n",
    "all_gt_voc = torch.cat(all_gt_voc, dim=0)"
   ]
  },
  {
   "cell_type": "code",
   "execution_count": 56,
   "id": "fd0cdc6a-707c-45cf-8bda-d76f80bed2bc",
   "metadata": {},
   "outputs": [],
   "source": [
    "from scipy.optimize import linear_sum_assignment as linear_assignment\n",
    "\n",
    "### per predicted-cluster voting\n",
    "pred_kmeans = torch.from_numpy(np.load(f'./pred_clu-{args.dataset_name}-train-{arch}.npy'))\n",
    "\n",
    "pred_kmeans_t = pred_kmeans\n",
    "# for it in range(10):\n",
    "#     print(f'iteration {it}')\n",
    "\n",
    "# cluster agg\n",
    "all_clu_pred = []\n",
    "for i in range(len(all_gt_voc.unique())):\n",
    "    selected = (pred_kmeans==i)\n",
    "    clu_pred = F.normalize(all_topk_voc[selected].sum(dim=0), dim=-1, p=1)\n",
    "    all_clu_pred.append(clu_pred)\n",
    "all_clu_pred = torch.stack(all_clu_pred, dim=0)\n",
    "\n",
    "# linear assignment\n",
    "print('is mutex assignment::', all_clu_pred.argmax(dim=-1).size(0)==all_clu_pred.argmax(dim=-1).unique().size(0))\n",
    "print('assignment collision num::', len(list(filter(lambda x: x>1, Counter(all_clu_pred.argmax(dim=-1).numpy()).values()))))\n",
    "\n",
    "cost_mat = all_clu_pred.cpu().numpy()\n",
    "res_ass = linear_assignment(cost_mat.max() - cost_mat)\n",
    "label_kmeans_voc = torch.tensor([res_ass[1][x.item()] for x in pred_kmeans])\n",
    "\n",
    "print('instance label acc::', (label_kmeans_voc==all_gt_voc).float().mean().item())"
   ]
  },
  {
   "cell_type": "code",
   "execution_count": null,
   "id": "d4979ece-f872-406c-ad93-72b2970f0dd7",
   "metadata": {},
   "outputs": [],
   "source": [
    "prob_k = 5\n",
    "all_topk_voc = []\n",
    "all_gt_voc = []\n",
    "all_labels = []\n",
    "with tqdm(total=len(loader_f)) as pbar:\n",
    "    model.eval()\n",
    "    for idx_batch, batch in enumerate(loader_f):\n",
    "        images, label_voc, label_clu, idx_img = batch\n",
    "        images = images.to(args.device)\n",
    "        with amp_autocast():\n",
    "            with torch.no_grad():\n",
    "                logits = model.visual(images)\n",
    "                logits = logits/logits.norm(dim=-1, keepdim=True) if use_norm else logits\n",
    "                similarity = model.logit_scale.exp() * logits @ classifier.t()\n",
    "                prob = similarity.softmax(-1)\n",
    "                prob_topk_ind = prob.topk(k=prob_k, dim=-1).indices\n",
    "                pred_topk_scattered = torch.scatter(torch.zeros([images.size(0), classifier.size(0)], \n",
    "                                                                device=args.device), 1, prob_topk_ind, 1)\n",
    "                all_topk_voc.append(pred_topk_scattered.cpu())\n",
    "                all_gt_voc.append(label_voc)\n",
    "        pbar.update(1)\n",
    "\n",
    "all_topk_voc = torch.cat(all_topk_voc, dim=0)\n",
    "all_gt_voc = torch.cat(all_gt_voc, dim=0)"
   ]
  },
  {
   "cell_type": "code",
   "execution_count": 30,
   "id": "53f56c2b-1baf-434d-a4fe-7a35fc495272",
   "metadata": {},
   "outputs": [],
   "source": [
    "### subset vocab\n",
    "col_subset = all_clu_pred.nonzero()[:, 1]\n",
    "col_subset = col_subset.unique().sort().values"
   ]
  },
  {
   "cell_type": "markdown",
   "id": "788bf5fc-fcbb-49df-a2c0-a6155255e9c3",
   "metadata": {},
   "source": [
    "KNN investigation"
   ]
  },
  {
   "cell_type": "code",
   "execution_count": 100,
   "id": "52721295-8e5c-4baf-9e70-0434168d1867",
   "metadata": {
    "scrolled": true,
    "tags": []
   },
   "outputs": [
    {
     "name": "stdout",
     "output_type": "stream",
     "text": [
      "K=5 acc=0.8107874989509583\n",
      "K=10 acc=0.7961127161979675\n",
      "K=15 acc=0.7869162559509277\n",
      "K=20 acc=0.7801095843315125\n",
      "K=25 acc=0.7745890617370605\n",
      "K=30 acc=0.7699066996574402\n",
      "K=35 acc=0.7659080028533936\n",
      "K=40 acc=0.7623522877693176\n",
      "K=45 acc=0.7591890692710876\n",
      "K=50 acc=0.7561817765235901\n",
      "K=55 acc=0.7533506155014038\n",
      "K=60 acc=0.7507641315460205\n",
      "K=65 acc=0.7483235597610474\n",
      "K=70 acc=0.7460129857063293\n",
      "K=75 acc=0.7438125014305115\n",
      "K=80 acc=0.7417376041412354\n",
      "K=85 acc=0.7397064566612244\n",
      "K=90 acc=0.7377554774284363\n",
      "K=95 acc=0.7358555197715759\n",
      "K=100 acc=0.7340216636657715\n",
      "K=105 acc=0.7322750687599182\n",
      "K=110 acc=0.7305935025215149\n",
      "K=115 acc=0.7289208173751831\n",
      "K=120 acc=0.7273123860359192\n",
      "K=125 acc=0.7257006168365479\n",
      "K=130 acc=0.7241733074188232\n",
      "K=135 acc=0.7227012515068054\n",
      "K=140 acc=0.7212464213371277\n",
      "K=145 acc=0.7198202610015869\n",
      "K=150 acc=0.718398928642273\n",
      "K=155 acc=0.7170138359069824\n",
      "K=160 acc=0.7156630158424377\n",
      "K=165 acc=0.7143025398254395\n",
      "K=170 acc=0.7130115628242493\n",
      "K=175 acc=0.7117241621017456\n",
      "K=180 acc=0.710436999797821\n",
      "K=185 acc=0.7091713547706604\n",
      "K=190 acc=0.7079212069511414\n",
      "K=195 acc=0.7067065238952637\n",
      "K=200 acc=0.7055022716522217\n",
      "K=205 acc=0.7043085694313049\n",
      "K=210 acc=0.7031314969062805\n",
      "K=215 acc=0.7019805312156677\n",
      "K=220 acc=0.7008157968521118\n",
      "K=225 acc=0.6996738910675049\n",
      "K=230 acc=0.6985485553741455\n",
      "K=235 acc=0.6974479556083679\n",
      "K=240 acc=0.696363627910614\n",
      "K=245 acc=0.6952783465385437\n",
      "K=250 acc=0.6941941380500793\n",
      "K=255 acc=0.6931256651878357\n",
      "K=260 acc=0.6920905709266663\n",
      "K=265 acc=0.6910491585731506\n",
      "K=270 acc=0.6900053024291992\n",
      "K=275 acc=0.6889733076095581\n",
      "K=280 acc=0.6879481077194214\n",
      "K=285 acc=0.6869395971298218\n",
      "K=290 acc=0.6859369874000549\n",
      "K=295 acc=0.6849342584609985\n",
      "K=300 acc=0.6839502453804016\n",
      "K=305 acc=0.6829587817192078\n",
      "K=310 acc=0.6819740533828735\n",
      "K=315 acc=0.680995762348175\n",
      "K=320 acc=0.6800267696380615\n",
      "K=325 acc=0.6790620684623718\n",
      "K=330 acc=0.6780992150306702\n",
      "K=335 acc=0.6771507859230042\n",
      "K=340 acc=0.6762043833732605\n",
      "K=345 acc=0.6752701997756958\n",
      "K=350 acc=0.6743353009223938\n",
      "K=355 acc=0.6733987331390381\n",
      "K=360 acc=0.6724728345870972\n",
      "K=365 acc=0.6715459227561951\n",
      "K=370 acc=0.6706371307373047\n",
      "K=375 acc=0.6697173118591309\n",
      "K=380 acc=0.6688100695610046\n",
      "K=385 acc=0.667914867401123\n",
      "K=390 acc=0.6670118570327759\n",
      "K=395 acc=0.666102945804596\n",
      "K=400 acc=0.6652138829231262\n",
      "K=405 acc=0.6643096804618835\n",
      "K=410 acc=0.6634182929992676\n",
      "K=415 acc=0.6625350713729858\n",
      "K=420 acc=0.6616441011428833\n",
      "K=425 acc=0.6607649922370911\n",
      "K=430 acc=0.6598966717720032\n",
      "K=435 acc=0.6590275168418884\n",
      "K=440 acc=0.6581611633300781\n",
      "K=445 acc=0.6572992205619812\n",
      "K=450 acc=0.6564369201660156\n",
      "K=455 acc=0.6555845737457275\n",
      "K=460 acc=0.6547254323959351\n",
      "K=465 acc=0.653873860836029\n",
      "K=470 acc=0.6530253887176514\n",
      "K=475 acc=0.652183473110199\n",
      "K=480 acc=0.6513412594795227\n",
      "K=485 acc=0.6504963040351868\n",
      "K=490 acc=0.649653434753418\n",
      "K=495 acc=0.6488159894943237\n"
     ]
    }
   ],
   "source": [
    "neighborhood_size = np.arange(5, 500, 5)\n",
    "similarity = all_features@all_features.T\n",
    "label_match = all_labels.view(-1, 1)==all_labels.view(1, -1)\n",
    "for K in neighborhood_size:\n",
    "    topk_res = similarity.topk(k=K+1)\n",
    "    topk_ind = topk_res.indices[:, 1:]\n",
    "    topk_match = torch.gather(label_match, 1, topk_ind)\n",
    "    topk_acc = topk_match.float().mean(dim=-1).mean()\n",
    "    print(f'K={K} acc={topk_acc}')"
   ]
  },
  {
   "cell_type": "code",
   "execution_count": 38,
   "id": "45519d41-07c4-44e5-b649-5b170e3e1325",
   "metadata": {},
   "outputs": [
    {
     "name": "stdout",
     "output_type": "stream",
     "text": [
      "K=5 acc=0.3466602563858032 n_nn=1.424423098564148\n",
      "K=10 acc=0.5352160930633545 n_nn=3.0401923656463623\n",
      "K=15 acc=0.5857036113739014 n_nn=5.204807758331299\n",
      "K=20 acc=0.594992458820343 n_nn=7.054615497589111\n",
      "K=25 acc=0.6047254204750061 n_nn=9.412884712219238\n",
      "K=30 acc=0.5998663902282715 n_nn=12.027307510375977\n",
      "K=35 acc=0.5910140872001648 n_nn=14.467692375183105\n",
      "K=40 acc=0.5803177356719971 n_nn=17.2871150970459\n",
      "K=45 acc=0.5653705596923828 n_nn=19.833847045898438\n"
     ]
    }
   ],
   "source": [
    "from my_util_package.graph import compute_consensus_on_features\n",
    "neighborhood_size = np.arange(5, 50, 5)\n",
    "similarity = all_features@all_features.T\n",
    "label_match = all_labels.view(-1, 1)==all_labels.view(1, -1)\n",
    "for K in neighborhood_size:\n",
    "    _, _, pred_affinity = compute_consensus_on_features(all_features, k=K+1, q=0.8)\n",
    "    acc = ((pred_affinity & label_match).float().sum(1)/(pred_affinity.float().sum(1)+1e-10)).mean()\n",
    "    n_nn = pred_affinity.float().sum(1).mean()\n",
    "    print(f'K={K} acc={acc} n_nn={n_nn}')"
   ]
  },
  {
   "cell_type": "code",
   "execution_count": 39,
   "id": "e970ede6-7bd9-408d-a903-30200acf6f93",
   "metadata": {},
   "outputs": [
    {
     "name": "stdout",
     "output_type": "stream",
     "text": [
      "K=5 acc=0.6286858916282654 n_nn=2.8786537647247314\n",
      "K=10 acc=0.6653698086738586 n_nn=8.064422607421875\n",
      "K=15 acc=0.6409578919410706 n_nn=12.727115631103516\n",
      "K=20 acc=0.6152659058570862 n_nn=17.632692337036133\n",
      "K=25 acc=0.5915889739990234 n_nn=21.950769424438477\n",
      "K=30 acc=0.5527981519699097 n_nn=30.072500228881836\n",
      "K=35 acc=0.5243117809295654 n_nn=36.14250183105469\n",
      "K=40 acc=0.49467185139656067 n_nn=42.7640380859375\n",
      "K=45 acc=0.4639800488948822 n_nn=49.76750183105469\n"
     ]
    }
   ],
   "source": [
    "neighborhood_size = np.arange(5, 50, 5)\n",
    "similarity = all_features@all_features.T\n",
    "label_match = all_labels.view(-1, 1)==all_labels.view(1, -1)\n",
    "for K in neighborhood_size:\n",
    "    _, _, pred_affinity = compute_consensus_on_features(all_features, k=K+1, q=0.5)\n",
    "    acc = ((pred_affinity & label_match).float().sum(1)/(pred_affinity.float().sum(1)+1e-10)).mean()\n",
    "    n_nn = pred_affinity.float().sum(1).mean()\n",
    "    print(f'K={K} acc={acc} n_nn={n_nn}')"
   ]
  },
  {
   "cell_type": "code",
   "execution_count": 75,
   "id": "4a399a6e-531d-41bd-b16e-c8b0b40f9096",
   "metadata": {},
   "outputs": [],
   "source": [
    "\"\"\" KNN matrix output \"\"\"\n",
    "neighborhood_size = 315\n",
    "similarity = all_features@all_features.T\n",
    "label_match = (all_labels.view(-1, 1)==all_labels.view(1, -1))\n",
    "K = neighborhood_size\n",
    "topk_res = similarity.topk(k=K+1)\n",
    "topk_ind = topk_res.indices\n",
    "\n",
    "torch.save(topk_ind, f'./cache/{args.dataset_name}-clip-knn-{neighborhood_size}.pth')"
   ]
  },
  {
   "cell_type": "markdown",
   "id": "cadcd275-c353-44f0-b13c-e47a1729d4c6",
   "metadata": {},
   "source": [
    "### SCD"
   ]
  },
  {
   "cell_type": "code",
   "execution_count": 7,
   "id": "4a0a1f64-e602-447c-9b56-045118530fa3",
   "metadata": {},
   "outputs": [
    {
     "name": "stderr",
     "output_type": "stream",
     "text": [
      "Using cache found in /home/sheng/.cache/torch/hub/facebookresearch_dino_main\n"
     ]
    }
   ],
   "source": [
    "from sklearn.cluster import KMeans\n",
    "from my_util_package.evaluation import cluster_acc\n",
    "from scipy.optimize import linear_sum_assignment as linear_assignment\n",
    "\n",
    "subset = ['train', 'val'][0]\n",
    "modelf = torch.hub.load('facebookresearch/dino:main', 'dino_vitb16')\n",
    "arch = 'vit_dino'\n",
    "\n",
    "\"\"\" load dataset \"\"\"\n",
    "transform_f = transforms.Compose([\n",
    "    transforms.Resize(256, interpolation=transforms.InterpolationMode.BICUBIC),\n",
    "    transforms.CenterCrop(size=(224, 224)),\n",
    "    transforms.ToTensor(),\n",
    "    transforms.Normalize((0.485, 0.456, 0.406), (0.229, 0.224, 0.225)),\n",
    "])\n",
    "\n",
    "# dataset_f = get_datasets_oszsl(args, vocab, is_train=False, transform=transform_f)\n",
    "if subset == 'train':\n",
    "    dataset_f = get_datasets_oszsl(args, vocab, is_train=True, transform=transform_f, seed=1)\n",
    "elif subset == 'val':\n",
    "    dataset_f = get_datasets_oszsl(args, vocab, is_train=False, transform=transform_f, seed=1)\n",
    "args.nb_classes = dataset_f.num_classes\n",
    "loader_f = torch.utils.data.DataLoader(dataset_f, num_workers=8, batch_size=args.batch_size, shuffle=False)\n",
    "\n",
    "if subset == 'train':\n",
    "    pred_kmeans = torch.from_numpy(np.load(f'./pred_clu-{args.dataset_name}-train-{arch}.npy'))\n",
    "elif subset == 'val':\n",
    "    pred_kmeans = torch.from_numpy(np.load(f'./pred_clu-{args.dataset_name}-val-{arch}.npy'))"
   ]
  },
  {
   "cell_type": "code",
   "execution_count": 8,
   "id": "5b73b47b-eb67-48ce-9d9e-b0fc1c8c17b3",
   "metadata": {},
   "outputs": [
    {
     "name": "stdout",
     "output_type": "stream",
     "text": [
      "Model parameters: 149,620,737\n",
      "Input resolution: 224\n",
      "Context length: 77\n",
      "Vocab size: 49408\n"
     ]
    }
   ],
   "source": [
    "model, preprocess = clip.load(args.arch)\n",
    "if args.clip_checkpoint:\n",
    "    model.load_state_dict({k[len('model.'):]:v for k, v in torch.load(args.clip_checkpoint, map_location='cpu')['model'].items()}, strict=False)\n",
    "model.to(args.device).eval()\n",
    "input_resolution = model.visual.input_resolution\n",
    "context_length = model.context_length\n",
    "vocab_size = model.vocab_size\n",
    "\n",
    "print(\"Model parameters:\", f\"{np.sum([int(np.prod(p.shape)) for p in model.parameters()]):,}\")\n",
    "print(\"Input resolution:\", input_resolution)\n",
    "print(\"Context length:\", context_length)\n",
    "print(\"Vocab size:\", vocab_size)"
   ]
  },
  {
   "cell_type": "code",
   "execution_count": 9,
   "id": "6f04ab17-8a37-4f5f-8ea1-19472a568a6a",
   "metadata": {},
   "outputs": [
    {
     "name": "stderr",
     "output_type": "stream",
     "text": [
      "100%|██████████| 130/130 [04:09<00:00,  1.92s/it]\n"
     ]
    }
   ],
   "source": [
    "\"\"\" topk prediction from CLIP \"\"\"\n",
    "classifier = get_classifier(args)\n",
    "use_norm = True\n",
    "amp_autocast = torch.cuda.amp.autocast\n",
    "classifier = classifier/classifier.norm(dim=-1, keepdim=True) if use_norm else classifier\n",
    "\n",
    "# initial topK prediction from CLIP\n",
    "prob_k = 5\n",
    "all_topk_voc = []\n",
    "all_gt_voc = []\n",
    "all_prob = []\n",
    "all_label_clu = []\n",
    "with tqdm(total=len(loader_f)) as pbar:\n",
    "    model.eval()\n",
    "    for idx_batch, batch in enumerate(loader_f):\n",
    "        images, label_voc, label_clu, idx_img = batch\n",
    "        images = images.to(args.device)\n",
    "        with amp_autocast():\n",
    "            with torch.no_grad():\n",
    "                logits = model.visual(images)\n",
    "                logits = logits/logits.norm(dim=-1, keepdim=True) if use_norm else logits\n",
    "                similarity = model.logit_scale.exp() * logits @ classifier.t()\n",
    "                prob = similarity.softmax(-1)\n",
    "                prob_topk_ind = prob.topk(k=prob_k, dim=-1).indices\n",
    "                pred_topk_scattered = torch.scatter(torch.zeros([images.size(0), classifier.size(0)], \n",
    "                                                                device=args.device), 1, prob_topk_ind, 1)\n",
    "                # all_prob.append(prob.cpu())\n",
    "                all_topk_voc.append(pred_topk_scattered.cpu())\n",
    "                all_gt_voc.append(label_voc)\n",
    "                all_label_clu.append(label_clu)\n",
    "        pbar.update(1)\n",
    "\n",
    "# all_prob = torch.cat(all_prob, dim=0)\n",
    "all_topk_voc = torch.cat(all_topk_voc, dim=0)\n",
    "all_gt_voc = torch.cat(all_gt_voc, dim=0)\n",
    "all_label_clu = torch.cat(all_label_clu, dim=0)"
   ]
  },
  {
   "cell_type": "code",
   "execution_count": 10,
   "id": "9a79a6e4-5e06-43cb-ba7e-82de5b1cf268",
   "metadata": {},
   "outputs": [],
   "source": [
    "# cluster agg\n",
    "def agg_by_pred_cluster(args, pred_kmeans, all_topk_voc):\n",
    "    all_clu_pred = []\n",
    "    for i in range(args.nb_classes):\n",
    "        selected = (pred_kmeans==i)\n",
    "        clu_pred = F.normalize(all_topk_voc[selected].sum(dim=0), dim=-1, p=1)\n",
    "        all_clu_pred.append(clu_pred)\n",
    "    all_clu_pred = torch.stack(all_clu_pred, dim=0)\n",
    "    print('is mutex assignment::', all_clu_pred.argmax(dim=-1).size(0)==all_clu_pred.argmax(dim=-1).unique().size(0))\n",
    "    print('assignment collision num::', len(list(filter(lambda x: x>1, Counter(all_clu_pred.argmax(dim=-1).numpy()).values()))))\n",
    "    return all_clu_pred\n",
    "\n",
    "def linear_assign(all_clu_pred, pred_kmeans, all_gt_voc):\n",
    "    cost_mat = all_clu_pred.cpu().numpy()\n",
    "    res_ass = linear_assignment(cost_mat.max() - cost_mat)\n",
    "    label_voc_kmeans = torch.tensor([res_ass[1][x.item()] for x in pred_kmeans])\n",
    "    print('instance label acc::', (label_voc_kmeans==all_gt_voc).float().mean().item())\n",
    "    return label_voc_kmeans, res_ass\n",
    "\n",
    "def reassign_by_pred_cluster(label_voc_kmeans, loader_f, model, classifier, args, all_prob=None):\n",
    "    label_voc_kmeans = label_voc_kmeans.to(args.device)\n",
    "    if all_prob is None:\n",
    "        cluster_ind = []\n",
    "        with tqdm(total=len(loader_f)) as pbar:\n",
    "            model.eval()\n",
    "            for idx_batch, batch in enumerate(loader_f):\n",
    "                images, label_voc, label_clu, idx_img = batch\n",
    "                images = images.to(args.device)\n",
    "                with amp_autocast():\n",
    "                    with torch.no_grad():\n",
    "                        logits = model.visual(images)\n",
    "                        logits = logits/logits.norm(dim=-1, keepdim=True) if use_norm else logits\n",
    "                        similarity = model.logit_scale.exp() * logits @ classifier.t()\n",
    "                        prob = similarity.softmax(-1)\n",
    "                        cluster_ind.append(prob[:, label_voc_kmeans].cpu().argmax(dim=-1))\n",
    "                pbar.update(1)\n",
    "        cluster_ind = torch.cat(cluster_ind, dim=0)\n",
    "    else:\n",
    "        all_prob = all_prob[:, label_voc_kmeans]\n",
    "        cluster_ind = all_prob.argmax(dim=-1)\n",
    "    mapping_ind = dict(zip(cluster_ind.unique().numpy(), torch.arange(cluster_ind.unique().size(0)).numpy()))\n",
    "    cluster_ind = torch.tensor([mapping_ind[x.item()] for x in cluster_ind])\n",
    "    return cluster_ind"
   ]
  },
  {
   "cell_type": "code",
   "execution_count": 11,
   "id": "556e4806-1027-4a44-a160-a637db4fdf6c",
   "metadata": {
    "scrolled": true,
    "tags": []
   },
   "outputs": [
    {
     "name": "stdout",
     "output_type": "stream",
     "text": [
      "is mutex assignment:: False\n",
      "assignment collision num:: 16\n",
      "instance label acc:: 0.3870975077152252\n"
     ]
    },
    {
     "name": "stderr",
     "output_type": "stream",
     "text": [
      "100%|██████████| 130/130 [04:14<00:00,  1.96s/it]\n"
     ]
    },
    {
     "name": "stdout",
     "output_type": "stream",
     "text": [
      "missing label:: 46\n",
      "cluster acc 0.7039656535984634\n",
      "is mutex assignment:: False\n",
      "assignment collision num:: 1\n",
      "instance label acc:: 0.45892366766929626\n"
     ]
    },
    {
     "name": "stderr",
     "output_type": "stream",
     "text": [
      "100%|██████████| 130/130 [05:43<00:00,  2.64s/it]\n"
     ]
    },
    {
     "name": "stdout",
     "output_type": "stream",
     "text": [
      "missing label:: 47\n",
      "cluster acc 0.7052762399728845\n",
      "is mutex assignment:: False\n",
      "assignment collision num:: 1\n",
      "instance label acc:: 0.45892366766929626\n"
     ]
    },
    {
     "name": "stderr",
     "output_type": "stream",
     "text": [
      "100%|██████████| 130/130 [04:35<00:00,  2.12s/it]\n"
     ]
    },
    {
     "name": "stdout",
     "output_type": "stream",
     "text": [
      "missing label:: 47\n",
      "cluster acc 0.7053666252400859\n",
      "is mutex assignment:: False\n",
      "assignment collision num:: 1\n",
      "instance label acc:: 0.4589161276817322\n"
     ]
    },
    {
     "name": "stderr",
     "output_type": "stream",
     "text": [
      "100%|██████████| 130/130 [05:58<00:00,  2.76s/it]\n"
     ]
    },
    {
     "name": "stdout",
     "output_type": "stream",
     "text": [
      "missing label:: 47\n",
      "cluster acc 0.7053666252400859\n",
      "is mutex assignment:: False\n",
      "assignment collision num:: 1\n",
      "instance label acc:: 0.4589161276817322\n"
     ]
    },
    {
     "name": "stderr",
     "output_type": "stream",
     "text": [
      "100%|██████████| 130/130 [04:17<00:00,  1.98s/it]\n"
     ]
    },
    {
     "name": "stdout",
     "output_type": "stream",
     "text": [
      "missing label:: 47\n",
      "cluster acc 0.7053666252400859\n"
     ]
    }
   ],
   "source": [
    "pred_kmeans_t = pred_kmeans\n",
    "for t in range(5):\n",
    "    all_clu_pred = agg_by_pred_cluster(args, pred_kmeans_t, all_topk_voc)\n",
    "    label_voc_kmeans, res_ass = linear_assign(all_clu_pred, pred_kmeans_t, all_gt_voc)\n",
    "    pred_kmeans_t = reassign_by_pred_cluster(label_voc_kmeans, loader_f, model, classifier, args, all_prob=None)\n",
    "    set_pred = set(res_ass[1].tolist())\n",
    "    set_gt = set(all_gt_voc.unique().numpy().tolist())\n",
    "    print('missing label::', len(set_gt - set_pred))\n",
    "    print('cluster acc', cluster_acc(y_true=all_label_clu.numpy(), y_pred=pred_kmeans_t.numpy()))\n"
   ]
  },
  {
   "cell_type": "code",
   "execution_count": 16,
   "id": "c66f7279-c6e2-47d1-b081-271e3994db03",
   "metadata": {},
   "outputs": [],
   "source": [
    "label_match = all_label_clu.view(-1, 1)@all_label_clu.view(1, -1)\n",
    "pred_match_init = pred_kmeans.view(-1, 1)@pred_kmeans.view(1, -1)\n",
    "pred_match = pred_kmeans_t.view(-1, 1)@pred_kmeans_t.view(1, -1)"
   ]
  },
  {
   "cell_type": "code",
   "execution_count": 19,
   "id": "03fbc974-008f-4dfa-9c4b-618bcbf358f2",
   "metadata": {},
   "outputs": [
    {
     "data": {
      "text/plain": [
       "tensor(0.0453)"
      ]
     },
     "execution_count": 19,
     "metadata": {},
     "output_type": "execute_result"
    }
   ],
   "source": [
    "pred_consensus = (pred_match_init==pred_match) \n",
    "((pred_consensus & label_match).float().sum(dim=-1) / (pred_consensus.sum(dim=-1)+1e-20)).mean()"
   ]
  },
  {
   "cell_type": "code",
   "execution_count": 25,
   "id": "2cfae22d-5c05-4e6d-ac26-d3fd78c69dcf",
   "metadata": {},
   "outputs": [
    {
     "data": {
      "text/plain": [
       "tensor(0.2569)"
      ]
     },
     "execution_count": 26,
     "metadata": {},
     "output_type": "execute_result"
    }
   ],
   "source": [
    "(pred_consensus & label_match).float().sum(dim=-1).bool().float().mean()"
   ]
  },
  {
   "cell_type": "code",
   "execution_count": 28,
   "id": "67817627-f7fa-41a6-b783-4986beea5126",
   "metadata": {},
   "outputs": [
    {
     "data": {
      "text/plain": [
       "torch.Size([104, 67174])"
      ]
     },
     "execution_count": 28,
     "metadata": {},
     "output_type": "execute_result"
    }
   ],
   "source": [
    "all_clu_pred"
   ]
  },
  {
   "cell_type": "markdown",
   "id": "e73754a9-3254-4611-a0a0-69a654db3139",
   "metadata": {},
   "source": [
    "text proto distribution inspection"
   ]
  },
  {
   "cell_type": "code",
   "execution_count": 8,
   "id": "3c0d32fa-9dac-437b-8dc4-c7743c15377d",
   "metadata": {},
   "outputs": [],
   "source": [
    "classifier = get_classifier(args)\n",
    "classifier = classifier/classifier.norm(dim=-1, keepdim=True)"
   ]
  },
  {
   "cell_type": "code",
   "execution_count": 10,
   "id": "c4abac8b-2457-4a30-be04-7aeec5954a75",
   "metadata": {},
   "outputs": [],
   "source": [
    "text_sim = classifier@classifier.t()"
   ]
  },
  {
   "cell_type": "code",
   "execution_count": null,
   "id": "65aeecb4-5f92-4495-9c64-88926e9ea92d",
   "metadata": {},
   "outputs": [],
   "source": [
    "text_sim.topk(k=10).values()"
   ]
  }
 ],
 "metadata": {
  "kernelspec": {
   "display_name": "gcd",
   "language": "python",
   "name": "gcd"
  },
  "language_info": {
   "codemirror_mode": {
    "name": "ipython",
    "version": 3
   },
   "file_extension": ".py",
   "mimetype": "text/x-python",
   "name": "python",
   "nbconvert_exporter": "python",
   "pygments_lexer": "ipython3",
   "version": "3.8.13"
  }
 },
 "nbformat": 4,
 "nbformat_minor": 5
}
